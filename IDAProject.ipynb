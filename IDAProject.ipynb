{
  "cells": [
    {
      "cell_type": "markdown",
      "metadata": {
        "id": "WL49uCpQ-dld"
      },
      "source": [
        "# Libraries"
      ]
    },
    {
      "cell_type": "code",
      "execution_count": null,
      "metadata": {
        "id": "CZKUa4hvpV_d"
      },
      "outputs": [],
      "source": [
        "import sklearn\n",
        "import numpy as np\n",
        "import os\n",
        "import xgboost as xgb\n",
        "import pandas as pd\n",
        "import matplotlib.pyplot as plt\n",
        "import itertools\n",
        "import seaborn as sns\n",
        "from xgboost import XGBClassifier\n",
        "from sklearn.preprocessing import Imputer\n",
        "from sklearn.externals import joblib\n",
        "from sklearn.preprocessing import StandardScaler\n",
        "from sklearn.model_selection import train_test_split\n",
        "from sklearn.preprocessing import OneHotEncoder\n",
        "from sklearn.preprocessing import LabelEncoder\n",
        "from sklearn import cross_validation, metrics\n",
        "from sklearn.model_selection import GridSearchCV\n",
        "from sklearn.metrics import classification_report\n",
        "from xgboost import plot_importance\n",
        "from sklearn.metrics import confusion_matrix\n",
        "from sklearn import svm\n",
        "from sklearn.ensemble import IsolationForest\n",
        "\n",
        "import warnings\n",
        "\n",
        "warnings.filterwarnings('ignore')\n",
        "\n",
        "%matplotlib inline"
      ]
    },
    {
      "cell_type": "code",
      "execution_count": null,
      "metadata": {
        "id": "koKYf4QeQd8T"
      },
      "outputs": [],
      "source": [
        "%matplotlib inline\n",
        "\n",
        "import pandas as pd \n",
        "import random\n",
        "import math\n",
        "import numpy as np \n",
        "import seaborn as sns\n",
        "import pylab as plt\n",
        "from sklearn import metrics\n",
        "from sklearn.ensemble import RandomForestClassifier\n",
        "from sklearn.model_selection import train_test_split\n",
        "from sklearn.linear_model import LogisticRegression\n",
        "from sklearn.preprocessing import LabelEncoder\n",
        "from sklearn.model_selection import cross_val_score # Cross Validation\n",
        "from sklearn.model_selection import GridSearchCV\n",
        "from sklearn.metrics import confusion_matrix,classification_report,accuracy_score\n",
        "from collections import Counter\n",
        "from patsy import dmatrices\n",
        "from sklearn.preprocessing import OneHotEncoder\n",
        "from sklearn.tree import DecisionTreeClassifier\n",
        "import warnings\n",
        "warnings.filterwarnings('ignore')"
      ]
    },
    {
      "cell_type": "markdown",
      "metadata": {
        "id": "9KqfWDAGj4N4"
      },
      "source": [
        "# 1. Explore the dataset"
      ]
    },
    {
      "cell_type": "code",
      "execution_count": null,
      "metadata": {
        "colab": {
          "base_uri": "https://localhost:8080/",
          "height": 270
        },
        "id": "2A1HiDLQ4FVi",
        "outputId": "84730a53-0962-4055-e4df-2d11b57ffa9e"
      },
      "outputs": [
        {
          "output_type": "execute_result",
          "data": {
            "text/plain": [
              "   application_key mvar1   mvar2  mvar3  mvar4  mvar5    mvar6  mvar7  \\\n",
              "0           230032  1696  1.6541  0.000    0.0    0.0        0   6015   \n",
              "1           230033  1846  0.8095  0.000    0.0    0.0      102   7532   \n",
              "2           230034  1745  0.4001  0.000    0.0    0.0  missing   2536   \n",
              "3           230035  1739  0.2193  0.000    0.0    0.0     1982  26440   \n",
              "4           230036  1787  0.0118  0.225    0.0    0.0     5451   5494   \n",
              "\n",
              "     mvar8    mvar9 mvar10   mvar11   mvar12   mvar13  mvar14   mvar15 mvar16  \\\n",
              "0      322    40369  18414  missing     6423     3067  123875  missing      1   \n",
              "1     3171    18234  13664  missing      765     1931   42613  missing      0   \n",
              "2  missing  missing   2536  missing  missing  missing   76109  missing     na   \n",
              "3     4955    20316  37013  missing        0        0   84235  missing      0   \n",
              "4     5494     7987   4696  missing     2257    27815  123875   524848      0   \n",
              "\n",
              "  mvar17 mvar18  mvar19 mvar20  mvar21   mvar22  mvar23  mvar24   mvar25  \\\n",
              "0      1      1     3.0      3   94.78  8987.18     NaN   72.25     1462   \n",
              "1      0      0     0.0      0   74.25   953.06  953.06    4.80     1028   \n",
              "2     na     na     0.0      0     NaN      NaN     NaN     NaN  missing   \n",
              "3      0      0     0.0      0     NaN     0.00     NaN    0.00     1308   \n",
              "4      0      0     0.0      0   20.51   796.67     NaN   28.72      801   \n",
              "\n",
              "    mvar26   mvar27 mvar28 mvar29   mvar30   mvar31   mvar32   mvar33 mvar34  \\\n",
              "0     4532     2890     61   4532     1095     3376      625   1.1667      1   \n",
              "1     2099     2099  30386   2281  missing     2251      169   0.4167      0   \n",
              "2  missing  missing    669   4623     3772  missing  missing  25.0833      0   \n",
              "3     2525      791     91   5992  missing     3741      215  10.3333      0   \n",
              "4     2281     2281    487   2707  missing     1947      158   0.9167      0   \n",
              "\n",
              "  mvar35 mvar36 mvar37 mvar38 mvar39   mvar40   mvar41   mvar42 mvar43  \\\n",
              "0      0      8     10      4      1    73.78   82.547  0.08696     10   \n",
              "1      0      8      0      2      0   99.129  missing        0     13   \n",
              "2     na      1     na      1      0  missing    29.29        0      1   \n",
              "3      0      3      3      2      0   96.272  missing  0.15385      3   \n",
              "4      0      2      3      2      0  115.019  missing        0      1   \n",
              "\n",
              "    mvar44 mvar45 mvar46 mvar47  mvar48  mvar49 mvar50 mvar51  default_ind  \n",
              "0  0.63899     na      0      C    10.0   770.0      4   3080          0.0  \n",
              "1  0.63836     na     na      L   732.0   437.0      5   2185          1.0  \n",
              "2  1.00000     na      0      C    89.0   795.0      4   3180          1.0  \n",
              "3  0.53241      0      0      L     3.0   755.0      4   3020          0.0  \n",
              "4  0.92665     na     na      L     5.0   425.0      4   1700          0.0  "
            ],
            "text/html": [
              "\n",
              "  <div id=\"df-5634a4c4-020e-4247-94bb-5888144890ce\">\n",
              "    <div class=\"colab-df-container\">\n",
              "      <div>\n",
              "<style scoped>\n",
              "    .dataframe tbody tr th:only-of-type {\n",
              "        vertical-align: middle;\n",
              "    }\n",
              "\n",
              "    .dataframe tbody tr th {\n",
              "        vertical-align: top;\n",
              "    }\n",
              "\n",
              "    .dataframe thead th {\n",
              "        text-align: right;\n",
              "    }\n",
              "</style>\n",
              "<table border=\"1\" class=\"dataframe\">\n",
              "  <thead>\n",
              "    <tr style=\"text-align: right;\">\n",
              "      <th></th>\n",
              "      <th>application_key</th>\n",
              "      <th>mvar1</th>\n",
              "      <th>mvar2</th>\n",
              "      <th>mvar3</th>\n",
              "      <th>mvar4</th>\n",
              "      <th>mvar5</th>\n",
              "      <th>mvar6</th>\n",
              "      <th>mvar7</th>\n",
              "      <th>mvar8</th>\n",
              "      <th>mvar9</th>\n",
              "      <th>mvar10</th>\n",
              "      <th>mvar11</th>\n",
              "      <th>mvar12</th>\n",
              "      <th>mvar13</th>\n",
              "      <th>mvar14</th>\n",
              "      <th>mvar15</th>\n",
              "      <th>mvar16</th>\n",
              "      <th>mvar17</th>\n",
              "      <th>mvar18</th>\n",
              "      <th>mvar19</th>\n",
              "      <th>mvar20</th>\n",
              "      <th>mvar21</th>\n",
              "      <th>mvar22</th>\n",
              "      <th>mvar23</th>\n",
              "      <th>mvar24</th>\n",
              "      <th>mvar25</th>\n",
              "      <th>mvar26</th>\n",
              "      <th>mvar27</th>\n",
              "      <th>mvar28</th>\n",
              "      <th>mvar29</th>\n",
              "      <th>mvar30</th>\n",
              "      <th>mvar31</th>\n",
              "      <th>mvar32</th>\n",
              "      <th>mvar33</th>\n",
              "      <th>mvar34</th>\n",
              "      <th>mvar35</th>\n",
              "      <th>mvar36</th>\n",
              "      <th>mvar37</th>\n",
              "      <th>mvar38</th>\n",
              "      <th>mvar39</th>\n",
              "      <th>mvar40</th>\n",
              "      <th>mvar41</th>\n",
              "      <th>mvar42</th>\n",
              "      <th>mvar43</th>\n",
              "      <th>mvar44</th>\n",
              "      <th>mvar45</th>\n",
              "      <th>mvar46</th>\n",
              "      <th>mvar47</th>\n",
              "      <th>mvar48</th>\n",
              "      <th>mvar49</th>\n",
              "      <th>mvar50</th>\n",
              "      <th>mvar51</th>\n",
              "      <th>default_ind</th>\n",
              "    </tr>\n",
              "  </thead>\n",
              "  <tbody>\n",
              "    <tr>\n",
              "      <th>0</th>\n",
              "      <td>230032</td>\n",
              "      <td>1696</td>\n",
              "      <td>1.6541</td>\n",
              "      <td>0.000</td>\n",
              "      <td>0.0</td>\n",
              "      <td>0.0</td>\n",
              "      <td>0</td>\n",
              "      <td>6015</td>\n",
              "      <td>322</td>\n",
              "      <td>40369</td>\n",
              "      <td>18414</td>\n",
              "      <td>missing</td>\n",
              "      <td>6423</td>\n",
              "      <td>3067</td>\n",
              "      <td>123875</td>\n",
              "      <td>missing</td>\n",
              "      <td>1</td>\n",
              "      <td>1</td>\n",
              "      <td>1</td>\n",
              "      <td>3.0</td>\n",
              "      <td>3</td>\n",
              "      <td>94.78</td>\n",
              "      <td>8987.18</td>\n",
              "      <td>NaN</td>\n",
              "      <td>72.25</td>\n",
              "      <td>1462</td>\n",
              "      <td>4532</td>\n",
              "      <td>2890</td>\n",
              "      <td>61</td>\n",
              "      <td>4532</td>\n",
              "      <td>1095</td>\n",
              "      <td>3376</td>\n",
              "      <td>625</td>\n",
              "      <td>1.1667</td>\n",
              "      <td>1</td>\n",
              "      <td>0</td>\n",
              "      <td>8</td>\n",
              "      <td>10</td>\n",
              "      <td>4</td>\n",
              "      <td>1</td>\n",
              "      <td>73.78</td>\n",
              "      <td>82.547</td>\n",
              "      <td>0.08696</td>\n",
              "      <td>10</td>\n",
              "      <td>0.63899</td>\n",
              "      <td>na</td>\n",
              "      <td>0</td>\n",
              "      <td>C</td>\n",
              "      <td>10.0</td>\n",
              "      <td>770.0</td>\n",
              "      <td>4</td>\n",
              "      <td>3080</td>\n",
              "      <td>0.0</td>\n",
              "    </tr>\n",
              "    <tr>\n",
              "      <th>1</th>\n",
              "      <td>230033</td>\n",
              "      <td>1846</td>\n",
              "      <td>0.8095</td>\n",
              "      <td>0.000</td>\n",
              "      <td>0.0</td>\n",
              "      <td>0.0</td>\n",
              "      <td>102</td>\n",
              "      <td>7532</td>\n",
              "      <td>3171</td>\n",
              "      <td>18234</td>\n",
              "      <td>13664</td>\n",
              "      <td>missing</td>\n",
              "      <td>765</td>\n",
              "      <td>1931</td>\n",
              "      <td>42613</td>\n",
              "      <td>missing</td>\n",
              "      <td>0</td>\n",
              "      <td>0</td>\n",
              "      <td>0</td>\n",
              "      <td>0.0</td>\n",
              "      <td>0</td>\n",
              "      <td>74.25</td>\n",
              "      <td>953.06</td>\n",
              "      <td>953.06</td>\n",
              "      <td>4.80</td>\n",
              "      <td>1028</td>\n",
              "      <td>2099</td>\n",
              "      <td>2099</td>\n",
              "      <td>30386</td>\n",
              "      <td>2281</td>\n",
              "      <td>missing</td>\n",
              "      <td>2251</td>\n",
              "      <td>169</td>\n",
              "      <td>0.4167</td>\n",
              "      <td>0</td>\n",
              "      <td>0</td>\n",
              "      <td>8</td>\n",
              "      <td>0</td>\n",
              "      <td>2</td>\n",
              "      <td>0</td>\n",
              "      <td>99.129</td>\n",
              "      <td>missing</td>\n",
              "      <td>0</td>\n",
              "      <td>13</td>\n",
              "      <td>0.63836</td>\n",
              "      <td>na</td>\n",
              "      <td>na</td>\n",
              "      <td>L</td>\n",
              "      <td>732.0</td>\n",
              "      <td>437.0</td>\n",
              "      <td>5</td>\n",
              "      <td>2185</td>\n",
              "      <td>1.0</td>\n",
              "    </tr>\n",
              "    <tr>\n",
              "      <th>2</th>\n",
              "      <td>230034</td>\n",
              "      <td>1745</td>\n",
              "      <td>0.4001</td>\n",
              "      <td>0.000</td>\n",
              "      <td>0.0</td>\n",
              "      <td>0.0</td>\n",
              "      <td>missing</td>\n",
              "      <td>2536</td>\n",
              "      <td>missing</td>\n",
              "      <td>missing</td>\n",
              "      <td>2536</td>\n",
              "      <td>missing</td>\n",
              "      <td>missing</td>\n",
              "      <td>missing</td>\n",
              "      <td>76109</td>\n",
              "      <td>missing</td>\n",
              "      <td>na</td>\n",
              "      <td>na</td>\n",
              "      <td>na</td>\n",
              "      <td>0.0</td>\n",
              "      <td>0</td>\n",
              "      <td>NaN</td>\n",
              "      <td>NaN</td>\n",
              "      <td>NaN</td>\n",
              "      <td>NaN</td>\n",
              "      <td>missing</td>\n",
              "      <td>missing</td>\n",
              "      <td>missing</td>\n",
              "      <td>669</td>\n",
              "      <td>4623</td>\n",
              "      <td>3772</td>\n",
              "      <td>missing</td>\n",
              "      <td>missing</td>\n",
              "      <td>25.0833</td>\n",
              "      <td>0</td>\n",
              "      <td>na</td>\n",
              "      <td>1</td>\n",
              "      <td>na</td>\n",
              "      <td>1</td>\n",
              "      <td>0</td>\n",
              "      <td>missing</td>\n",
              "      <td>29.29</td>\n",
              "      <td>0</td>\n",
              "      <td>1</td>\n",
              "      <td>1.00000</td>\n",
              "      <td>na</td>\n",
              "      <td>0</td>\n",
              "      <td>C</td>\n",
              "      <td>89.0</td>\n",
              "      <td>795.0</td>\n",
              "      <td>4</td>\n",
              "      <td>3180</td>\n",
              "      <td>1.0</td>\n",
              "    </tr>\n",
              "    <tr>\n",
              "      <th>3</th>\n",
              "      <td>230035</td>\n",
              "      <td>1739</td>\n",
              "      <td>0.2193</td>\n",
              "      <td>0.000</td>\n",
              "      <td>0.0</td>\n",
              "      <td>0.0</td>\n",
              "      <td>1982</td>\n",
              "      <td>26440</td>\n",
              "      <td>4955</td>\n",
              "      <td>20316</td>\n",
              "      <td>37013</td>\n",
              "      <td>missing</td>\n",
              "      <td>0</td>\n",
              "      <td>0</td>\n",
              "      <td>84235</td>\n",
              "      <td>missing</td>\n",
              "      <td>0</td>\n",
              "      <td>0</td>\n",
              "      <td>0</td>\n",
              "      <td>0.0</td>\n",
              "      <td>0</td>\n",
              "      <td>NaN</td>\n",
              "      <td>0.00</td>\n",
              "      <td>NaN</td>\n",
              "      <td>0.00</td>\n",
              "      <td>1308</td>\n",
              "      <td>2525</td>\n",
              "      <td>791</td>\n",
              "      <td>91</td>\n",
              "      <td>5992</td>\n",
              "      <td>missing</td>\n",
              "      <td>3741</td>\n",
              "      <td>215</td>\n",
              "      <td>10.3333</td>\n",
              "      <td>0</td>\n",
              "      <td>0</td>\n",
              "      <td>3</td>\n",
              "      <td>3</td>\n",
              "      <td>2</td>\n",
              "      <td>0</td>\n",
              "      <td>96.272</td>\n",
              "      <td>missing</td>\n",
              "      <td>0.15385</td>\n",
              "      <td>3</td>\n",
              "      <td>0.53241</td>\n",
              "      <td>0</td>\n",
              "      <td>0</td>\n",
              "      <td>L</td>\n",
              "      <td>3.0</td>\n",
              "      <td>755.0</td>\n",
              "      <td>4</td>\n",
              "      <td>3020</td>\n",
              "      <td>0.0</td>\n",
              "    </tr>\n",
              "    <tr>\n",
              "      <th>4</th>\n",
              "      <td>230036</td>\n",
              "      <td>1787</td>\n",
              "      <td>0.0118</td>\n",
              "      <td>0.225</td>\n",
              "      <td>0.0</td>\n",
              "      <td>0.0</td>\n",
              "      <td>5451</td>\n",
              "      <td>5494</td>\n",
              "      <td>5494</td>\n",
              "      <td>7987</td>\n",
              "      <td>4696</td>\n",
              "      <td>missing</td>\n",
              "      <td>2257</td>\n",
              "      <td>27815</td>\n",
              "      <td>123875</td>\n",
              "      <td>524848</td>\n",
              "      <td>0</td>\n",
              "      <td>0</td>\n",
              "      <td>0</td>\n",
              "      <td>0.0</td>\n",
              "      <td>0</td>\n",
              "      <td>20.51</td>\n",
              "      <td>796.67</td>\n",
              "      <td>NaN</td>\n",
              "      <td>28.72</td>\n",
              "      <td>801</td>\n",
              "      <td>2281</td>\n",
              "      <td>2281</td>\n",
              "      <td>487</td>\n",
              "      <td>2707</td>\n",
              "      <td>missing</td>\n",
              "      <td>1947</td>\n",
              "      <td>158</td>\n",
              "      <td>0.9167</td>\n",
              "      <td>0</td>\n",
              "      <td>0</td>\n",
              "      <td>2</td>\n",
              "      <td>3</td>\n",
              "      <td>2</td>\n",
              "      <td>0</td>\n",
              "      <td>115.019</td>\n",
              "      <td>missing</td>\n",
              "      <td>0</td>\n",
              "      <td>1</td>\n",
              "      <td>0.92665</td>\n",
              "      <td>na</td>\n",
              "      <td>na</td>\n",
              "      <td>L</td>\n",
              "      <td>5.0</td>\n",
              "      <td>425.0</td>\n",
              "      <td>4</td>\n",
              "      <td>1700</td>\n",
              "      <td>0.0</td>\n",
              "    </tr>\n",
              "  </tbody>\n",
              "</table>\n",
              "</div>\n",
              "      <button class=\"colab-df-convert\" onclick=\"convertToInteractive('df-5634a4c4-020e-4247-94bb-5888144890ce')\"\n",
              "              title=\"Convert this dataframe to an interactive table.\"\n",
              "              style=\"display:none;\">\n",
              "        \n",
              "  <svg xmlns=\"http://www.w3.org/2000/svg\" height=\"24px\"viewBox=\"0 0 24 24\"\n",
              "       width=\"24px\">\n",
              "    <path d=\"M0 0h24v24H0V0z\" fill=\"none\"/>\n",
              "    <path d=\"M18.56 5.44l.94 2.06.94-2.06 2.06-.94-2.06-.94-.94-2.06-.94 2.06-2.06.94zm-11 1L8.5 8.5l.94-2.06 2.06-.94-2.06-.94L8.5 2.5l-.94 2.06-2.06.94zm10 10l.94 2.06.94-2.06 2.06-.94-2.06-.94-.94-2.06-.94 2.06-2.06.94z\"/><path d=\"M17.41 7.96l-1.37-1.37c-.4-.4-.92-.59-1.43-.59-.52 0-1.04.2-1.43.59L10.3 9.45l-7.72 7.72c-.78.78-.78 2.05 0 2.83L4 21.41c.39.39.9.59 1.41.59.51 0 1.02-.2 1.41-.59l7.78-7.78 2.81-2.81c.8-.78.8-2.07 0-2.86zM5.41 20L4 18.59l7.72-7.72 1.47 1.35L5.41 20z\"/>\n",
              "  </svg>\n",
              "      </button>\n",
              "      \n",
              "  <style>\n",
              "    .colab-df-container {\n",
              "      display:flex;\n",
              "      flex-wrap:wrap;\n",
              "      gap: 12px;\n",
              "    }\n",
              "\n",
              "    .colab-df-convert {\n",
              "      background-color: #E8F0FE;\n",
              "      border: none;\n",
              "      border-radius: 50%;\n",
              "      cursor: pointer;\n",
              "      display: none;\n",
              "      fill: #1967D2;\n",
              "      height: 32px;\n",
              "      padding: 0 0 0 0;\n",
              "      width: 32px;\n",
              "    }\n",
              "\n",
              "    .colab-df-convert:hover {\n",
              "      background-color: #E2EBFA;\n",
              "      box-shadow: 0px 1px 2px rgba(60, 64, 67, 0.3), 0px 1px 3px 1px rgba(60, 64, 67, 0.15);\n",
              "      fill: #174EA6;\n",
              "    }\n",
              "\n",
              "    [theme=dark] .colab-df-convert {\n",
              "      background-color: #3B4455;\n",
              "      fill: #D2E3FC;\n",
              "    }\n",
              "\n",
              "    [theme=dark] .colab-df-convert:hover {\n",
              "      background-color: #434B5C;\n",
              "      box-shadow: 0px 1px 3px 1px rgba(0, 0, 0, 0.15);\n",
              "      filter: drop-shadow(0px 1px 2px rgba(0, 0, 0, 0.3));\n",
              "      fill: #FFFFFF;\n",
              "    }\n",
              "  </style>\n",
              "\n",
              "      <script>\n",
              "        const buttonEl =\n",
              "          document.querySelector('#df-5634a4c4-020e-4247-94bb-5888144890ce button.colab-df-convert');\n",
              "        buttonEl.style.display =\n",
              "          google.colab.kernel.accessAllowed ? 'block' : 'none';\n",
              "\n",
              "        async function convertToInteractive(key) {\n",
              "          const element = document.querySelector('#df-5634a4c4-020e-4247-94bb-5888144890ce');\n",
              "          const dataTable =\n",
              "            await google.colab.kernel.invokeFunction('convertToInteractive',\n",
              "                                                     [key], {});\n",
              "          if (!dataTable) return;\n",
              "\n",
              "          const docLinkHtml = 'Like what you see? Visit the ' +\n",
              "            '<a target=\"_blank\" href=https://colab.research.google.com/notebooks/data_table.ipynb>data table notebook</a>'\n",
              "            + ' to learn more about interactive tables.';\n",
              "          element.innerHTML = '';\n",
              "          dataTable['output_type'] = 'display_data';\n",
              "          await google.colab.output.renderOutput(dataTable, element);\n",
              "          const docLink = document.createElement('div');\n",
              "          docLink.innerHTML = docLinkHtml;\n",
              "          element.appendChild(docLink);\n",
              "        }\n",
              "      </script>\n",
              "    </div>\n",
              "  </div>\n",
              "  "
            ]
          },
          "metadata": {},
          "execution_count": 2
        }
      ],
      "source": [
        "pd.set_option('display.max_columns', None)\n",
        "\n",
        "customers = pd.read_csv('TrainingData.csv')\n",
        "test = pd.read_csv('testX.csv')\n",
        "\n",
        "customers.head()"
      ]
    },
    {
      "cell_type": "code",
      "execution_count": null,
      "metadata": {
        "colab": {
          "base_uri": "https://localhost:8080/"
        },
        "id": "IKq2CF5Pm4WD",
        "outputId": "97f42610-a74a-4a20-a383-78e088cfaf8e"
      },
      "outputs": [
        {
          "output_type": "execute_result",
          "data": {
            "text/plain": [
              "(18105, 53)"
            ]
          },
          "metadata": {},
          "execution_count": 3
        }
      ],
      "source": [
        "customers.shape"
      ]
    },
    {
      "cell_type": "markdown",
      "metadata": {
        "id": "VKoIZc8DSw3b"
      },
      "source": [
        "We will replace the values that we don't have with NaN. This way it will be easier to handle the data."
      ]
    },
    {
      "cell_type": "code",
      "execution_count": null,
      "metadata": {
        "id": "uUgRDlnNSsPV"
      },
      "outputs": [],
      "source": [
        "customers = customers.replace('missing', np.NaN)\n",
        "customers = customers.replace('na', np.NaN)\n",
        "customers = customers.replace('#VALUE!', np.NaN)\n",
        "customers = customers.replace('N/A', np.NaN)\n",
        "\n",
        "test = test.replace('missing', np.NaN)\n",
        "test = test.replace('na', np.NaN)\n",
        "test = test.replace('#VALUE!', np.NaN)\n",
        "test = test.replace('N/A', np.NaN)"
      ]
    },
    {
      "cell_type": "markdown",
      "metadata": {
        "id": "ObGPDunwhysy"
      },
      "source": [
        "We can see that mvar47 is categorical and we want it to be numerical. We will identify 0 as Charge and 1 as Lending."
      ]
    },
    {
      "cell_type": "code",
      "execution_count": null,
      "metadata": {
        "colab": {
          "base_uri": "https://localhost:8080/"
        },
        "id": "ZBd3MrNiQrvo",
        "outputId": "46116d3c-84b0-4b37-e7b2-635bb1e453c5"
      },
      "outputs": [
        {
          "output_type": "execute_result",
          "data": {
            "text/plain": [
              "0.0    13289\n",
              "1.0     4815\n",
              "Name: default_ind, dtype: int64"
            ]
          },
          "metadata": {},
          "execution_count": 5
        }
      ],
      "source": [
        "customers['default_ind'].value_counts()"
      ]
    },
    {
      "cell_type": "markdown",
      "metadata": {
        "id": "dEtu3E2y3GfG"
      },
      "source": [
        "71.26% are default_ind 0."
      ]
    },
    {
      "cell_type": "markdown",
      "metadata": {
        "id": "g4mqJmM3-xaZ"
      },
      "source": [
        "Convert object dtype to float."
      ]
    },
    {
      "cell_type": "code",
      "execution_count": null,
      "metadata": {
        "id": "w_uyQXgG-oIV"
      },
      "outputs": [],
      "source": [
        "customers = customers.apply(pd.to_numeric, errors ='ignore')\n",
        "test = test.apply(pd.to_numeric, errors ='ignore')\n",
        "\n",
        "customers[\"mvar47\"] = customers[\"mvar47\"].astype(\"category\").cat.codes\n",
        "test[\"mvar47\"] = test[\"mvar47\"].astype(\"category\").cat.codes\n",
        "\n",
        "# get dummies\n",
        "# customers = pd.get_dummies(customers, columns = ['mvar47'])\n",
        "\n",
        "# numeric for all except mvar47\n",
        "# mvar47: C and L make sure it is categorical"
      ]
    },
    {
      "cell_type": "code",
      "execution_count": null,
      "metadata": {
        "colab": {
          "base_uri": "https://localhost:8080/"
        },
        "id": "gRpusP_F6cEd",
        "outputId": "43439860-e8b6-468c-a949-d93234de1576"
      },
      "outputs": [
        {
          "output_type": "stream",
          "name": "stdout",
          "text": [
            "<class 'pandas.core.frame.DataFrame'>\n",
            "RangeIndex: 18105 entries, 0 to 18104\n",
            "Data columns (total 53 columns):\n",
            " #   Column           Non-Null Count  Dtype  \n",
            "---  ------           --------------  -----  \n",
            " 0   application_key  18105 non-null  int64  \n",
            " 1   mvar1            17315 non-null  float64\n",
            " 2   mvar2            16683 non-null  float64\n",
            " 3   mvar3            17989 non-null  float64\n",
            " 4   mvar4            17989 non-null  float64\n",
            " 5   mvar5            17989 non-null  float64\n",
            " 6   mvar6            13805 non-null  float64\n",
            " 7   mvar7            16447 non-null  float64\n",
            " 8   mvar8            13805 non-null  float64\n",
            " 9   mvar9            15663 non-null  float64\n",
            " 10  mvar10           17989 non-null  float64\n",
            " 11  mvar11           7467 non-null   float64\n",
            " 12  mvar12           14948 non-null  float64\n",
            " 13  mvar13           15292 non-null  float64\n",
            " 14  mvar14           18105 non-null  int64  \n",
            " 15  mvar15           10638 non-null  float64\n",
            " 16  mvar16           13908 non-null  float64\n",
            " 17  mvar17           14538 non-null  float64\n",
            " 18  mvar18           14780 non-null  float64\n",
            " 19  mvar19           18104 non-null  float64\n",
            " 20  mvar20           17988 non-null  float64\n",
            " 21  mvar21           12999 non-null  float64\n",
            " 22  mvar22           11157 non-null  float64\n",
            " 23  mvar23           8565 non-null   float64\n",
            " 24  mvar24           13888 non-null  float64\n",
            " 25  mvar25           16442 non-null  float64\n",
            " 26  mvar26           15719 non-null  float64\n",
            " 27  mvar27           15095 non-null  float64\n",
            " 28  mvar28           17988 non-null  float64\n",
            " 29  mvar29           17988 non-null  float64\n",
            " 30  mvar30           9776 non-null   float64\n",
            " 31  mvar31           5201 non-null   float64\n",
            " 32  mvar32           16442 non-null  float64\n",
            " 33  mvar33           17659 non-null  float64\n",
            " 34  mvar34           17988 non-null  float64\n",
            " 35  mvar35           10114 non-null  float64\n",
            " 36  mvar36           17424 non-null  float64\n",
            " 37  mvar37           16442 non-null  float64\n",
            " 38  mvar38           17988 non-null  float64\n",
            " 39  mvar39           16736 non-null  float64\n",
            " 40  mvar40           3727 non-null   float64\n",
            " 41  mvar41           5541 non-null   float64\n",
            " 42  mvar42           17685 non-null  float64\n",
            " 43  mvar43           17919 non-null  float64\n",
            " 44  mvar44           16357 non-null  float64\n",
            " 45  mvar45           8449 non-null   float64\n",
            " 46  mvar46           12992 non-null  float64\n",
            " 47  mvar47           18105 non-null  int8   \n",
            " 48  mvar48           18104 non-null  float64\n",
            " 49  mvar49           18104 non-null  float64\n",
            " 50  mvar50           17314 non-null  float64\n",
            " 51  mvar51           17314 non-null  float64\n",
            " 52  default_ind      18104 non-null  float64\n",
            "dtypes: float64(50), int64(2), int8(1)\n",
            "memory usage: 7.2 MB\n"
          ]
        }
      ],
      "source": [
        "customers.info()"
      ]
    },
    {
      "cell_type": "code",
      "execution_count": null,
      "metadata": {
        "colab": {
          "base_uri": "https://localhost:8080/"
        },
        "id": "Atk54WRzMNR6",
        "outputId": "e1dd25ca-8141-42f7-a6de-4549abe57c23"
      },
      "outputs": [
        {
          "output_type": "stream",
          "name": "stdout",
          "text": [
            "<class 'pandas.core.frame.DataFrame'>\n",
            "RangeIndex: 18198 entries, 0 to 18197\n",
            "Data columns (total 52 columns):\n",
            " #   Column           Non-Null Count  Dtype  \n",
            "---  ------           --------------  -----  \n",
            " 0   application_key  18198 non-null  int64  \n",
            " 1   mvar1            17354 non-null  float64\n",
            " 2   mvar2            16758 non-null  float64\n",
            " 3   mvar3            18076 non-null  float64\n",
            " 4   mvar4            18076 non-null  float64\n",
            " 5   mvar5            18076 non-null  float64\n",
            " 6   mvar6            13649 non-null  float64\n",
            " 7   mvar7            16410 non-null  float64\n",
            " 8   mvar8            13644 non-null  float64\n",
            " 9   mvar9            15552 non-null  float64\n",
            " 10  mvar10           18076 non-null  float64\n",
            " 11  mvar11           7777 non-null   float64\n",
            " 12  mvar12           14845 non-null  float64\n",
            " 13  mvar13           14950 non-null  float64\n",
            " 14  mvar14           18198 non-null  int64  \n",
            " 15  mvar15           10718 non-null  float64\n",
            " 16  mvar16           13754 non-null  float64\n",
            " 17  mvar17           14415 non-null  float64\n",
            " 18  mvar18           14675 non-null  float64\n",
            " 19  mvar19           18191 non-null  float64\n",
            " 20  mvar20           18076 non-null  float64\n",
            " 21  mvar21           12811 non-null  float64\n",
            " 22  mvar22           11096 non-null  float64\n",
            " 23  mvar23           8525 non-null   float64\n",
            " 24  mvar24           13739 non-null  float64\n",
            " 25  mvar25           16448 non-null  float64\n",
            " 26  mvar26           15624 non-null  float64\n",
            " 27  mvar27           15013 non-null  float64\n",
            " 28  mvar28           18075 non-null  float64\n",
            " 29  mvar29           18075 non-null  float64\n",
            " 30  mvar30           9772 non-null   float64\n",
            " 31  mvar31           5280 non-null   float64\n",
            " 32  mvar32           16447 non-null  float64\n",
            " 33  mvar33           17744 non-null  float64\n",
            " 34  mvar34           18075 non-null  float64\n",
            " 35  mvar35           9971 non-null   float64\n",
            " 36  mvar36           17473 non-null  float64\n",
            " 37  mvar37           16447 non-null  float64\n",
            " 38  mvar38           18075 non-null  float64\n",
            " 39  mvar39           16745 non-null  float64\n",
            " 40  mvar40           3816 non-null   float64\n",
            " 41  mvar41           5392 non-null   float64\n",
            " 42  mvar42           17731 non-null  float64\n",
            " 43  mvar43           17997 non-null  float64\n",
            " 44  mvar44           16292 non-null  float64\n",
            " 45  mvar45           8586 non-null   float64\n",
            " 46  mvar46           12956 non-null  float64\n",
            " 47  mvar47           18198 non-null  int8   \n",
            " 48  mvar48           18197 non-null  float64\n",
            " 49  mvar49           18197 non-null  float64\n",
            " 50  mvar50           17353 non-null  float64\n",
            " 51  mvar51           17353 non-null  float64\n",
            "dtypes: float64(49), int64(2), int8(1)\n",
            "memory usage: 7.1 MB\n"
          ]
        }
      ],
      "source": [
        "test.info()"
      ]
    },
    {
      "cell_type": "markdown",
      "metadata": {
        "id": "y8XpzssqmjA5"
      },
      "source": [
        "## Outliers"
      ]
    },
    {
      "cell_type": "code",
      "execution_count": null,
      "metadata": {
        "colab": {
          "base_uri": "https://localhost:8080/",
          "height": 296
        },
        "id": "6vHs4X3QlnJw",
        "outputId": "c277a05f-7490-4640-ef4d-e189f11f8304"
      },
      "outputs": [
        {
          "output_type": "execute_result",
          "data": {
            "text/plain": [
              "<matplotlib.axes._subplots.AxesSubplot at 0x7f421080be20>"
            ]
          },
          "metadata": {},
          "execution_count": 9
        },
        {
          "output_type": "display_data",
          "data": {
            "text/plain": [
              "<Figure size 432x288 with 1 Axes>"
            ],
            "image/png": "[encoded data removed]"
          },
          "metadata": {
            "needs_background": "light"
          }
        }
      ],
      "source": [
        "import seaborn as sns\n",
        "sns.boxplot(x = customers['mvar22']) #mvar2 has many outliers .. ?"
      ]
    },
    {
      "cell_type": "markdown",
      "metadata": {
        "id": "6oQJMbNXm9aa"
      },
      "source": [
        "https://towardsdatascience.com/ways-to-detect-and-remove-the-outliers-404d16608dba"
      ]
    },
    {
      "cell_type": "code",
      "execution_count": null,
      "metadata": {
        "colab": {
          "base_uri": "https://localhost:8080/"
        },
        "id": "gPyTuaD_njyZ",
        "outputId": "4052a6e7-d969-4602-ef45-1327380fa960"
      },
      "outputs": [
        {
          "output_type": "execute_result",
          "data": {
            "text/plain": [
              "(18105, 53)"
            ]
          },
          "metadata": {},
          "execution_count": 10
        }
      ],
      "source": [
        "customers.shape"
      ]
    },
    {
      "cell_type": "code",
      "execution_count": null,
      "metadata": {
        "id": "U4WVcV-ams8O"
      },
      "outputs": [],
      "source": [
        "from scipy import stats\n",
        "import numpy as np\n",
        "z = np.abs(stats.zscore(customers))\n",
        "\n",
        "# threshold is 3\n",
        "# print(np.where(z > 3))\n",
        "\n",
        "Q1 = customers.quantile(0.05)\n",
        "Q3 = customers.quantile(0.95)\n",
        "IQR = Q3 - Q1\n",
        "# print(IQR)\n",
        "\n",
        "customers = customers[~((customers < (Q1 - 2 * IQR)) |(customers > (Q3 + 2 * IQR))).any(axis=1)]"
      ]
    },
    {
      "cell_type": "markdown",
      "metadata": {
        "id": "UwVXcPafBvG9"
      },
      "source": [
        "## Nan Values"
      ]
    },
    {
      "cell_type": "code",
      "execution_count": null,
      "metadata": {
        "colab": {
          "base_uri": "https://localhost:8080/"
        },
        "id": "iBDGwSeqipgT",
        "outputId": "e456e910-36b0-48e3-af5e-2723f9ee0bf7"
      },
      "outputs": [
        {
          "output_type": "execute_result",
          "data": {
            "text/plain": [
              "mvar1            771\n",
              "mvar2           1334\n",
              "mvar3            115\n",
              "mvar4            115\n",
              "mvar5            115\n",
              "mvar6           3930\n",
              "mvar7           1508\n",
              "mvar8           3930\n",
              "mvar9           2242\n",
              "mvar10           115\n",
              "mvar11         10015\n",
              "mvar12          2892\n",
              "mvar13          2613\n",
              "mvar15          6911\n",
              "mvar16          3834\n",
              "mvar17          3254\n",
              "mvar18          3030\n",
              "mvar19             1\n",
              "mvar20           116\n",
              "mvar21          4679\n",
              "mvar22          6360\n",
              "mvar23          8735\n",
              "mvar24          3877\n",
              "mvar25          1542\n",
              "mvar26          2207\n",
              "mvar27          2787\n",
              "mvar28           116\n",
              "mvar29           116\n",
              "mvar30          7720\n",
              "mvar31         12086\n",
              "mvar32          1542\n",
              "mvar33           408\n",
              "mvar34           116\n",
              "mvar35          7339\n",
              "mvar36           662\n",
              "mvar37          1542\n",
              "mvar38           116\n",
              "mvar39          1266\n",
              "mvar40         13329\n",
              "mvar41         11576\n",
              "mvar42           413\n",
              "mvar43           183\n",
              "mvar44          1605\n",
              "mvar45          8938\n",
              "mvar46          4717\n",
              "mvar48             1\n",
              "mvar49             1\n",
              "mvar50           772\n",
              "mvar51           772\n",
              "default_ind        1\n",
              "dtype: int64"
            ]
          },
          "metadata": {},
          "execution_count": 12
        }
      ],
      "source": [
        "nan_cols = customers.isnull().sum()\n",
        "nan_cols[nan_cols>0]"
      ]
    },
    {
      "cell_type": "code",
      "execution_count": null,
      "metadata": {
        "colab": {
          "base_uri": "https://localhost:8080/",
          "height": 1000
        },
        "id": "K8qRzKcK6pfz",
        "outputId": "d6c5df05-f3f6-45e1-ed1a-604b02953268"
      },
      "outputs": [
        {
          "output_type": "display_data",
          "data": {
            "text/plain": [
              "'Number of columns with NaN elements: 50'"
            ],
            "application/vnd.google.colaboratory.intrinsic+json": {
              "type": "string"
            }
          },
          "metadata": {}
        },
        {
          "output_type": "stream",
          "name": "stdout",
          "text": [
            "\n",
            "Percentage of NaN elements in each column in descending order:\n",
            "\n"
          ]
        },
        {
          "output_type": "display_data",
          "data": {
            "text/plain": [
              "mvar40         79.790482\n",
              "mvar31         72.349596\n",
              "mvar41         69.296618\n",
              "mvar11         59.952110\n",
              "mvar45         53.504939\n",
              "mvar23         52.289734\n",
              "mvar30         46.213708\n",
              "mvar35         43.932954\n",
              "mvar15         41.370847\n",
              "mvar22         38.072433\n",
              "mvar46         28.237055\n",
              "mvar21         28.009578\n",
              "mvar6          23.525890\n",
              "mvar8          23.525890\n",
              "mvar24         23.208620\n",
              "mvar16         22.951212\n",
              "mvar17         19.479198\n",
              "mvar18         18.138282\n",
              "mvar12         17.312182\n",
              "mvar27         16.683628\n",
              "mvar13         15.642023\n",
              "mvar9          13.421131\n",
              "mvar26         13.211613\n",
              "mvar44          9.607902\n",
              "mvar25          9.230769\n",
              "mvar32          9.230769\n",
              "mvar37          9.230769\n",
              "mvar7           9.027237\n",
              "mvar2           7.985633\n",
              "mvar39          7.578569\n",
              "mvar50          4.621371\n",
              "mvar51          4.621371\n",
              "mvar1           4.615385\n",
              "mvar36          3.962885\n",
              "mvar42          2.472314\n",
              "mvar33          2.442383\n",
              "mvar43          1.095480\n",
              "mvar20          0.694403\n",
              "mvar34          0.694403\n",
              "mvar28          0.694403\n",
              "mvar29          0.694403\n",
              "mvar38          0.694403\n",
              "mvar10          0.688417\n",
              "mvar5           0.688417\n",
              "mvar4           0.688417\n",
              "mvar3           0.688417\n",
              "mvar19          0.005986\n",
              "mvar48          0.005986\n",
              "mvar49          0.005986\n",
              "default_ind     0.005986\n",
              "dtype: float64"
            ]
          },
          "metadata": {}
        },
        {
          "output_type": "display_data",
          "data": {
            "text/plain": [
              "<Figure size 720x432 with 1 Axes>"
            ],
            "image/png": "[encoded data removed]"
          },
          "metadata": {
            "needs_background": "light"
          }
        }
      ],
      "source": [
        "def check_nan(df: pd.DataFrame) -> None:\n",
        "    nan_cols  = df.isna().mean()*100 \n",
        "    display(f'Number of columns with NaN elements: {len(nan_cols[nan_cols>0])}')\n",
        "    print(\"\\nPercentage of NaN elements in each column in descending order:\\n\")\n",
        "    display(nan_cols[nan_cols>0].sort_values(ascending=False))\n",
        "    plt.figure(figsize=(10,6))\n",
        "    sns.heatmap(df.isna(),yticklabels=False,cmap='viridis', cbar = False)\n",
        "    plt.show();\n",
        "check_nan(customers)"
      ]
    },
    {
      "cell_type": "code",
      "execution_count": null,
      "metadata": {
        "id": "Zi9mFwyY640n"
      },
      "outputs": [],
      "source": [
        "# Drop all variables with more than 40% values missing: 40 31 41 11 23 45 35 30 15\n",
        "\n",
        "customers.drop(['mvar40','mvar31', 'mvar41', 'mvar11', 'mvar45', 'mvar23', 'mvar30', 'mvar35', 'mvar15'], axis = 1, inplace = True)\n",
        "test.drop(['mvar40','mvar31', 'mvar41', 'mvar11', 'mvar45', 'mvar23', 'mvar30', 'mvar35', 'mvar15'], axis = 1, inplace = True)"
      ]
    },
    {
      "cell_type": "code",
      "execution_count": null,
      "metadata": {
        "colab": {
          "base_uri": "https://localhost:8080/",
          "height": 270
        },
        "id": "6jduWd78s5cL",
        "outputId": "e3607b9a-3211-413c-e7a9-5cfa5a90e14f"
      },
      "outputs": [
        {
          "output_type": "execute_result",
          "data": {
            "text/plain": [
              "   application_key   mvar1   mvar2  mvar3  mvar4  mvar5   mvar6    mvar7  \\\n",
              "0           230032  1696.0  1.6541  0.000    0.0    0.0     0.0   6015.0   \n",
              "1           230033  1846.0  0.8095  0.000    0.0    0.0   102.0   7532.0   \n",
              "2           230034  1745.0  0.4001  0.000    0.0    0.0     NaN   2536.0   \n",
              "3           230035  1739.0  0.2193  0.000    0.0    0.0  1982.0  26440.0   \n",
              "4           230036  1787.0  0.0118  0.225    0.0    0.0  5451.0   5494.0   \n",
              "\n",
              "    mvar8    mvar9   mvar10  mvar12   mvar13  mvar14  mvar16  mvar17  mvar18  \\\n",
              "0   322.0  40369.0  18414.0  6423.0   3067.0  123875     1.0     1.0     1.0   \n",
              "1  3171.0  18234.0  13664.0   765.0   1931.0   42613     0.0     0.0     0.0   \n",
              "2     NaN      NaN   2536.0     NaN      NaN   76109     NaN     NaN     NaN   \n",
              "3  4955.0  20316.0  37013.0     0.0      0.0   84235     0.0     0.0     0.0   \n",
              "4  5494.0   7987.0   4696.0  2257.0  27815.0  123875     0.0     0.0     0.0   \n",
              "\n",
              "   mvar19  mvar20  mvar21   mvar22  mvar24  mvar25  mvar26  mvar27   mvar28  \\\n",
              "0     3.0     3.0   94.78  8987.18   72.25  1462.0  4532.0  2890.0     61.0   \n",
              "1     0.0     0.0   74.25   953.06    4.80  1028.0  2099.0  2099.0  30386.0   \n",
              "2     0.0     0.0     NaN      NaN     NaN     NaN     NaN     NaN    669.0   \n",
              "3     0.0     0.0     NaN     0.00    0.00  1308.0  2525.0   791.0     91.0   \n",
              "4     0.0     0.0   20.51   796.67   28.72   801.0  2281.0  2281.0    487.0   \n",
              "\n",
              "   mvar29  mvar32   mvar33  mvar34  mvar36  mvar37  mvar38  mvar39   mvar42  \\\n",
              "0  4532.0   625.0   1.1667     1.0     8.0    10.0     4.0     1.0  0.08696   \n",
              "1  2281.0   169.0   0.4167     0.0     8.0     0.0     2.0     0.0  0.00000   \n",
              "2  4623.0     NaN  25.0833     0.0     1.0     NaN     1.0     0.0  0.00000   \n",
              "3  5992.0   215.0  10.3333     0.0     3.0     3.0     2.0     0.0  0.15385   \n",
              "4  2707.0   158.0   0.9167     0.0     2.0     3.0     2.0     0.0  0.00000   \n",
              "\n",
              "   mvar43   mvar44  mvar46  mvar47  mvar48  mvar49  mvar50  mvar51  \\\n",
              "0    10.0  0.63899     0.0       0    10.0   770.0     4.0  3080.0   \n",
              "1    13.0  0.63836     NaN       1   732.0   437.0     5.0  2185.0   \n",
              "2     1.0  1.00000     0.0       0    89.0   795.0     4.0  3180.0   \n",
              "3     3.0  0.53241     0.0       1     3.0   755.0     4.0  3020.0   \n",
              "4     1.0  0.92665     NaN       1     5.0   425.0     4.0  1700.0   \n",
              "\n",
              "   default_ind  \n",
              "0          0.0  \n",
              "1          1.0  \n",
              "2          1.0  \n",
              "3          0.0  \n",
              "4          0.0  "
            ],
            "text/html": [
              "\n",
              "  <div id=\"df-c6a3431c-8a17-44d5-8c21-67c0b2bfe14d\">\n",
              "    <div class=\"colab-df-container\">\n",
              "      <div>\n",
              "<style scoped>\n",
              "    .dataframe tbody tr th:only-of-type {\n",
              "        vertical-align: middle;\n",
              "    }\n",
              "\n",
              "    .dataframe tbody tr th {\n",
              "        vertical-align: top;\n",
              "    }\n",
              "\n",
              "    .dataframe thead th {\n",
              "        text-align: right;\n",
              "    }\n",
              "</style>\n",
              "<table border=\"1\" class=\"dataframe\">\n",
              "  <thead>\n",
              "    <tr style=\"text-align: right;\">\n",
              "      <th></th>\n",
              "      <th>application_key</th>\n",
              "      <th>mvar1</th>\n",
              "      <th>mvar2</th>\n",
              "      <th>mvar3</th>\n",
              "      <th>mvar4</th>\n",
              "      <th>mvar5</th>\n",
              "      <th>mvar6</th>\n",
              "      <th>mvar7</th>\n",
              "      <th>mvar8</th>\n",
              "      <th>mvar9</th>\n",
              "      <th>mvar10</th>\n",
              "      <th>mvar12</th>\n",
              "      <th>mvar13</th>\n",
              "      <th>mvar14</th>\n",
              "      <th>mvar16</th>\n",
              "      <th>mvar17</th>\n",
              "      <th>mvar18</th>\n",
              "      <th>mvar19</th>\n",
              "      <th>mvar20</th>\n",
              "      <th>mvar21</th>\n",
              "      <th>mvar22</th>\n",
              "      <th>mvar24</th>\n",
              "      <th>mvar25</th>\n",
              "      <th>mvar26</th>\n",
              "      <th>mvar27</th>\n",
              "      <th>mvar28</th>\n",
              "      <th>mvar29</th>\n",
              "      <th>mvar32</th>\n",
              "      <th>mvar33</th>\n",
              "      <th>mvar34</th>\n",
              "      <th>mvar36</th>\n",
              "      <th>mvar37</th>\n",
              "      <th>mvar38</th>\n",
              "      <th>mvar39</th>\n",
              "      <th>mvar42</th>\n",
              "      <th>mvar43</th>\n",
              "      <th>mvar44</th>\n",
              "      <th>mvar46</th>\n",
              "      <th>mvar47</th>\n",
              "      <th>mvar48</th>\n",
              "      <th>mvar49</th>\n",
              "      <th>mvar50</th>\n",
              "      <th>mvar51</th>\n",
              "      <th>default_ind</th>\n",
              "    </tr>\n",
              "  </thead>\n",
              "  <tbody>\n",
              "    <tr>\n",
              "      <th>0</th>\n",
              "      <td>230032</td>\n",
              "      <td>1696.0</td>\n",
              "      <td>1.6541</td>\n",
              "      <td>0.000</td>\n",
              "      <td>0.0</td>\n",
              "      <td>0.0</td>\n",
              "      <td>0.0</td>\n",
              "      <td>6015.0</td>\n",
              "      <td>322.0</td>\n",
              "      <td>40369.0</td>\n",
              "      <td>18414.0</td>\n",
              "      <td>6423.0</td>\n",
              "      <td>3067.0</td>\n",
              "      <td>123875</td>\n",
              "      <td>1.0</td>\n",
              "      <td>1.0</td>\n",
              "      <td>1.0</td>\n",
              "      <td>3.0</td>\n",
              "      <td>3.0</td>\n",
              "      <td>94.78</td>\n",
              "      <td>8987.18</td>\n",
              "      <td>72.25</td>\n",
              "      <td>1462.0</td>\n",
              "      <td>4532.0</td>\n",
              "      <td>2890.0</td>\n",
              "      <td>61.0</td>\n",
              "      <td>4532.0</td>\n",
              "      <td>625.0</td>\n",
              "      <td>1.1667</td>\n",
              "      <td>1.0</td>\n",
              "      <td>8.0</td>\n",
              "      <td>10.0</td>\n",
              "      <td>4.0</td>\n",
              "      <td>1.0</td>\n",
              "      <td>0.08696</td>\n",
              "      <td>10.0</td>\n",
              "      <td>0.63899</td>\n",
              "      <td>0.0</td>\n",
              "      <td>0</td>\n",
              "      <td>10.0</td>\n",
              "      <td>770.0</td>\n",
              "      <td>4.0</td>\n",
              "      <td>3080.0</td>\n",
              "      <td>0.0</td>\n",
              "    </tr>\n",
              "    <tr>\n",
              "      <th>1</th>\n",
              "      <td>230033</td>\n",
              "      <td>1846.0</td>\n",
              "      <td>0.8095</td>\n",
              "      <td>0.000</td>\n",
              "      <td>0.0</td>\n",
              "      <td>0.0</td>\n",
              "      <td>102.0</td>\n",
              "      <td>7532.0</td>\n",
              "      <td>3171.0</td>\n",
              "      <td>18234.0</td>\n",
              "      <td>13664.0</td>\n",
              "      <td>765.0</td>\n",
              "      <td>1931.0</td>\n",
              "      <td>42613</td>\n",
              "      <td>0.0</td>\n",
              "      <td>0.0</td>\n",
              "      <td>0.0</td>\n",
              "      <td>0.0</td>\n",
              "      <td>0.0</td>\n",
              "      <td>74.25</td>\n",
              "      <td>953.06</td>\n",
              "      <td>4.80</td>\n",
              "      <td>1028.0</td>\n",
              "      <td>2099.0</td>\n",
              "      <td>2099.0</td>\n",
              "      <td>30386.0</td>\n",
              "      <td>2281.0</td>\n",
              "      <td>169.0</td>\n",
              "      <td>0.4167</td>\n",
              "      <td>0.0</td>\n",
              "      <td>8.0</td>\n",
              "      <td>0.0</td>\n",
              "      <td>2.0</td>\n",
              "      <td>0.0</td>\n",
              "      <td>0.00000</td>\n",
              "      <td>13.0</td>\n",
              "      <td>0.63836</td>\n",
              "      <td>NaN</td>\n",
              "      <td>1</td>\n",
              "      <td>732.0</td>\n",
              "      <td>437.0</td>\n",
              "      <td>5.0</td>\n",
              "      <td>2185.0</td>\n",
              "      <td>1.0</td>\n",
              "    </tr>\n",
              "    <tr>\n",
              "      <th>2</th>\n",
              "      <td>230034</td>\n",
              "      <td>1745.0</td>\n",
              "      <td>0.4001</td>\n",
              "      <td>0.000</td>\n",
              "      <td>0.0</td>\n",
              "      <td>0.0</td>\n",
              "      <td>NaN</td>\n",
              "      <td>2536.0</td>\n",
              "      <td>NaN</td>\n",
              "      <td>NaN</td>\n",
              "      <td>2536.0</td>\n",
              "      <td>NaN</td>\n",
              "      <td>NaN</td>\n",
              "      <td>76109</td>\n",
              "      <td>NaN</td>\n",
              "      <td>NaN</td>\n",
              "      <td>NaN</td>\n",
              "      <td>0.0</td>\n",
              "      <td>0.0</td>\n",
              "      <td>NaN</td>\n",
              "      <td>NaN</td>\n",
              "      <td>NaN</td>\n",
              "      <td>NaN</td>\n",
              "      <td>NaN</td>\n",
              "      <td>NaN</td>\n",
              "      <td>669.0</td>\n",
              "      <td>4623.0</td>\n",
              "      <td>NaN</td>\n",
              "      <td>25.0833</td>\n",
              "      <td>0.0</td>\n",
              "      <td>1.0</td>\n",
              "      <td>NaN</td>\n",
              "      <td>1.0</td>\n",
              "      <td>0.0</td>\n",
              "      <td>0.00000</td>\n",
              "      <td>1.0</td>\n",
              "      <td>1.00000</td>\n",
              "      <td>0.0</td>\n",
              "      <td>0</td>\n",
              "      <td>89.0</td>\n",
              "      <td>795.0</td>\n",
              "      <td>4.0</td>\n",
              "      <td>3180.0</td>\n",
              "      <td>1.0</td>\n",
              "    </tr>\n",
              "    <tr>\n",
              "      <th>3</th>\n",
              "      <td>230035</td>\n",
              "      <td>1739.0</td>\n",
              "      <td>0.2193</td>\n",
              "      <td>0.000</td>\n",
              "      <td>0.0</td>\n",
              "      <td>0.0</td>\n",
              "      <td>1982.0</td>\n",
              "      <td>26440.0</td>\n",
              "      <td>4955.0</td>\n",
              "      <td>20316.0</td>\n",
              "      <td>37013.0</td>\n",
              "      <td>0.0</td>\n",
              "      <td>0.0</td>\n",
              "      <td>84235</td>\n",
              "      <td>0.0</td>\n",
              "      <td>0.0</td>\n",
              "      <td>0.0</td>\n",
              "      <td>0.0</td>\n",
              "      <td>0.0</td>\n",
              "      <td>NaN</td>\n",
              "      <td>0.00</td>\n",
              "      <td>0.00</td>\n",
              "      <td>1308.0</td>\n",
              "      <td>2525.0</td>\n",
              "      <td>791.0</td>\n",
              "      <td>91.0</td>\n",
              "      <td>5992.0</td>\n",
              "      <td>215.0</td>\n",
              "      <td>10.3333</td>\n",
              "      <td>0.0</td>\n",
              "      <td>3.0</td>\n",
              "      <td>3.0</td>\n",
              "      <td>2.0</td>\n",
              "      <td>0.0</td>\n",
              "      <td>0.15385</td>\n",
              "      <td>3.0</td>\n",
              "      <td>0.53241</td>\n",
              "      <td>0.0</td>\n",
              "      <td>1</td>\n",
              "      <td>3.0</td>\n",
              "      <td>755.0</td>\n",
              "      <td>4.0</td>\n",
              "      <td>3020.0</td>\n",
              "      <td>0.0</td>\n",
              "    </tr>\n",
              "    <tr>\n",
              "      <th>4</th>\n",
              "      <td>230036</td>\n",
              "      <td>1787.0</td>\n",
              "      <td>0.0118</td>\n",
              "      <td>0.225</td>\n",
              "      <td>0.0</td>\n",
              "      <td>0.0</td>\n",
              "      <td>5451.0</td>\n",
              "      <td>5494.0</td>\n",
              "      <td>5494.0</td>\n",
              "      <td>7987.0</td>\n",
              "      <td>4696.0</td>\n",
              "      <td>2257.0</td>\n",
              "      <td>27815.0</td>\n",
              "      <td>123875</td>\n",
              "      <td>0.0</td>\n",
              "      <td>0.0</td>\n",
              "      <td>0.0</td>\n",
              "      <td>0.0</td>\n",
              "      <td>0.0</td>\n",
              "      <td>20.51</td>\n",
              "      <td>796.67</td>\n",
              "      <td>28.72</td>\n",
              "      <td>801.0</td>\n",
              "      <td>2281.0</td>\n",
              "      <td>2281.0</td>\n",
              "      <td>487.0</td>\n",
              "      <td>2707.0</td>\n",
              "      <td>158.0</td>\n",
              "      <td>0.9167</td>\n",
              "      <td>0.0</td>\n",
              "      <td>2.0</td>\n",
              "      <td>3.0</td>\n",
              "      <td>2.0</td>\n",
              "      <td>0.0</td>\n",
              "      <td>0.00000</td>\n",
              "      <td>1.0</td>\n",
              "      <td>0.92665</td>\n",
              "      <td>NaN</td>\n",
              "      <td>1</td>\n",
              "      <td>5.0</td>\n",
              "      <td>425.0</td>\n",
              "      <td>4.0</td>\n",
              "      <td>1700.0</td>\n",
              "      <td>0.0</td>\n",
              "    </tr>\n",
              "  </tbody>\n",
              "</table>\n",
              "</div>\n",
              "      <button class=\"colab-df-convert\" onclick=\"convertToInteractive('df-c6a3431c-8a17-44d5-8c21-67c0b2bfe14d')\"\n",
              "              title=\"Convert this dataframe to an interactive table.\"\n",
              "              style=\"display:none;\">\n",
              "        \n",
              "  <svg xmlns=\"http://www.w3.org/2000/svg\" height=\"24px\"viewBox=\"0 0 24 24\"\n",
              "       width=\"24px\">\n",
              "    <path d=\"M0 0h24v24H0V0z\" fill=\"none\"/>\n",
              "    <path d=\"M18.56 5.44l.94 2.06.94-2.06 2.06-.94-2.06-.94-.94-2.06-.94 2.06-2.06.94zm-11 1L8.5 8.5l.94-2.06 2.06-.94-2.06-.94L8.5 2.5l-.94 2.06-2.06.94zm10 10l.94 2.06.94-2.06 2.06-.94-2.06-.94-.94-2.06-.94 2.06-2.06.94z\"/><path d=\"M17.41 7.96l-1.37-1.37c-.4-.4-.92-.59-1.43-.59-.52 0-1.04.2-1.43.59L10.3 9.45l-7.72 7.72c-.78.78-.78 2.05 0 2.83L4 21.41c.39.39.9.59 1.41.59.51 0 1.02-.2 1.41-.59l7.78-7.78 2.81-2.81c.8-.78.8-2.07 0-2.86zM5.41 20L4 18.59l7.72-7.72 1.47 1.35L5.41 20z\"/>\n",
              "  </svg>\n",
              "      </button>\n",
              "      \n",
              "  <style>\n",
              "    .colab-df-container {\n",
              "      display:flex;\n",
              "      flex-wrap:wrap;\n",
              "      gap: 12px;\n",
              "    }\n",
              "\n",
              "    .colab-df-convert {\n",
              "      background-color: #E8F0FE;\n",
              "      border: none;\n",
              "      border-radius: 50%;\n",
              "      cursor: pointer;\n",
              "      display: none;\n",
              "      fill: #1967D2;\n",
              "      height: 32px;\n",
              "      padding: 0 0 0 0;\n",
              "      width: 32px;\n",
              "    }\n",
              "\n",
              "    .colab-df-convert:hover {\n",
              "      background-color: #E2EBFA;\n",
              "      box-shadow: 0px 1px 2px rgba(60, 64, 67, 0.3), 0px 1px 3px 1px rgba(60, 64, 67, 0.15);\n",
              "      fill: #174EA6;\n",
              "    }\n",
              "\n",
              "    [theme=dark] .colab-df-convert {\n",
              "      background-color: #3B4455;\n",
              "      fill: #D2E3FC;\n",
              "    }\n",
              "\n",
              "    [theme=dark] .colab-df-convert:hover {\n",
              "      background-color: #434B5C;\n",
              "      box-shadow: 0px 1px 3px 1px rgba(0, 0, 0, 0.15);\n",
              "      filter: drop-shadow(0px 1px 2px rgba(0, 0, 0, 0.3));\n",
              "      fill: #FFFFFF;\n",
              "    }\n",
              "  </style>\n",
              "\n",
              "      <script>\n",
              "        const buttonEl =\n",
              "          document.querySelector('#df-c6a3431c-8a17-44d5-8c21-67c0b2bfe14d button.colab-df-convert');\n",
              "        buttonEl.style.display =\n",
              "          google.colab.kernel.accessAllowed ? 'block' : 'none';\n",
              "\n",
              "        async function convertToInteractive(key) {\n",
              "          const element = document.querySelector('#df-c6a3431c-8a17-44d5-8c21-67c0b2bfe14d');\n",
              "          const dataTable =\n",
              "            await google.colab.kernel.invokeFunction('convertToInteractive',\n",
              "                                                     [key], {});\n",
              "          if (!dataTable) return;\n",
              "\n",
              "          const docLinkHtml = 'Like what you see? Visit the ' +\n",
              "            '<a target=\"_blank\" href=https://colab.research.google.com/notebooks/data_table.ipynb>data table notebook</a>'\n",
              "            + ' to learn more about interactive tables.';\n",
              "          element.innerHTML = '';\n",
              "          dataTable['output_type'] = 'display_data';\n",
              "          await google.colab.output.renderOutput(dataTable, element);\n",
              "          const docLink = document.createElement('div');\n",
              "          docLink.innerHTML = docLinkHtml;\n",
              "          element.appendChild(docLink);\n",
              "        }\n",
              "      </script>\n",
              "    </div>\n",
              "  </div>\n",
              "  "
            ]
          },
          "metadata": {},
          "execution_count": 15
        }
      ],
      "source": [
        "customers.head()"
      ]
    },
    {
      "cell_type": "markdown",
      "metadata": {
        "id": "8Y6JGidK3C0N"
      },
      "source": [
        "Should we do something about the empty rows ??? "
      ]
    },
    {
      "cell_type": "code",
      "execution_count": null,
      "metadata": {
        "id": "iweqzbgK22RO"
      },
      "outputs": [],
      "source": [
        "nan_rows = customers.isnull().sum(axis=1) # Rows with missing values\n",
        "\n",
        "row_indx = nan_rows[nan_rows > 35].index.tolist() # Get indexes of rows with more than 25 values missing\n",
        "\n",
        "customers = customers.drop(row_indx) # Drop\n"
      ]
    },
    {
      "cell_type": "code",
      "execution_count": null,
      "metadata": {
        "id": "XrhZqUb9Hj4o"
      },
      "outputs": [],
      "source": [
        "# Drop variables with p-val > 0.05 for LOGISTIC REGRESSION\n",
        "\n",
        "customers.drop(['mvar3','mvar4', 'mvar6', 'mvar7', 'mvar8', 'mvar12', 'mvar14', 'mvar16', 'mvar17', 'mvar20', 'mvar26', 'mvar27', 'mvar39'], axis = 1, inplace = True)\n",
        "test.drop(['mvar3','mvar4', 'mvar6', 'mvar7', 'mvar8', 'mvar12', 'mvar14', 'mvar16', 'mvar17', 'mvar20', 'mvar26', 'mvar27', 'mvar39'], axis = 1, inplace = True)\n"
      ]
    },
    {
      "cell_type": "markdown",
      "metadata": {
        "id": "8Sgs1T4DB3uu"
      },
      "source": [
        "## Correlation"
      ]
    },
    {
      "cell_type": "markdown",
      "metadata": {
        "id": "Y35k8Zfa7TxU"
      },
      "source": [
        "Now we evaluate if the columns in this dataset are strongly correlated."
      ]
    },
    {
      "cell_type": "code",
      "execution_count": null,
      "metadata": {
        "colab": {
          "base_uri": "https://localhost:8080/",
          "height": 670
        },
        "id": "tUSqCksY7dLa",
        "outputId": "71dff95b-8905-4e08-c7e1-dfe2d0dd3362"
      },
      "outputs": [
        {
          "output_type": "display_data",
          "data": {
            "text/plain": [
              "<Figure size 1080x720 with 2 Axes>"
            ],
            "image/png": "[encoded data removed]"
          },
          "metadata": {
            "needs_background": "light"
          }
        }
      ],
      "source": [
        "def colinearity(data):\n",
        "    plt.figure(figsize=(15, 10))\n",
        "    sns.set(style='white')\n",
        "    mask=np.triu(np.ones_like(data.corr(), dtype=bool))\n",
        "    cmap=sns.diverging_palette(0, 10, as_cmap=True)\n",
        "    sns.heatmap(data.corr(),mask=mask,cmap=cmap,center=0,\n",
        "              square=True,annot=True,linewidths=0.5,cbar_kws={'shrink': 0.5});\n",
        "colinearity(customers)"
      ]
    },
    {
      "cell_type": "markdown",
      "metadata": {
        "id": "eZ7SNc9x7vNC"
      },
      "source": [
        "We see that there are some highly correlated columns. We do not need these for our model.\n",
        "\n",
        "We want the dataset to contain less than xx% correlated columns, and we also want to remove as few columns as we can. "
      ]
    },
    {
      "cell_type": "code",
      "execution_count": null,
      "metadata": {
        "id": "0wIVCRBqa2Oq"
      },
      "outputs": [],
      "source": [
        "def eliminate_correlated_columns(dataframe, threshold):\n",
        "    # Create correlation matrix\n",
        "    corr_matrix = dataframe.corr().abs()\n",
        "\n",
        "    # Select upper triangle of correlation matrix\n",
        "    upper = corr_matrix.where(\n",
        "        np.triu(np.ones(corr_matrix.shape), k=1).astype(np.bool)\n",
        "    )\n",
        "\n",
        "    # Find index of feature columns with correlation greater than threshold\n",
        "    to_drop = [\n",
        "        column for column in upper.columns if any(upper[column] > threshold)\n",
        "    ]\n",
        "\n",
        "    # Drop features\n",
        "    dataframe = dataframe.drop(dataframe[to_drop], axis=1)\n",
        "\n",
        "    return dataframe\n",
        "\n",
        "customers = eliminate_correlated_columns(customers, threshold = 0.7)"
      ]
    },
    {
      "cell_type": "code",
      "execution_count": null,
      "metadata": {
        "colab": {
          "base_uri": "https://localhost:8080/",
          "height": 270
        },
        "id": "ne9GW1tYbOAP",
        "outputId": "2c3d3a29-64a4-44c8-fa0d-9df8c137c931"
      },
      "outputs": [
        {
          "output_type": "execute_result",
          "data": {
            "text/plain": [
              "   application_key   mvar1   mvar2  mvar5    mvar9   mvar10   mvar13  mvar18  \\\n",
              "0           230032  1696.0  1.6541    0.0  40369.0  18414.0   3067.0     1.0   \n",
              "1           230033  1846.0  0.8095    0.0  18234.0  13664.0   1931.0     0.0   \n",
              "2           230034  1745.0  0.4001    0.0      NaN   2536.0      NaN     NaN   \n",
              "3           230035  1739.0  0.2193    0.0  20316.0  37013.0      0.0     0.0   \n",
              "4           230036  1787.0  0.0118    0.0   7987.0   4696.0  27815.0     0.0   \n",
              "\n",
              "   mvar19  mvar21   mvar22  mvar25   mvar28  mvar29   mvar33  mvar34  mvar36  \\\n",
              "0     3.0   94.78  8987.18  1462.0     61.0  4532.0   1.1667     1.0     8.0   \n",
              "1     0.0   74.25   953.06  1028.0  30386.0  2281.0   0.4167     0.0     8.0   \n",
              "2     0.0     NaN      NaN     NaN    669.0  4623.0  25.0833     0.0     1.0   \n",
              "3     0.0     NaN     0.00  1308.0     91.0  5992.0  10.3333     0.0     3.0   \n",
              "4     0.0   20.51   796.67   801.0    487.0  2707.0   0.9167     0.0     2.0   \n",
              "\n",
              "   mvar38  mvar43   mvar44  mvar46  mvar47  mvar48  mvar49  default_ind  \n",
              "0     4.0    10.0  0.63899     0.0       0    10.0   770.0          0.0  \n",
              "1     2.0    13.0  0.63836     NaN       1   732.0   437.0          1.0  \n",
              "2     1.0     1.0  1.00000     0.0       0    89.0   795.0          1.0  \n",
              "3     2.0     3.0  0.53241     0.0       1     3.0   755.0          0.0  \n",
              "4     2.0     1.0  0.92665     NaN       1     5.0   425.0          0.0  "
            ],
            "text/html": [
              "\n",
              "  <div id=\"df-96e9975e-60c6-4eca-8d1f-c170fda92c02\">\n",
              "    <div class=\"colab-df-container\">\n",
              "      <div>\n",
              "<style scoped>\n",
              "    .dataframe tbody tr th:only-of-type {\n",
              "        vertical-align: middle;\n",
              "    }\n",
              "\n",
              "    .dataframe tbody tr th {\n",
              "        vertical-align: top;\n",
              "    }\n",
              "\n",
              "    .dataframe thead th {\n",
              "        text-align: right;\n",
              "    }\n",
              "</style>\n",
              "<table border=\"1\" class=\"dataframe\">\n",
              "  <thead>\n",
              "    <tr style=\"text-align: right;\">\n",
              "      <th></th>\n",
              "      <th>application_key</th>\n",
              "      <th>mvar1</th>\n",
              "      <th>mvar2</th>\n",
              "      <th>mvar5</th>\n",
              "      <th>mvar9</th>\n",
              "      <th>mvar10</th>\n",
              "      <th>mvar13</th>\n",
              "      <th>mvar18</th>\n",
              "      <th>mvar19</th>\n",
              "      <th>mvar21</th>\n",
              "      <th>mvar22</th>\n",
              "      <th>mvar25</th>\n",
              "      <th>mvar28</th>\n",
              "      <th>mvar29</th>\n",
              "      <th>mvar33</th>\n",
              "      <th>mvar34</th>\n",
              "      <th>mvar36</th>\n",
              "      <th>mvar38</th>\n",
              "      <th>mvar43</th>\n",
              "      <th>mvar44</th>\n",
              "      <th>mvar46</th>\n",
              "      <th>mvar47</th>\n",
              "      <th>mvar48</th>\n",
              "      <th>mvar49</th>\n",
              "      <th>default_ind</th>\n",
              "    </tr>\n",
              "  </thead>\n",
              "  <tbody>\n",
              "    <tr>\n",
              "      <th>0</th>\n",
              "      <td>230032</td>\n",
              "      <td>1696.0</td>\n",
              "      <td>1.6541</td>\n",
              "      <td>0.0</td>\n",
              "      <td>40369.0</td>\n",
              "      <td>18414.0</td>\n",
              "      <td>3067.0</td>\n",
              "      <td>1.0</td>\n",
              "      <td>3.0</td>\n",
              "      <td>94.78</td>\n",
              "      <td>8987.18</td>\n",
              "      <td>1462.0</td>\n",
              "      <td>61.0</td>\n",
              "      <td>4532.0</td>\n",
              "      <td>1.1667</td>\n",
              "      <td>1.0</td>\n",
              "      <td>8.0</td>\n",
              "      <td>4.0</td>\n",
              "      <td>10.0</td>\n",
              "      <td>0.63899</td>\n",
              "      <td>0.0</td>\n",
              "      <td>0</td>\n",
              "      <td>10.0</td>\n",
              "      <td>770.0</td>\n",
              "      <td>0.0</td>\n",
              "    </tr>\n",
              "    <tr>\n",
              "      <th>1</th>\n",
              "      <td>230033</td>\n",
              "      <td>1846.0</td>\n",
              "      <td>0.8095</td>\n",
              "      <td>0.0</td>\n",
              "      <td>18234.0</td>\n",
              "      <td>13664.0</td>\n",
              "      <td>1931.0</td>\n",
              "      <td>0.0</td>\n",
              "      <td>0.0</td>\n",
              "      <td>74.25</td>\n",
              "      <td>953.06</td>\n",
              "      <td>1028.0</td>\n",
              "      <td>30386.0</td>\n",
              "      <td>2281.0</td>\n",
              "      <td>0.4167</td>\n",
              "      <td>0.0</td>\n",
              "      <td>8.0</td>\n",
              "      <td>2.0</td>\n",
              "      <td>13.0</td>\n",
              "      <td>0.63836</td>\n",
              "      <td>NaN</td>\n",
              "      <td>1</td>\n",
              "      <td>732.0</td>\n",
              "      <td>437.0</td>\n",
              "      <td>1.0</td>\n",
              "    </tr>\n",
              "    <tr>\n",
              "      <th>2</th>\n",
              "      <td>230034</td>\n",
              "      <td>1745.0</td>\n",
              "      <td>0.4001</td>\n",
              "      <td>0.0</td>\n",
              "      <td>NaN</td>\n",
              "      <td>2536.0</td>\n",
              "      <td>NaN</td>\n",
              "      <td>NaN</td>\n",
              "      <td>0.0</td>\n",
              "      <td>NaN</td>\n",
              "      <td>NaN</td>\n",
              "      <td>NaN</td>\n",
              "      <td>669.0</td>\n",
              "      <td>4623.0</td>\n",
              "      <td>25.0833</td>\n",
              "      <td>0.0</td>\n",
              "      <td>1.0</td>\n",
              "      <td>1.0</td>\n",
              "      <td>1.0</td>\n",
              "      <td>1.00000</td>\n",
              "      <td>0.0</td>\n",
              "      <td>0</td>\n",
              "      <td>89.0</td>\n",
              "      <td>795.0</td>\n",
              "      <td>1.0</td>\n",
              "    </tr>\n",
              "    <tr>\n",
              "      <th>3</th>\n",
              "      <td>230035</td>\n",
              "      <td>1739.0</td>\n",
              "      <td>0.2193</td>\n",
              "      <td>0.0</td>\n",
              "      <td>20316.0</td>\n",
              "      <td>37013.0</td>\n",
              "      <td>0.0</td>\n",
              "      <td>0.0</td>\n",
              "      <td>0.0</td>\n",
              "      <td>NaN</td>\n",
              "      <td>0.00</td>\n",
              "      <td>1308.0</td>\n",
              "      <td>91.0</td>\n",
              "      <td>5992.0</td>\n",
              "      <td>10.3333</td>\n",
              "      <td>0.0</td>\n",
              "      <td>3.0</td>\n",
              "      <td>2.0</td>\n",
              "      <td>3.0</td>\n",
              "      <td>0.53241</td>\n",
              "      <td>0.0</td>\n",
              "      <td>1</td>\n",
              "      <td>3.0</td>\n",
              "      <td>755.0</td>\n",
              "      <td>0.0</td>\n",
              "    </tr>\n",
              "    <tr>\n",
              "      <th>4</th>\n",
              "      <td>230036</td>\n",
              "      <td>1787.0</td>\n",
              "      <td>0.0118</td>\n",
              "      <td>0.0</td>\n",
              "      <td>7987.0</td>\n",
              "      <td>4696.0</td>\n",
              "      <td>27815.0</td>\n",
              "      <td>0.0</td>\n",
              "      <td>0.0</td>\n",
              "      <td>20.51</td>\n",
              "      <td>796.67</td>\n",
              "      <td>801.0</td>\n",
              "      <td>487.0</td>\n",
              "      <td>2707.0</td>\n",
              "      <td>0.9167</td>\n",
              "      <td>0.0</td>\n",
              "      <td>2.0</td>\n",
              "      <td>2.0</td>\n",
              "      <td>1.0</td>\n",
              "      <td>0.92665</td>\n",
              "      <td>NaN</td>\n",
              "      <td>1</td>\n",
              "      <td>5.0</td>\n",
              "      <td>425.0</td>\n",
              "      <td>0.0</td>\n",
              "    </tr>\n",
              "  </tbody>\n",
              "</table>\n",
              "</div>\n",
              "      <button class=\"colab-df-convert\" onclick=\"convertToInteractive('df-96e9975e-60c6-4eca-8d1f-c170fda92c02')\"\n",
              "              title=\"Convert this dataframe to an interactive table.\"\n",
              "              style=\"display:none;\">\n",
              "        \n",
              "  <svg xmlns=\"http://www.w3.org/2000/svg\" height=\"24px\"viewBox=\"0 0 24 24\"\n",
              "       width=\"24px\">\n",
              "    <path d=\"M0 0h24v24H0V0z\" fill=\"none\"/>\n",
              "    <path d=\"M18.56 5.44l.94 2.06.94-2.06 2.06-.94-2.06-.94-.94-2.06-.94 2.06-2.06.94zm-11 1L8.5 8.5l.94-2.06 2.06-.94-2.06-.94L8.5 2.5l-.94 2.06-2.06.94zm10 10l.94 2.06.94-2.06 2.06-.94-2.06-.94-.94-2.06-.94 2.06-2.06.94z\"/><path d=\"M17.41 7.96l-1.37-1.37c-.4-.4-.92-.59-1.43-.59-.52 0-1.04.2-1.43.59L10.3 9.45l-7.72 7.72c-.78.78-.78 2.05 0 2.83L4 21.41c.39.39.9.59 1.41.59.51 0 1.02-.2 1.41-.59l7.78-7.78 2.81-2.81c.8-.78.8-2.07 0-2.86zM5.41 20L4 18.59l7.72-7.72 1.47 1.35L5.41 20z\"/>\n",
              "  </svg>\n",
              "      </button>\n",
              "      \n",
              "  <style>\n",
              "    .colab-df-container {\n",
              "      display:flex;\n",
              "      flex-wrap:wrap;\n",
              "      gap: 12px;\n",
              "    }\n",
              "\n",
              "    .colab-df-convert {\n",
              "      background-color: #E8F0FE;\n",
              "      border: none;\n",
              "      border-radius: 50%;\n",
              "      cursor: pointer;\n",
              "      display: none;\n",
              "      fill: #1967D2;\n",
              "      height: 32px;\n",
              "      padding: 0 0 0 0;\n",
              "      width: 32px;\n",
              "    }\n",
              "\n",
              "    .colab-df-convert:hover {\n",
              "      background-color: #E2EBFA;\n",
              "      box-shadow: 0px 1px 2px rgba(60, 64, 67, 0.3), 0px 1px 3px 1px rgba(60, 64, 67, 0.15);\n",
              "      fill: #174EA6;\n",
              "    }\n",
              "\n",
              "    [theme=dark] .colab-df-convert {\n",
              "      background-color: #3B4455;\n",
              "      fill: #D2E3FC;\n",
              "    }\n",
              "\n",
              "    [theme=dark] .colab-df-convert:hover {\n",
              "      background-color: #434B5C;\n",
              "      box-shadow: 0px 1px 3px 1px rgba(0, 0, 0, 0.15);\n",
              "      filter: drop-shadow(0px 1px 2px rgba(0, 0, 0, 0.3));\n",
              "      fill: #FFFFFF;\n",
              "    }\n",
              "  </style>\n",
              "\n",
              "      <script>\n",
              "        const buttonEl =\n",
              "          document.querySelector('#df-96e9975e-60c6-4eca-8d1f-c170fda92c02 button.colab-df-convert');\n",
              "        buttonEl.style.display =\n",
              "          google.colab.kernel.accessAllowed ? 'block' : 'none';\n",
              "\n",
              "        async function convertToInteractive(key) {\n",
              "          const element = document.querySelector('#df-96e9975e-60c6-4eca-8d1f-c170fda92c02');\n",
              "          const dataTable =\n",
              "            await google.colab.kernel.invokeFunction('convertToInteractive',\n",
              "                                                     [key], {});\n",
              "          if (!dataTable) return;\n",
              "\n",
              "          const docLinkHtml = 'Like what you see? Visit the ' +\n",
              "            '<a target=\"_blank\" href=https://colab.research.google.com/notebooks/data_table.ipynb>data table notebook</a>'\n",
              "            + ' to learn more about interactive tables.';\n",
              "          element.innerHTML = '';\n",
              "          dataTable['output_type'] = 'display_data';\n",
              "          await google.colab.output.renderOutput(dataTable, element);\n",
              "          const docLink = document.createElement('div');\n",
              "          docLink.innerHTML = docLinkHtml;\n",
              "          element.appendChild(docLink);\n",
              "        }\n",
              "      </script>\n",
              "    </div>\n",
              "  </div>\n",
              "  "
            ]
          },
          "metadata": {},
          "execution_count": 20
        }
      ],
      "source": [
        "customers.head()"
      ]
    },
    {
      "cell_type": "markdown",
      "metadata": {
        "id": "sGQVFyEezpVn"
      },
      "source": [
        "## Standarize"
      ]
    },
    {
      "cell_type": "markdown",
      "metadata": {
        "id": "S8zovAdZhYke"
      },
      "source": [
        "Logistic regressions and tree-based algorithms such as decision trees, random forests and gradient boosting are not sensitive to the magnitude of variables. So standardization is not needed before fitting these kinds of models.\n",
        "\n",
        "For distance-based models, standardization is performed to prevent features with wider ranges from dominating the distance metric. (KNN, SVM, clustering, PCA)\n",
        "\n",
        "https://builtin.com/data-science/when-and-why-standardize-your-data"
      ]
    },
    {
      "cell_type": "code",
      "execution_count": null,
      "metadata": {
        "colab": {
          "base_uri": "https://localhost:8080/"
        },
        "id": "klE-ac6XrXiX",
        "outputId": "8ca6bfdf-0b6c-4f5b-ff2d-65347e9fff71"
      },
      "outputs": [
        {
          "output_type": "stream",
          "name": "stdout",
          "text": [
            "['mvar1', 'mvar2', 'mvar5', 'mvar9', 'mvar10', 'mvar13', 'mvar18', 'mvar19', 'mvar21', 'mvar22', 'mvar25', 'mvar28', 'mvar29', 'mvar33', 'mvar34', 'mvar36', 'mvar38', 'mvar43', 'mvar44', 'mvar46', 'mvar47', 'mvar48', 'mvar49']\n"
          ]
        }
      ],
      "source": [
        "cols = list(customers.columns)\n",
        "cols.remove('application_key')\n",
        "cols.remove('default_ind')\n",
        "print(cols)"
      ]
    },
    {
      "cell_type": "code",
      "execution_count": null,
      "metadata": {
        "id": "dLDnTJ8Qqk3Q"
      },
      "outputs": [],
      "source": [
        "#define predictor variable columns\n",
        "customers_x = customers[cols]\n",
        "\n",
        "#standardize the values for each predictor variable\n",
        "customers[cols] = (customers_x-customers_x.mean())/customers_x.std()"
      ]
    },
    {
      "cell_type": "code",
      "execution_count": null,
      "metadata": {
        "colab": {
          "base_uri": "https://localhost:8080/"
        },
        "id": "oMC-Z8uwspkU",
        "outputId": "89ceee27-788b-4d62-adc1-ec75c31617fd"
      },
      "outputs": [
        {
          "output_type": "execute_result",
          "data": {
            "text/plain": [
              "(16655, 25)"
            ]
          },
          "metadata": {},
          "execution_count": 23
        }
      ],
      "source": [
        "customers.shape"
      ]
    },
    {
      "cell_type": "code",
      "execution_count": null,
      "metadata": {
        "colab": {
          "base_uri": "https://localhost:8080/",
          "height": 270
        },
        "id": "gWYgg4DAnuVs",
        "outputId": "e1af1050-2a0a-46af-c453-31092086c81a"
      },
      "outputs": [
        {
          "output_type": "execute_result",
          "data": {
            "text/plain": [
              "   application_key     mvar1     mvar2     mvar5     mvar9    mvar10  \\\n",
              "0           230032 -0.645124  0.636280 -0.217156  0.159282 -0.214250   \n",
              "1           230033  0.958275 -0.067539 -0.217156 -0.343053 -0.325666   \n",
              "2           230034 -0.121347 -0.408699 -0.217156       NaN -0.586684   \n",
              "3           230035 -0.185483 -0.559363 -0.217156 -0.295803  0.222008   \n",
              "4           230036  0.327605 -0.732276 -0.217156 -0.575599 -0.536020   \n",
              "\n",
              "     mvar13    mvar18    mvar19    mvar21    mvar22    mvar25    mvar28  \\\n",
              "0 -0.477995  1.584403  1.451267  1.184694  1.344706 -0.278639 -0.684944   \n",
              "1 -0.527165 -0.386552 -0.560056  0.574540 -0.880772 -0.612710  1.503271   \n",
              "2       NaN       NaN -0.560056       NaN       NaN       NaN -0.641072   \n",
              "3 -0.610745 -0.386552 -0.560056       NaN -1.144773 -0.397180 -0.682780   \n",
              "4  0.593183 -0.386552 -0.560056 -1.022619 -0.924093 -0.787444 -0.654205   \n",
              "\n",
              "     mvar29    mvar33    mvar34    mvar36    mvar38    mvar43    mvar44  \\\n",
              "0 -0.319633 -0.779296  1.687213  0.466540  0.027433  0.579652 -0.315331   \n",
              "1 -1.021367 -0.877586 -0.361925  0.466540 -0.547174  1.082462 -0.317944   \n",
              "2 -0.291265  2.355066 -0.361925 -1.085060 -0.834478 -0.928776  1.181796   \n",
              "3  0.135512  0.422022 -0.361925 -0.641746 -0.547174 -0.593570 -0.757324   \n",
              "4 -0.888565 -0.812060 -0.361925 -0.863403 -0.547174 -0.928776  0.877609   \n",
              "\n",
              "     mvar46    mvar47    mvar48    mvar49  default_ind  \n",
              "0 -0.256672 -0.886789 -0.492230  1.173207          0.0  \n",
              "1       NaN  1.127047  0.159750 -1.137356          1.0  \n",
              "2 -0.256672 -0.886789 -0.420892  1.346673          1.0  \n",
              "3 -0.256672  1.127047 -0.498551  1.069128          0.0  \n",
              "4       NaN  1.127047 -0.496745 -1.220620          0.0  "
            ],
            "text/html": [
              "\n",
              "  <div id=\"df-de31d803-6a94-4277-9633-2fa4ad0d06c3\">\n",
              "    <div class=\"colab-df-container\">\n",
              "      <div>\n",
              "<style scoped>\n",
              "    .dataframe tbody tr th:only-of-type {\n",
              "        vertical-align: middle;\n",
              "    }\n",
              "\n",
              "    .dataframe tbody tr th {\n",
              "        vertical-align: top;\n",
              "    }\n",
              "\n",
              "    .dataframe thead th {\n",
              "        text-align: right;\n",
              "    }\n",
              "</style>\n",
              "<table border=\"1\" class=\"dataframe\">\n",
              "  <thead>\n",
              "    <tr style=\"text-align: right;\">\n",
              "      <th></th>\n",
              "      <th>application_key</th>\n",
              "      <th>mvar1</th>\n",
              "      <th>mvar2</th>\n",
              "      <th>mvar5</th>\n",
              "      <th>mvar9</th>\n",
              "      <th>mvar10</th>\n",
              "      <th>mvar13</th>\n",
              "      <th>mvar18</th>\n",
              "      <th>mvar19</th>\n",
              "      <th>mvar21</th>\n",
              "      <th>mvar22</th>\n",
              "      <th>mvar25</th>\n",
              "      <th>mvar28</th>\n",
              "      <th>mvar29</th>\n",
              "      <th>mvar33</th>\n",
              "      <th>mvar34</th>\n",
              "      <th>mvar36</th>\n",
              "      <th>mvar38</th>\n",
              "      <th>mvar43</th>\n",
              "      <th>mvar44</th>\n",
              "      <th>mvar46</th>\n",
              "      <th>mvar47</th>\n",
              "      <th>mvar48</th>\n",
              "      <th>mvar49</th>\n",
              "      <th>default_ind</th>\n",
              "    </tr>\n",
              "  </thead>\n",
              "  <tbody>\n",
              "    <tr>\n",
              "      <th>0</th>\n",
              "      <td>230032</td>\n",
              "      <td>-0.645124</td>\n",
              "      <td>0.636280</td>\n",
              "      <td>-0.217156</td>\n",
              "      <td>0.159282</td>\n",
              "      <td>-0.214250</td>\n",
              "      <td>-0.477995</td>\n",
              "      <td>1.584403</td>\n",
              "      <td>1.451267</td>\n",
              "      <td>1.184694</td>\n",
              "      <td>1.344706</td>\n",
              "      <td>-0.278639</td>\n",
              "      <td>-0.684944</td>\n",
              "      <td>-0.319633</td>\n",
              "      <td>-0.779296</td>\n",
              "      <td>1.687213</td>\n",
              "      <td>0.466540</td>\n",
              "      <td>0.027433</td>\n",
              "      <td>0.579652</td>\n",
              "      <td>-0.315331</td>\n",
              "      <td>-0.256672</td>\n",
              "      <td>-0.886789</td>\n",
              "      <td>-0.492230</td>\n",
              "      <td>1.173207</td>\n",
              "      <td>0.0</td>\n",
              "    </tr>\n",
              "    <tr>\n",
              "      <th>1</th>\n",
              "      <td>230033</td>\n",
              "      <td>0.958275</td>\n",
              "      <td>-0.067539</td>\n",
              "      <td>-0.217156</td>\n",
              "      <td>-0.343053</td>\n",
              "      <td>-0.325666</td>\n",
              "      <td>-0.527165</td>\n",
              "      <td>-0.386552</td>\n",
              "      <td>-0.560056</td>\n",
              "      <td>0.574540</td>\n",
              "      <td>-0.880772</td>\n",
              "      <td>-0.612710</td>\n",
              "      <td>1.503271</td>\n",
              "      <td>-1.021367</td>\n",
              "      <td>-0.877586</td>\n",
              "      <td>-0.361925</td>\n",
              "      <td>0.466540</td>\n",
              "      <td>-0.547174</td>\n",
              "      <td>1.082462</td>\n",
              "      <td>-0.317944</td>\n",
              "      <td>NaN</td>\n",
              "      <td>1.127047</td>\n",
              "      <td>0.159750</td>\n",
              "      <td>-1.137356</td>\n",
              "      <td>1.0</td>\n",
              "    </tr>\n",
              "    <tr>\n",
              "      <th>2</th>\n",
              "      <td>230034</td>\n",
              "      <td>-0.121347</td>\n",
              "      <td>-0.408699</td>\n",
              "      <td>-0.217156</td>\n",
              "      <td>NaN</td>\n",
              "      <td>-0.586684</td>\n",
              "      <td>NaN</td>\n",
              "      <td>NaN</td>\n",
              "      <td>-0.560056</td>\n",
              "      <td>NaN</td>\n",
              "      <td>NaN</td>\n",
              "      <td>NaN</td>\n",
              "      <td>-0.641072</td>\n",
              "      <td>-0.291265</td>\n",
              "      <td>2.355066</td>\n",
              "      <td>-0.361925</td>\n",
              "      <td>-1.085060</td>\n",
              "      <td>-0.834478</td>\n",
              "      <td>-0.928776</td>\n",
              "      <td>1.181796</td>\n",
              "      <td>-0.256672</td>\n",
              "      <td>-0.886789</td>\n",
              "      <td>-0.420892</td>\n",
              "      <td>1.346673</td>\n",
              "      <td>1.0</td>\n",
              "    </tr>\n",
              "    <tr>\n",
              "      <th>3</th>\n",
              "      <td>230035</td>\n",
              "      <td>-0.185483</td>\n",
              "      <td>-0.559363</td>\n",
              "      <td>-0.217156</td>\n",
              "      <td>-0.295803</td>\n",
              "      <td>0.222008</td>\n",
              "      <td>-0.610745</td>\n",
              "      <td>-0.386552</td>\n",
              "      <td>-0.560056</td>\n",
              "      <td>NaN</td>\n",
              "      <td>-1.144773</td>\n",
              "      <td>-0.397180</td>\n",
              "      <td>-0.682780</td>\n",
              "      <td>0.135512</td>\n",
              "      <td>0.422022</td>\n",
              "      <td>-0.361925</td>\n",
              "      <td>-0.641746</td>\n",
              "      <td>-0.547174</td>\n",
              "      <td>-0.593570</td>\n",
              "      <td>-0.757324</td>\n",
              "      <td>-0.256672</td>\n",
              "      <td>1.127047</td>\n",
              "      <td>-0.498551</td>\n",
              "      <td>1.069128</td>\n",
              "      <td>0.0</td>\n",
              "    </tr>\n",
              "    <tr>\n",
              "      <th>4</th>\n",
              "      <td>230036</td>\n",
              "      <td>0.327605</td>\n",
              "      <td>-0.732276</td>\n",
              "      <td>-0.217156</td>\n",
              "      <td>-0.575599</td>\n",
              "      <td>-0.536020</td>\n",
              "      <td>0.593183</td>\n",
              "      <td>-0.386552</td>\n",
              "      <td>-0.560056</td>\n",
              "      <td>-1.022619</td>\n",
              "      <td>-0.924093</td>\n",
              "      <td>-0.787444</td>\n",
              "      <td>-0.654205</td>\n",
              "      <td>-0.888565</td>\n",
              "      <td>-0.812060</td>\n",
              "      <td>-0.361925</td>\n",
              "      <td>-0.863403</td>\n",
              "      <td>-0.547174</td>\n",
              "      <td>-0.928776</td>\n",
              "      <td>0.877609</td>\n",
              "      <td>NaN</td>\n",
              "      <td>1.127047</td>\n",
              "      <td>-0.496745</td>\n",
              "      <td>-1.220620</td>\n",
              "      <td>0.0</td>\n",
              "    </tr>\n",
              "  </tbody>\n",
              "</table>\n",
              "</div>\n",
              "      <button class=\"colab-df-convert\" onclick=\"convertToInteractive('df-de31d803-6a94-4277-9633-2fa4ad0d06c3')\"\n",
              "              title=\"Convert this dataframe to an interactive table.\"\n",
              "              style=\"display:none;\">\n",
              "        \n",
              "  <svg xmlns=\"http://www.w3.org/2000/svg\" height=\"24px\"viewBox=\"0 0 24 24\"\n",
              "       width=\"24px\">\n",
              "    <path d=\"M0 0h24v24H0V0z\" fill=\"none\"/>\n",
              "    <path d=\"M18.56 5.44l.94 2.06.94-2.06 2.06-.94-2.06-.94-.94-2.06-.94 2.06-2.06.94zm-11 1L8.5 8.5l.94-2.06 2.06-.94-2.06-.94L8.5 2.5l-.94 2.06-2.06.94zm10 10l.94 2.06.94-2.06 2.06-.94-2.06-.94-.94-2.06-.94 2.06-2.06.94z\"/><path d=\"M17.41 7.96l-1.37-1.37c-.4-.4-.92-.59-1.43-.59-.52 0-1.04.2-1.43.59L10.3 9.45l-7.72 7.72c-.78.78-.78 2.05 0 2.83L4 21.41c.39.39.9.59 1.41.59.51 0 1.02-.2 1.41-.59l7.78-7.78 2.81-2.81c.8-.78.8-2.07 0-2.86zM5.41 20L4 18.59l7.72-7.72 1.47 1.35L5.41 20z\"/>\n",
              "  </svg>\n",
              "      </button>\n",
              "      \n",
              "  <style>\n",
              "    .colab-df-container {\n",
              "      display:flex;\n",
              "      flex-wrap:wrap;\n",
              "      gap: 12px;\n",
              "    }\n",
              "\n",
              "    .colab-df-convert {\n",
              "      background-color: #E8F0FE;\n",
              "      border: none;\n",
              "      border-radius: 50%;\n",
              "      cursor: pointer;\n",
              "      display: none;\n",
              "      fill: #1967D2;\n",
              "      height: 32px;\n",
              "      padding: 0 0 0 0;\n",
              "      width: 32px;\n",
              "    }\n",
              "\n",
              "    .colab-df-convert:hover {\n",
              "      background-color: #E2EBFA;\n",
              "      box-shadow: 0px 1px 2px rgba(60, 64, 67, 0.3), 0px 1px 3px 1px rgba(60, 64, 67, 0.15);\n",
              "      fill: #174EA6;\n",
              "    }\n",
              "\n",
              "    [theme=dark] .colab-df-convert {\n",
              "      background-color: #3B4455;\n",
              "      fill: #D2E3FC;\n",
              "    }\n",
              "\n",
              "    [theme=dark] .colab-df-convert:hover {\n",
              "      background-color: #434B5C;\n",
              "      box-shadow: 0px 1px 3px 1px rgba(0, 0, 0, 0.15);\n",
              "      filter: drop-shadow(0px 1px 2px rgba(0, 0, 0, 0.3));\n",
              "      fill: #FFFFFF;\n",
              "    }\n",
              "  </style>\n",
              "\n",
              "      <script>\n",
              "        const buttonEl =\n",
              "          document.querySelector('#df-de31d803-6a94-4277-9633-2fa4ad0d06c3 button.colab-df-convert');\n",
              "        buttonEl.style.display =\n",
              "          google.colab.kernel.accessAllowed ? 'block' : 'none';\n",
              "\n",
              "        async function convertToInteractive(key) {\n",
              "          const element = document.querySelector('#df-de31d803-6a94-4277-9633-2fa4ad0d06c3');\n",
              "          const dataTable =\n",
              "            await google.colab.kernel.invokeFunction('convertToInteractive',\n",
              "                                                     [key], {});\n",
              "          if (!dataTable) return;\n",
              "\n",
              "          const docLinkHtml = 'Like what you see? Visit the ' +\n",
              "            '<a target=\"_blank\" href=https://colab.research.google.com/notebooks/data_table.ipynb>data table notebook</a>'\n",
              "            + ' to learn more about interactive tables.';\n",
              "          element.innerHTML = '';\n",
              "          dataTable['output_type'] = 'display_data';\n",
              "          await google.colab.output.renderOutput(dataTable, element);\n",
              "          const docLink = document.createElement('div');\n",
              "          docLink.innerHTML = docLinkHtml;\n",
              "          element.appendChild(docLink);\n",
              "        }\n",
              "      </script>\n",
              "    </div>\n",
              "  </div>\n",
              "  "
            ]
          },
          "metadata": {},
          "execution_count": 24
        }
      ],
      "source": [
        "customers.head()"
      ]
    },
    {
      "cell_type": "code",
      "execution_count": null,
      "metadata": {
        "id": "6yINTHtK0-hY"
      },
      "outputs": [],
      "source": [
        "import pandas as pd\n",
        "from sklearn import preprocessing\n",
        "\n",
        "x = customers.values #returns a numpy array\n",
        "min_max_scaler = preprocessing.MinMaxScaler()\n",
        "x_scaled = min_max_scaler.fit_transform(x)\n",
        "customers = pd.DataFrame(x_scaled)"
      ]
    },
    {
      "cell_type": "markdown",
      "metadata": {
        "id": "BdheXxsfgucK"
      },
      "source": [
        "## Fill na with mean"
      ]
    },
    {
      "cell_type": "code",
      "execution_count": null,
      "metadata": {
        "id": "8c5H0eZHwTWs",
        "colab": {
          "base_uri": "https://localhost:8080/",
          "height": 270
        },
        "outputId": "cfbebebe-b007-48a8-e08f-6b031debb507"
      },
      "outputs": [
        {
          "output_type": "execute_result",
          "data": {
            "text/plain": [
              "   application_key   mvar1   mvar2  mvar5         mvar9   mvar10       mvar13  \\\n",
              "0           578069  1719.0  0.6174    0.0  10729.000000    307.0      0.00000   \n",
              "1           578070  1795.0  0.2051    0.0  80519.000000  18099.0    455.00000   \n",
              "2           578071  1742.0  0.5082    0.0   1189.000000   1185.0   1453.00000   \n",
              "3           578072  1685.0  0.2595    0.0  35173.978395   3354.0  18726.74194   \n",
              "4           578073  1666.0  1.2678    0.0  35173.978395    570.0  18726.74194   \n",
              "\n",
              "     mvar18  mvar19    mvar21       mvar22     mvar24       mvar25  mvar28  \\\n",
              "0  0.000000     0.0  56.57933  6125.000000  13.330000  1399.000000     0.0   \n",
              "1  0.000000     0.0  25.05000  2385.710000   0.000000  1440.000000   760.0   \n",
              "2  0.000000     0.0  20.34000    33.330000   0.330000  2716.000000   669.0   \n",
              "3  0.261261     0.0  56.57933  4249.930205  69.360007  1862.173942     0.0   \n",
              "4  0.000000     0.0  11.53800  1153.850000  69.360007     0.000000     0.0   \n",
              "\n",
              "    mvar29      mvar32  mvar33  mvar34  mvar36    mvar37  mvar38    mvar42  \\\n",
              "0   3650.0  184.000000  5.1667     0.0     3.0   3.00000     2.0  0.545450   \n",
              "1   7330.0  852.000000  3.0833     0.0     2.0  13.00000     4.0  0.172410   \n",
              "2  14478.0  625.000000  0.5833     0.0     1.0   3.00000     1.0  0.647060   \n",
              "3   2373.0  497.141363  0.4167     0.0     6.0   4.59032     2.0  0.857140   \n",
              "4   1551.0    0.000000  0.1667     0.0     1.0   0.00000     2.0  0.331128   \n",
              "\n",
              "   mvar43   mvar44  mvar46  mvar47  mvar48  mvar49  mvar50  mvar51  \n",
              "0     2.0  0.91837     0.0       0  3247.0   554.0     4.0  2216.0  \n",
              "1     4.0  0.94563     0.0       0    18.0   554.0     4.0  2216.0  \n",
              "2     1.0  0.97054     0.0       0    11.0   404.0     4.0  1616.0  \n",
              "3     1.0  1.00000     0.0       0    32.0   528.0     4.0  2112.0  \n",
              "4     0.0  0.99617     0.0       1    89.0   419.0     4.0  1676.0  "
            ],
            "text/html": [
              "\n",
              "  <div id=\"df-3e704fd2-6e64-4173-8dbf-e18078e824a2\">\n",
              "    <div class=\"colab-df-container\">\n",
              "      <div>\n",
              "<style scoped>\n",
              "    .dataframe tbody tr th:only-of-type {\n",
              "        vertical-align: middle;\n",
              "    }\n",
              "\n",
              "    .dataframe tbody tr th {\n",
              "        vertical-align: top;\n",
              "    }\n",
              "\n",
              "    .dataframe thead th {\n",
              "        text-align: right;\n",
              "    }\n",
              "</style>\n",
              "<table border=\"1\" class=\"dataframe\">\n",
              "  <thead>\n",
              "    <tr style=\"text-align: right;\">\n",
              "      <th></th>\n",
              "      <th>application_key</th>\n",
              "      <th>mvar1</th>\n",
              "      <th>mvar2</th>\n",
              "      <th>mvar5</th>\n",
              "      <th>mvar9</th>\n",
              "      <th>mvar10</th>\n",
              "      <th>mvar13</th>\n",
              "      <th>mvar18</th>\n",
              "      <th>mvar19</th>\n",
              "      <th>mvar21</th>\n",
              "      <th>mvar22</th>\n",
              "      <th>mvar24</th>\n",
              "      <th>mvar25</th>\n",
              "      <th>mvar28</th>\n",
              "      <th>mvar29</th>\n",
              "      <th>mvar32</th>\n",
              "      <th>mvar33</th>\n",
              "      <th>mvar34</th>\n",
              "      <th>mvar36</th>\n",
              "      <th>mvar37</th>\n",
              "      <th>mvar38</th>\n",
              "      <th>mvar42</th>\n",
              "      <th>mvar43</th>\n",
              "      <th>mvar44</th>\n",
              "      <th>mvar46</th>\n",
              "      <th>mvar47</th>\n",
              "      <th>mvar48</th>\n",
              "      <th>mvar49</th>\n",
              "      <th>mvar50</th>\n",
              "      <th>mvar51</th>\n",
              "    </tr>\n",
              "  </thead>\n",
              "  <tbody>\n",
              "    <tr>\n",
              "      <th>0</th>\n",
              "      <td>578069</td>\n",
              "      <td>1719.0</td>\n",
              "      <td>0.6174</td>\n",
              "      <td>0.0</td>\n",
              "      <td>10729.000000</td>\n",
              "      <td>307.0</td>\n",
              "      <td>0.00000</td>\n",
              "      <td>0.000000</td>\n",
              "      <td>0.0</td>\n",
              "      <td>56.57933</td>\n",
              "      <td>6125.000000</td>\n",
              "      <td>13.330000</td>\n",
              "      <td>1399.000000</td>\n",
              "      <td>0.0</td>\n",
              "      <td>3650.0</td>\n",
              "      <td>184.000000</td>\n",
              "      <td>5.1667</td>\n",
              "      <td>0.0</td>\n",
              "      <td>3.0</td>\n",
              "      <td>3.00000</td>\n",
              "      <td>2.0</td>\n",
              "      <td>0.545450</td>\n",
              "      <td>2.0</td>\n",
              "      <td>0.91837</td>\n",
              "      <td>0.0</td>\n",
              "      <td>0</td>\n",
              "      <td>3247.0</td>\n",
              "      <td>554.0</td>\n",
              "      <td>4.0</td>\n",
              "      <td>2216.0</td>\n",
              "    </tr>\n",
              "    <tr>\n",
              "      <th>1</th>\n",
              "      <td>578070</td>\n",
              "      <td>1795.0</td>\n",
              "      <td>0.2051</td>\n",
              "      <td>0.0</td>\n",
              "      <td>80519.000000</td>\n",
              "      <td>18099.0</td>\n",
              "      <td>455.00000</td>\n",
              "      <td>0.000000</td>\n",
              "      <td>0.0</td>\n",
              "      <td>25.05000</td>\n",
              "      <td>2385.710000</td>\n",
              "      <td>0.000000</td>\n",
              "      <td>1440.000000</td>\n",
              "      <td>760.0</td>\n",
              "      <td>7330.0</td>\n",
              "      <td>852.000000</td>\n",
              "      <td>3.0833</td>\n",
              "      <td>0.0</td>\n",
              "      <td>2.0</td>\n",
              "      <td>13.00000</td>\n",
              "      <td>4.0</td>\n",
              "      <td>0.172410</td>\n",
              "      <td>4.0</td>\n",
              "      <td>0.94563</td>\n",
              "      <td>0.0</td>\n",
              "      <td>0</td>\n",
              "      <td>18.0</td>\n",
              "      <td>554.0</td>\n",
              "      <td>4.0</td>\n",
              "      <td>2216.0</td>\n",
              "    </tr>\n",
              "    <tr>\n",
              "      <th>2</th>\n",
              "      <td>578071</td>\n",
              "      <td>1742.0</td>\n",
              "      <td>0.5082</td>\n",
              "      <td>0.0</td>\n",
              "      <td>1189.000000</td>\n",
              "      <td>1185.0</td>\n",
              "      <td>1453.00000</td>\n",
              "      <td>0.000000</td>\n",
              "      <td>0.0</td>\n",
              "      <td>20.34000</td>\n",
              "      <td>33.330000</td>\n",
              "      <td>0.330000</td>\n",
              "      <td>2716.000000</td>\n",
              "      <td>669.0</td>\n",
              "      <td>14478.0</td>\n",
              "      <td>625.000000</td>\n",
              "      <td>0.5833</td>\n",
              "      <td>0.0</td>\n",
              "      <td>1.0</td>\n",
              "      <td>3.00000</td>\n",
              "      <td>1.0</td>\n",
              "      <td>0.647060</td>\n",
              "      <td>1.0</td>\n",
              "      <td>0.97054</td>\n",
              "      <td>0.0</td>\n",
              "      <td>0</td>\n",
              "      <td>11.0</td>\n",
              "      <td>404.0</td>\n",
              "      <td>4.0</td>\n",
              "      <td>1616.0</td>\n",
              "    </tr>\n",
              "    <tr>\n",
              "      <th>3</th>\n",
              "      <td>578072</td>\n",
              "      <td>1685.0</td>\n",
              "      <td>0.2595</td>\n",
              "      <td>0.0</td>\n",
              "      <td>35173.978395</td>\n",
              "      <td>3354.0</td>\n",
              "      <td>18726.74194</td>\n",
              "      <td>0.261261</td>\n",
              "      <td>0.0</td>\n",
              "      <td>56.57933</td>\n",
              "      <td>4249.930205</td>\n",
              "      <td>69.360007</td>\n",
              "      <td>1862.173942</td>\n",
              "      <td>0.0</td>\n",
              "      <td>2373.0</td>\n",
              "      <td>497.141363</td>\n",
              "      <td>0.4167</td>\n",
              "      <td>0.0</td>\n",
              "      <td>6.0</td>\n",
              "      <td>4.59032</td>\n",
              "      <td>2.0</td>\n",
              "      <td>0.857140</td>\n",
              "      <td>1.0</td>\n",
              "      <td>1.00000</td>\n",
              "      <td>0.0</td>\n",
              "      <td>0</td>\n",
              "      <td>32.0</td>\n",
              "      <td>528.0</td>\n",
              "      <td>4.0</td>\n",
              "      <td>2112.0</td>\n",
              "    </tr>\n",
              "    <tr>\n",
              "      <th>4</th>\n",
              "      <td>578073</td>\n",
              "      <td>1666.0</td>\n",
              "      <td>1.2678</td>\n",
              "      <td>0.0</td>\n",
              "      <td>35173.978395</td>\n",
              "      <td>570.0</td>\n",
              "      <td>18726.74194</td>\n",
              "      <td>0.000000</td>\n",
              "      <td>0.0</td>\n",
              "      <td>11.53800</td>\n",
              "      <td>1153.850000</td>\n",
              "      <td>69.360007</td>\n",
              "      <td>0.000000</td>\n",
              "      <td>0.0</td>\n",
              "      <td>1551.0</td>\n",
              "      <td>0.000000</td>\n",
              "      <td>0.1667</td>\n",
              "      <td>0.0</td>\n",
              "      <td>1.0</td>\n",
              "      <td>0.00000</td>\n",
              "      <td>2.0</td>\n",
              "      <td>0.331128</td>\n",
              "      <td>0.0</td>\n",
              "      <td>0.99617</td>\n",
              "      <td>0.0</td>\n",
              "      <td>1</td>\n",
              "      <td>89.0</td>\n",
              "      <td>419.0</td>\n",
              "      <td>4.0</td>\n",
              "      <td>1676.0</td>\n",
              "    </tr>\n",
              "  </tbody>\n",
              "</table>\n",
              "</div>\n",
              "      <button class=\"colab-df-convert\" onclick=\"convertToInteractive('df-3e704fd2-6e64-4173-8dbf-e18078e824a2')\"\n",
              "              title=\"Convert this dataframe to an interactive table.\"\n",
              "              style=\"display:none;\">\n",
              "        \n",
              "  <svg xmlns=\"http://www.w3.org/2000/svg\" height=\"24px\"viewBox=\"0 0 24 24\"\n",
              "       width=\"24px\">\n",
              "    <path d=\"M0 0h24v24H0V0z\" fill=\"none\"/>\n",
              "    <path d=\"M18.56 5.44l.94 2.06.94-2.06 2.06-.94-2.06-.94-.94-2.06-.94 2.06-2.06.94zm-11 1L8.5 8.5l.94-2.06 2.06-.94-2.06-.94L8.5 2.5l-.94 2.06-2.06.94zm10 10l.94 2.06.94-2.06 2.06-.94-2.06-.94-.94-2.06-.94 2.06-2.06.94z\"/><path d=\"M17.41 7.96l-1.37-1.37c-.4-.4-.92-.59-1.43-.59-.52 0-1.04.2-1.43.59L10.3 9.45l-7.72 7.72c-.78.78-.78 2.05 0 2.83L4 21.41c.39.39.9.59 1.41.59.51 0 1.02-.2 1.41-.59l7.78-7.78 2.81-2.81c.8-.78.8-2.07 0-2.86zM5.41 20L4 18.59l7.72-7.72 1.47 1.35L5.41 20z\"/>\n",
              "  </svg>\n",
              "      </button>\n",
              "      \n",
              "  <style>\n",
              "    .colab-df-container {\n",
              "      display:flex;\n",
              "      flex-wrap:wrap;\n",
              "      gap: 12px;\n",
              "    }\n",
              "\n",
              "    .colab-df-convert {\n",
              "      background-color: #E8F0FE;\n",
              "      border: none;\n",
              "      border-radius: 50%;\n",
              "      cursor: pointer;\n",
              "      display: none;\n",
              "      fill: #1967D2;\n",
              "      height: 32px;\n",
              "      padding: 0 0 0 0;\n",
              "      width: 32px;\n",
              "    }\n",
              "\n",
              "    .colab-df-convert:hover {\n",
              "      background-color: #E2EBFA;\n",
              "      box-shadow: 0px 1px 2px rgba(60, 64, 67, 0.3), 0px 1px 3px 1px rgba(60, 64, 67, 0.15);\n",
              "      fill: #174EA6;\n",
              "    }\n",
              "\n",
              "    [theme=dark] .colab-df-convert {\n",
              "      background-color: #3B4455;\n",
              "      fill: #D2E3FC;\n",
              "    }\n",
              "\n",
              "    [theme=dark] .colab-df-convert:hover {\n",
              "      background-color: #434B5C;\n",
              "      box-shadow: 0px 1px 3px 1px rgba(0, 0, 0, 0.15);\n",
              "      filter: drop-shadow(0px 1px 2px rgba(0, 0, 0, 0.3));\n",
              "      fill: #FFFFFF;\n",
              "    }\n",
              "  </style>\n",
              "\n",
              "      <script>\n",
              "        const buttonEl =\n",
              "          document.querySelector('#df-3e704fd2-6e64-4173-8dbf-e18078e824a2 button.colab-df-convert');\n",
              "        buttonEl.style.display =\n",
              "          google.colab.kernel.accessAllowed ? 'block' : 'none';\n",
              "\n",
              "        async function convertToInteractive(key) {\n",
              "          const element = document.querySelector('#df-3e704fd2-6e64-4173-8dbf-e18078e824a2');\n",
              "          const dataTable =\n",
              "            await google.colab.kernel.invokeFunction('convertToInteractive',\n",
              "                                                     [key], {});\n",
              "          if (!dataTable) return;\n",
              "\n",
              "          const docLinkHtml = 'Like what you see? Visit the ' +\n",
              "            '<a target=\"_blank\" href=https://colab.research.google.com/notebooks/data_table.ipynb>data table notebook</a>'\n",
              "            + ' to learn more about interactive tables.';\n",
              "          element.innerHTML = '';\n",
              "          dataTable['output_type'] = 'display_data';\n",
              "          await google.colab.output.renderOutput(dataTable, element);\n",
              "          const docLink = document.createElement('div');\n",
              "          docLink.innerHTML = docLinkHtml;\n",
              "          element.appendChild(docLink);\n",
              "        }\n",
              "      </script>\n",
              "    </div>\n",
              "  </div>\n",
              "  "
            ]
          },
          "metadata": {},
          "execution_count": 28
        }
      ],
      "source": [
        "# fill missing values with the mean of the column\n",
        "customers.fillna(customers.mean(), inplace=True)\n",
        "test.fillna(test.mean(), inplace=True)\n",
        "test.head()"
      ]
    },
    {
      "cell_type": "code",
      "execution_count": null,
      "metadata": {
        "colab": {
          "base_uri": "https://localhost:8080/"
        },
        "id": "A-U_h2NBmF4Y",
        "outputId": "4a4d08e1-a52b-460d-e615-2ff22efe2e51"
      },
      "outputs": [
        {
          "output_type": "execute_result",
          "data": {
            "text/plain": [
              "pandas.core.frame.DataFrame"
            ]
          },
          "metadata": {},
          "execution_count": 29
        }
      ],
      "source": [
        "type(customers)"
      ]
    },
    {
      "cell_type": "markdown",
      "metadata": {
        "id": "KoKKwOAjsDKv"
      },
      "source": [
        "## PCA"
      ]
    },
    {
      "cell_type": "code",
      "execution_count": null,
      "metadata": {
        "id": "TOBCuZdbFfSy"
      },
      "outputs": [],
      "source": [
        "pd.set_option('display.max_columns', None)\n",
        "\n",
        "customers = pd.read_csv('TrainingData.csv')\n",
        "test = pd.read_csv('testX.csv')\n",
        "\n",
        "customers.head()"
      ]
    },
    {
      "cell_type": "code",
      "execution_count": null,
      "metadata": {
        "colab": {
          "base_uri": "https://localhost:8080/"
        },
        "id": "QLNFKVh9FhNx",
        "outputId": "d568b4af-ac03-412c-8574-f92c1583865a"
      },
      "outputs": [
        {
          "output_type": "execute_result",
          "data": {
            "text/plain": [
              "((18105, 51), (18105,))"
            ]
          },
          "metadata": {},
          "execution_count": 32
        }
      ],
      "source": [
        "\n",
        "X = customers.drop(columns=['default_ind', 'application_key'], axis = 1)\n",
        "y = customers.default_ind\n",
        "\n",
        "X.shape, y.shape"
      ]
    },
    {
      "cell_type": "code",
      "execution_count": null,
      "metadata": {
        "colab": {
          "base_uri": "https://localhost:8080/"
        },
        "id": "4aAtCUPTDV0X",
        "outputId": "155d1753-307b-4068-bc15-0a99a615f09d"
      },
      "outputs": [
        {
          "output_type": "execute_result",
          "data": {
            "text/plain": [
              "((14484, 51), (3621, 51), (14484,), (3621,))"
            ]
          },
          "metadata": {},
          "execution_count": 33
        }
      ],
      "source": [
        "X_train, X_test,y_train, y_test = train_test_split(X, y, train_size=0.8, test_size=0.2, random_state=22)\n",
        "X_train.shape, X_test.shape, y_train.shape, y_test.shape"
      ]
    },
    {
      "cell_type": "code",
      "execution_count": null,
      "metadata": {
        "colab": {
          "base_uri": "https://localhost:8080/",
          "height": 380
        },
        "id": "LevuFRs9sEi-",
        "outputId": "a2cb6852-5bc9-4093-92b6-d4d23f60cb79"
      },
      "outputs": [
        {
          "output_type": "error",
          "ename": "ValueError",
          "evalue": "ignored",
          "traceback": [
            "\u001b[0;31m---------------------------------------------------------------------------\u001b[0m",
            "\u001b[0;31mValueError\u001b[0m                                Traceback (most recent call last)",
            "\u001b[0;32m<ipython-input-35-f94ef4f2db45>\u001b[0m in \u001b[0;36m<module>\u001b[0;34m\u001b[0m\n\u001b[1;32m      2\u001b[0m \u001b[0;34m\u001b[0m\u001b[0m\n\u001b[1;32m      3\u001b[0m \u001b[0mpca\u001b[0m \u001b[0;34m=\u001b[0m \u001b[0mPCA\u001b[0m\u001b[0;34m(\u001b[0m\u001b[0mn_components\u001b[0m \u001b[0;34m=\u001b[0m \u001b[0;36m2\u001b[0m\u001b[0;34m)\u001b[0m\u001b[0;34m\u001b[0m\u001b[0;34m\u001b[0m\u001b[0m\n\u001b[0;32m----> 4\u001b[0;31m \u001b[0mX_train\u001b[0m \u001b[0;34m=\u001b[0m \u001b[0mpca\u001b[0m\u001b[0;34m.\u001b[0m\u001b[0mfit_transform\u001b[0m\u001b[0;34m(\u001b[0m\u001b[0mX_train\u001b[0m\u001b[0;34m)\u001b[0m\u001b[0;34m\u001b[0m\u001b[0;34m\u001b[0m\u001b[0m\n\u001b[0m\u001b[1;32m      5\u001b[0m \u001b[0mX_test\u001b[0m \u001b[0;34m=\u001b[0m \u001b[0mpca\u001b[0m\u001b[0;34m.\u001b[0m\u001b[0mtransform\u001b[0m\u001b[0;34m(\u001b[0m\u001b[0mX_test\u001b[0m\u001b[0;34m)\u001b[0m\u001b[0;34m\u001b[0m\u001b[0;34m\u001b[0m\u001b[0m\n\u001b[1;32m      6\u001b[0m \u001b[0;34m\u001b[0m\u001b[0m\n",
            "\u001b[0;32m/usr/local/lib/python3.8/dist-packages/sklearn/decomposition/_pca.py\u001b[0m in \u001b[0;36mfit_transform\u001b[0;34m(self, X, y)\u001b[0m\n\u001b[1;32m    405\u001b[0m         \u001b[0mC\u001b[0m\u001b[0;34m-\u001b[0m\u001b[0mordered\u001b[0m \u001b[0marray\u001b[0m\u001b[0;34m,\u001b[0m \u001b[0muse\u001b[0m \u001b[0;34m'np.ascontiguousarray'\u001b[0m\u001b[0;34m.\u001b[0m\u001b[0;34m\u001b[0m\u001b[0;34m\u001b[0m\u001b[0m\n\u001b[1;32m    406\u001b[0m         \"\"\"\n\u001b[0;32m--> 407\u001b[0;31m         \u001b[0mU\u001b[0m\u001b[0;34m,\u001b[0m \u001b[0mS\u001b[0m\u001b[0;34m,\u001b[0m \u001b[0mVt\u001b[0m \u001b[0;34m=\u001b[0m \u001b[0mself\u001b[0m\u001b[0;34m.\u001b[0m\u001b[0m_fit\u001b[0m\u001b[0;34m(\u001b[0m\u001b[0mX\u001b[0m\u001b[0;34m)\u001b[0m\u001b[0;34m\u001b[0m\u001b[0;34m\u001b[0m\u001b[0m\n\u001b[0m\u001b[1;32m    408\u001b[0m         \u001b[0mU\u001b[0m \u001b[0;34m=\u001b[0m \u001b[0mU\u001b[0m\u001b[0;34m[\u001b[0m\u001b[0;34m:\u001b[0m\u001b[0;34m,\u001b[0m \u001b[0;34m:\u001b[0m \u001b[0mself\u001b[0m\u001b[0;34m.\u001b[0m\u001b[0mn_components_\u001b[0m\u001b[0;34m]\u001b[0m\u001b[0;34m\u001b[0m\u001b[0;34m\u001b[0m\u001b[0m\n\u001b[1;32m    409\u001b[0m \u001b[0;34m\u001b[0m\u001b[0m\n",
            "\u001b[0;32m/usr/local/lib/python3.8/dist-packages/sklearn/decomposition/_pca.py\u001b[0m in \u001b[0;36m_fit\u001b[0;34m(self, X)\u001b[0m\n\u001b[1;32m    428\u001b[0m             )\n\u001b[1;32m    429\u001b[0m \u001b[0;34m\u001b[0m\u001b[0m\n\u001b[0;32m--> 430\u001b[0;31m         X = self._validate_data(\n\u001b[0m\u001b[1;32m    431\u001b[0m             \u001b[0mX\u001b[0m\u001b[0;34m,\u001b[0m \u001b[0mdtype\u001b[0m\u001b[0;34m=\u001b[0m\u001b[0;34m[\u001b[0m\u001b[0mnp\u001b[0m\u001b[0;34m.\u001b[0m\u001b[0mfloat64\u001b[0m\u001b[0;34m,\u001b[0m \u001b[0mnp\u001b[0m\u001b[0;34m.\u001b[0m\u001b[0mfloat32\u001b[0m\u001b[0;34m]\u001b[0m\u001b[0;34m,\u001b[0m \u001b[0mensure_2d\u001b[0m\u001b[0;34m=\u001b[0m\u001b[0;32mTrue\u001b[0m\u001b[0;34m,\u001b[0m \u001b[0mcopy\u001b[0m\u001b[0;34m=\u001b[0m\u001b[0mself\u001b[0m\u001b[0;34m.\u001b[0m\u001b[0mcopy\u001b[0m\u001b[0;34m\u001b[0m\u001b[0;34m\u001b[0m\u001b[0m\n\u001b[1;32m    432\u001b[0m         )\n",
            "\u001b[0;32m/usr/local/lib/python3.8/dist-packages/sklearn/base.py\u001b[0m in \u001b[0;36m_validate_data\u001b[0;34m(self, X, y, reset, validate_separately, **check_params)\u001b[0m\n\u001b[1;32m    564\u001b[0m             \u001b[0;32mraise\u001b[0m \u001b[0mValueError\u001b[0m\u001b[0;34m(\u001b[0m\u001b[0;34m\"Validation should be done on X, y or both.\"\u001b[0m\u001b[0;34m)\u001b[0m\u001b[0;34m\u001b[0m\u001b[0;34m\u001b[0m\u001b[0m\n\u001b[1;32m    565\u001b[0m         \u001b[0;32melif\u001b[0m \u001b[0;32mnot\u001b[0m \u001b[0mno_val_X\u001b[0m \u001b[0;32mand\u001b[0m \u001b[0mno_val_y\u001b[0m\u001b[0;34m:\u001b[0m\u001b[0;34m\u001b[0m\u001b[0;34m\u001b[0m\u001b[0m\n\u001b[0;32m--> 566\u001b[0;31m             \u001b[0mX\u001b[0m \u001b[0;34m=\u001b[0m \u001b[0mcheck_array\u001b[0m\u001b[0;34m(\u001b[0m\u001b[0mX\u001b[0m\u001b[0;34m,\u001b[0m \u001b[0;34m**\u001b[0m\u001b[0mcheck_params\u001b[0m\u001b[0;34m)\u001b[0m\u001b[0;34m\u001b[0m\u001b[0;34m\u001b[0m\u001b[0m\n\u001b[0m\u001b[1;32m    567\u001b[0m             \u001b[0mout\u001b[0m \u001b[0;34m=\u001b[0m \u001b[0mX\u001b[0m\u001b[0;34m\u001b[0m\u001b[0;34m\u001b[0m\u001b[0m\n\u001b[1;32m    568\u001b[0m         \u001b[0;32melif\u001b[0m \u001b[0mno_val_X\u001b[0m \u001b[0;32mand\u001b[0m \u001b[0;32mnot\u001b[0m \u001b[0mno_val_y\u001b[0m\u001b[0;34m:\u001b[0m\u001b[0;34m\u001b[0m\u001b[0;34m\u001b[0m\u001b[0m\n",
            "\u001b[0;32m/usr/local/lib/python3.8/dist-packages/sklearn/utils/validation.py\u001b[0m in \u001b[0;36mcheck_array\u001b[0;34m(array, accept_sparse, accept_large_sparse, dtype, order, copy, force_all_finite, ensure_2d, allow_nd, ensure_min_samples, ensure_min_features, estimator)\u001b[0m\n\u001b[1;32m    744\u001b[0m                     \u001b[0marray\u001b[0m \u001b[0;34m=\u001b[0m \u001b[0marray\u001b[0m\u001b[0;34m.\u001b[0m\u001b[0mastype\u001b[0m\u001b[0;34m(\u001b[0m\u001b[0mdtype\u001b[0m\u001b[0;34m,\u001b[0m \u001b[0mcasting\u001b[0m\u001b[0;34m=\u001b[0m\u001b[0;34m\"unsafe\"\u001b[0m\u001b[0;34m,\u001b[0m \u001b[0mcopy\u001b[0m\u001b[0;34m=\u001b[0m\u001b[0;32mFalse\u001b[0m\u001b[0;34m)\u001b[0m\u001b[0;34m\u001b[0m\u001b[0;34m\u001b[0m\u001b[0m\n\u001b[1;32m    745\u001b[0m                 \u001b[0;32melse\u001b[0m\u001b[0;34m:\u001b[0m\u001b[0;34m\u001b[0m\u001b[0;34m\u001b[0m\u001b[0m\n\u001b[0;32m--> 746\u001b[0;31m                     \u001b[0marray\u001b[0m \u001b[0;34m=\u001b[0m \u001b[0mnp\u001b[0m\u001b[0;34m.\u001b[0m\u001b[0masarray\u001b[0m\u001b[0;34m(\u001b[0m\u001b[0marray\u001b[0m\u001b[0;34m,\u001b[0m \u001b[0morder\u001b[0m\u001b[0;34m=\u001b[0m\u001b[0morder\u001b[0m\u001b[0;34m,\u001b[0m \u001b[0mdtype\u001b[0m\u001b[0;34m=\u001b[0m\u001b[0mdtype\u001b[0m\u001b[0;34m)\u001b[0m\u001b[0;34m\u001b[0m\u001b[0;34m\u001b[0m\u001b[0m\n\u001b[0m\u001b[1;32m    747\u001b[0m             \u001b[0;32mexcept\u001b[0m \u001b[0mComplexWarning\u001b[0m \u001b[0;32mas\u001b[0m \u001b[0mcomplex_warning\u001b[0m\u001b[0;34m:\u001b[0m\u001b[0;34m\u001b[0m\u001b[0;34m\u001b[0m\u001b[0m\n\u001b[1;32m    748\u001b[0m                 raise ValueError(\n",
            "\u001b[0;32m/usr/local/lib/python3.8/dist-packages/pandas/core/generic.py\u001b[0m in \u001b[0;36m__array__\u001b[0;34m(self, dtype)\u001b[0m\n\u001b[1;32m   1991\u001b[0m \u001b[0;34m\u001b[0m\u001b[0m\n\u001b[1;32m   1992\u001b[0m     \u001b[0;32mdef\u001b[0m \u001b[0m__array__\u001b[0m\u001b[0;34m(\u001b[0m\u001b[0mself\u001b[0m\u001b[0;34m,\u001b[0m \u001b[0mdtype\u001b[0m\u001b[0;34m:\u001b[0m \u001b[0mNpDtype\u001b[0m \u001b[0;34m|\u001b[0m \u001b[0;32mNone\u001b[0m \u001b[0;34m=\u001b[0m \u001b[0;32mNone\u001b[0m\u001b[0;34m)\u001b[0m \u001b[0;34m->\u001b[0m \u001b[0mnp\u001b[0m\u001b[0;34m.\u001b[0m\u001b[0mndarray\u001b[0m\u001b[0;34m:\u001b[0m\u001b[0;34m\u001b[0m\u001b[0;34m\u001b[0m\u001b[0m\n\u001b[0;32m-> 1993\u001b[0;31m         \u001b[0;32mreturn\u001b[0m \u001b[0mnp\u001b[0m\u001b[0;34m.\u001b[0m\u001b[0masarray\u001b[0m\u001b[0;34m(\u001b[0m\u001b[0mself\u001b[0m\u001b[0;34m.\u001b[0m\u001b[0m_values\u001b[0m\u001b[0;34m,\u001b[0m \u001b[0mdtype\u001b[0m\u001b[0;34m=\u001b[0m\u001b[0mdtype\u001b[0m\u001b[0;34m)\u001b[0m\u001b[0;34m\u001b[0m\u001b[0;34m\u001b[0m\u001b[0m\n\u001b[0m\u001b[1;32m   1994\u001b[0m \u001b[0;34m\u001b[0m\u001b[0m\n\u001b[1;32m   1995\u001b[0m     def __array_wrap__(\n",
            "\u001b[0;31mValueError\u001b[0m: could not convert string to float: 'na'"
          ]
        }
      ],
      "source": [
        "from sklearn.decomposition import PCA\n",
        "  \n",
        "pca = PCA(n_components = 2)\n",
        "X_train = pca.fit_transform(X_train)\n",
        "X_test = pca.transform(X_test)\n",
        "  \n",
        "explained_variance = pca.explained_variance_ratio_\n",
        "print(explained_variance)"
      ]
    },
    {
      "cell_type": "code",
      "execution_count": null,
      "metadata": {
        "colab": {
          "base_uri": "https://localhost:8080/"
        },
        "id": "9wrghI8KshY3",
        "outputId": "c6c18a86-bf27-413c-b000-3b1ce078188c"
      },
      "outputs": [
        {
          "output_type": "execute_result",
          "data": {
            "text/plain": [
              "(14484, 51)"
            ]
          },
          "metadata": {},
          "execution_count": 36
        }
      ],
      "source": [
        "X_train.shape"
      ]
    },
    {
      "cell_type": "markdown",
      "metadata": {
        "id": "j4JVfM3XVOXU"
      },
      "source": [
        "## Separate into X and y "
      ]
    },
    {
      "cell_type": "code",
      "execution_count": null,
      "metadata": {
        "colab": {
          "base_uri": "https://localhost:8080/"
        },
        "id": "-MYIfUzlG2Bb",
        "outputId": "f7cf50a4-29e2-4ba8-f5de-e92586cf2aa3"
      },
      "outputs": [
        {
          "output_type": "execute_result",
          "data": {
            "text/plain": [
              "((83000, 51), (83000,))"
            ]
          },
          "metadata": {},
          "execution_count": 10
        }
      ],
      "source": [
        "#X = customers.drop('default_ind', axis=1) \n",
        "\n",
        "X = customers.drop(columns=['default_ind', 'application_key'])\n",
        "y = customers.default_ind\n",
        "\n",
        "X.shape, y.shape"
      ]
    },
    {
      "cell_type": "markdown",
      "metadata": {
        "id": "XSWObi00VS5J"
      },
      "source": [
        "## Calculate VIF"
      ]
    },
    {
      "cell_type": "code",
      "execution_count": null,
      "metadata": {
        "id": "iAcwq6pHcX0b"
      },
      "outputs": [],
      "source": [
        "from statsmodels.formula.api import ols\n",
        "def calculate_vif(dataframe):\n",
        "    # Create an empty list to store the VIFs\n",
        "    vifs = []\n",
        "\n",
        "    # Create a dataframe without the constant columns\n",
        "    dataframe = dataframe.dropna(axis=1, how='all')\n",
        "\n",
        "    # For each column, calculate the VIF and append it to the list\n",
        "    for column in dataframe:\n",
        "        formula = '{} ~ {} + 1'.format(column, ' + '.join(dataframe.columns.difference([column])))\n",
        "        result = ols(formula, dataframe).fit()\n",
        "        vifs.append(round(result.rsquared, 2))\n",
        "\n",
        "    # Return the list of VIFs\n",
        "    return vifs\n",
        "\n",
        "print(calculate_vif(customers))"
      ]
    },
    {
      "cell_type": "markdown",
      "metadata": {
        "id": "GI0ZzGuoeT6o"
      },
      "source": [
        "## Extra"
      ]
    },
    {
      "cell_type": "code",
      "execution_count": null,
      "metadata": {
        "id": "s0ow6rsBf8RW",
        "colab": {
          "base_uri": "https://localhost:8080/"
        },
        "outputId": "f56b08bf-fc38-4a41-b1fd-418d0bf27164"
      },
      "outputs": [
        {
          "output_type": "stream",
          "name": "stdout",
          "text": [
            "Looking in indexes: https://pypi.org/simple, https://us-python.pkg.dev/colab-wheels/public/simple/\n",
            "Collecting lazypredict\n",
            "  Downloading lazypredict-0.2.12-py2.py3-none-any.whl (12 kB)\n",
            "Requirement already satisfied: xgboost in /usr/local/lib/python3.8/dist-packages (from lazypredict) (0.90)\n",
            "Requirement already satisfied: pandas in /usr/local/lib/python3.8/dist-packages (from lazypredict) (1.3.5)\n",
            "Requirement already satisfied: joblib in /usr/local/lib/python3.8/dist-packages (from lazypredict) (1.2.0)\n",
            "Requirement already satisfied: tqdm in /usr/local/lib/python3.8/dist-packages (from lazypredict) (4.64.1)\n",
            "Requirement already satisfied: lightgbm in /usr/local/lib/python3.8/dist-packages (from lazypredict) (2.2.3)\n",
            "Requirement already satisfied: scikit-learn in /usr/local/lib/python3.8/dist-packages (from lazypredict) (1.0.2)\n",
            "Requirement already satisfied: click in /usr/local/lib/python3.8/dist-packages (from lazypredict) (7.1.2)\n",
            "Requirement already satisfied: numpy in /usr/local/lib/python3.8/dist-packages (from lightgbm->lazypredict) (1.21.6)\n",
            "Requirement already satisfied: scipy in /usr/local/lib/python3.8/dist-packages (from lightgbm->lazypredict) (1.7.3)\n",
            "Requirement already satisfied: pytz>=2017.3 in /usr/local/lib/python3.8/dist-packages (from pandas->lazypredict) (2022.6)\n",
            "Requirement already satisfied: python-dateutil>=2.7.3 in /usr/local/lib/python3.8/dist-packages (from pandas->lazypredict) (2.8.2)\n",
            "Requirement already satisfied: six>=1.5 in /usr/local/lib/python3.8/dist-packages (from python-dateutil>=2.7.3->pandas->lazypredict) (1.15.0)\n",
            "Requirement already satisfied: threadpoolctl>=2.0.0 in /usr/local/lib/python3.8/dist-packages (from scikit-learn->lazypredict) (3.1.0)\n",
            "Installing collected packages: lazypredict\n",
            "Successfully installed lazypredict-0.2.12\n"
          ]
        }
      ],
      "source": [
        "!pip install lazypredict"
      ]
    },
    {
      "cell_type": "code",
      "execution_count": null,
      "metadata": {
        "colab": {
          "base_uri": "https://localhost:8080/"
        },
        "id": "FoOsmk34eVg_",
        "outputId": "1bdd066d-b92e-496a-ea31-debc625e5c38"
      },
      "outputs": [
        {
          "output_type": "stream",
          "name": "stderr",
          "text": [
            "100%|██████████| 29/29 [00:19<00:00,  1.45it/s]"
          ]
        },
        {
          "output_type": "stream",
          "name": "stdout",
          "text": [
            "\n",
            "Empty DataFrame\n",
            "Columns: [Accuracy, Balanced Accuracy, ROC AUC, F1 Score, Time Taken]\n",
            "Index: []\n"
          ]
        },
        {
          "output_type": "stream",
          "name": "stderr",
          "text": [
            "\n"
          ]
        }
      ],
      "source": [
        "from lazypredict.Supervised import LazyClassifier \n",
        "from sklearn.model_selection import train_test_split\n",
        "\n",
        "X_train, X_test, y_train, y_test = train_test_split(X, y, test_size=.2, random_state =22)\n",
        "clf = LazyClassifier( verbose=0, ignore_warnings=True, custom_metric=None)\n",
        "models,predictions = clf.fit(X_train, X_test, y_train, y_test)\n",
        "print()\n",
        "print(models)"
      ]
    },
    {
      "cell_type": "markdown",
      "metadata": {
        "id": "0L76lYgxVZs8"
      },
      "source": [
        "# ML models"
      ]
    },
    {
      "cell_type": "markdown",
      "metadata": {
        "id": "Rju6nnzZ9d_M"
      },
      "source": [
        "## Decision Tree"
      ]
    },
    {
      "cell_type": "code",
      "execution_count": null,
      "metadata": {
        "colab": {
          "base_uri": "https://localhost:8080/"
        },
        "id": "5lHRkd4m9-jr",
        "outputId": "a44b3874-3dad-45c9-d68b-fad3c491453a"
      },
      "outputs": [
        {
          "output_type": "execute_result",
          "data": {
            "text/plain": [
              "((66400, 51), (16600, 51), (66400,), (16600,))"
            ]
          },
          "metadata": {},
          "execution_count": 12
        }
      ],
      "source": [
        "X_train, X_test,y_train, y_test = train_test_split(X, y, train_size=0.8, test_size=0.2, random_state=22)\n",
        "X_train.shape, X_test.shape, y_train.shape, y_test.shape"
      ]
    },
    {
      "cell_type": "code",
      "execution_count": null,
      "metadata": {
        "id": "Z4EG0uKx-Ju7"
      },
      "outputs": [],
      "source": [
        "# undersampling\n",
        "from imblearn.under_sampling import NearMiss\n",
        "ns =NearMiss(ratio='not minority')\n",
        "\n",
        "X_train, y_train = ns.fit_sample(X_train, y_train)\n",
        "print(pd.DataFrame(y_train).value_counts())\n",
        "X_test, y_test = ns.fit_sample(X_test, y_test)\n",
        "print(pd.DataFrame(y_test).value_counts())"
      ]
    },
    {
      "cell_type": "code",
      "execution_count": null,
      "metadata": {
        "id": "x2x50Iq1-QKY"
      },
      "outputs": [],
      "source": [
        "dt = DecisionTreeClassifier()\n",
        "dt.fit(X_train, y_train)"
      ]
    },
    {
      "cell_type": "code",
      "execution_count": null,
      "metadata": {
        "id": "qVBi_jARCIU9"
      },
      "outputs": [],
      "source": [
        "# Cross Validation for the model\n",
        "dt_brforetune_cv_scores  = cross_val_score(estimator=dt, X=X_train, y=y_train, cv=10, n_jobs=-1)\n",
        "mean_dt_brforetune_cv_score = dt_brforetune_cv_scores.mean()\n",
        "print(\"The cross-validation accuracy score for untuned decisionTree model after a 10 fold cross validation:\",  mean_dt_brforetune_cv_score)"
      ]
    },
    {
      "cell_type": "code",
      "execution_count": null,
      "metadata": {
        "id": "4fwawA9xCiOl"
      },
      "outputs": [],
      "source": [
        "# HyperParameter Tuning\n",
        "print(dt.get_params())\n",
        "params_dt = {\n",
        "            'max_depth': [100,600],\n",
        "            'min_samples_leaf':[50,100,1000], #100/1000/5000\n",
        "            'max_features': [4,5, 6] #4/6/5,\n",
        "             }\n",
        "grid_dt = GridSearchCV(estimator=dt, param_grid=params_dt, scoring=\"accuracy\", cv=10, n_jobs=-1)\n",
        "grid_dt.fit(X_train,y_train)"
      ]
    },
    {
      "cell_type": "code",
      "execution_count": null,
      "metadata": {
        "id": "evhw1x3wDFH5"
      },
      "outputs": [],
      "source": [
        "best_hyperparams = grid_dt.best_params_\n",
        "print(\"Best hyperparameters: \\n\", best_hyperparams )\n",
        "dt_aftertune_cv_scores = grid_dt.best_score_\n",
        "print(\"The cross-validation accuracy score for tuned decisionTree model after a 10 fold cross validation:\\n\",  dt_aftertune_cv_scores)\n",
        "best_dt_model = grid_dt.best_estimator_"
      ]
    },
    {
      "cell_type": "code",
      "execution_count": null,
      "metadata": {
        "id": "s0QkAg2ZDL8E"
      },
      "outputs": [],
      "source": [
        "best_dt_fit_for_train_data = cross_val_score(estimator=best_dt_model, X=X_train, y=y_train, cv=10, n_jobs=-1).mean()\n",
        "print(best_dt_fit_for_train_data)\n",
        "best_dt_fit_for_test_data = cross_val_score(estimator=best_dt_model, X=X_test, y=y_test, cv=10, n_jobs=-1).mean()\n",
        "print(best_dt_fit_for_test_data)"
      ]
    },
    {
      "cell_type": "code",
      "execution_count": null,
      "metadata": {
        "id": "Y6uIKaDkEZSM"
      },
      "outputs": [],
      "source": [
        "y_pred = dt.predict(test.drop(columns=['application_key']))"
      ]
    },
    {
      "cell_type": "code",
      "execution_count": null,
      "metadata": {
        "id": "u0BZ03zDFOO8"
      },
      "outputs": [],
      "source": [
        "test[\"preds\"] = y_pred\n",
        "final_sub = test[[\"application_key\", \"preds\"]]\n",
        "final_sub=final_sub.set_index('application_key')\n",
        "final_sub.to_csv(\"MadrasAnalytics_3.csv\", header = False)"
      ]
    },
    {
      "cell_type": "markdown",
      "metadata": {
        "id": "_14BNMY-xCDX"
      },
      "source": [
        "## AdaBoost"
      ]
    },
    {
      "cell_type": "code",
      "execution_count": null,
      "metadata": {
        "id": "nPnVsK2oxEH-"
      },
      "outputs": [],
      "source": [
        "from sklearn.model_selection import train_test_split\n",
        "X_train, X_test, y_train, y_test = train_test_split(X, y, test_size=0.21, random_state=42)\n",
        "\n",
        "from sklearn.ensemble import AdaBoostClassifier\n",
        "from sklearn import datasets\n",
        "# Import train_test_split function\n",
        "from sklearn.model_selection import train_test_split\n",
        "#Import scikit-learn metrics module for accuracy calculation\n",
        "from sklearn import metrics"
      ]
    },
    {
      "cell_type": "code",
      "execution_count": null,
      "metadata": {
        "colab": {
          "base_uri": "https://localhost:8080/",
          "height": 190
        },
        "id": "GDWRswhvxSDc",
        "outputId": "2830601e-7fae-45d4-b3a0-ff5279edbba9"
      },
      "outputs": [
        {
          "output_type": "error",
          "ename": "NameError",
          "evalue": "ignored",
          "traceback": [
            "\u001b[0;31m---------------------------------------------------------------------------\u001b[0m",
            "\u001b[0;31mNameError\u001b[0m                                 Traceback (most recent call last)",
            "\u001b[0;32m<ipython-input-20-773d87b77609>\u001b[0m in \u001b[0;36m<module>\u001b[0;34m\u001b[0m\n\u001b[1;32m      1\u001b[0m \u001b[0;31m# Model Accuracy, how often is the classifier correct?\u001b[0m\u001b[0;34m\u001b[0m\u001b[0;34m\u001b[0m\u001b[0;34m\u001b[0m\u001b[0m\n\u001b[0;32m----> 2\u001b[0;31m \u001b[0mprint\u001b[0m\u001b[0;34m(\u001b[0m\u001b[0;34m\"Accuracy:\"\u001b[0m\u001b[0;34m,\u001b[0m\u001b[0mmetrics\u001b[0m\u001b[0;34m.\u001b[0m\u001b[0maccuracy_score\u001b[0m\u001b[0;34m(\u001b[0m\u001b[0my_test\u001b[0m\u001b[0;34m,\u001b[0m \u001b[0my_pred\u001b[0m\u001b[0;34m)\u001b[0m\u001b[0;34m*\u001b[0m\u001b[0;36m100\u001b[0m\u001b[0;34m)\u001b[0m\u001b[0;34m\u001b[0m\u001b[0;34m\u001b[0m\u001b[0m\n\u001b[0m",
            "\u001b[0;31mNameError\u001b[0m: name 'y_pred' is not defined"
          ]
        }
      ],
      "source": [
        "# Model Accuracy, how often is the classifier correct?\n",
        "print(\"Accuracy:\",metrics.accuracy_score(y_test, y_pred)*100)"
      ]
    },
    {
      "cell_type": "code",
      "execution_count": null,
      "metadata": {
        "id": "589G0pUZxVBy",
        "colab": {
          "base_uri": "https://localhost:8080/",
          "height": 246
        },
        "outputId": "924ab630-257a-4f9d-9333-67bfb424c562"
      },
      "outputs": [
        {
          "output_type": "error",
          "ename": "NameError",
          "evalue": "ignored",
          "traceback": [
            "\u001b[0;31m---------------------------------------------------------------------------\u001b[0m",
            "\u001b[0;31mNameError\u001b[0m                                 Traceback (most recent call last)",
            "\u001b[0;32m<ipython-input-21-8802f3115f38>\u001b[0m in \u001b[0;36m<module>\u001b[0;34m\u001b[0m\n\u001b[0;32m----> 1\u001b[0;31m \u001b[0my_pred\u001b[0m \u001b[0;34m=\u001b[0m \u001b[0mmodel\u001b[0m\u001b[0;34m.\u001b[0m\u001b[0mpredict\u001b[0m\u001b[0;34m(\u001b[0m\u001b[0mtest\u001b[0m\u001b[0;34m.\u001b[0m\u001b[0mdrop\u001b[0m\u001b[0;34m(\u001b[0m\u001b[0mcolumns\u001b[0m\u001b[0;34m=\u001b[0m\u001b[0;34m[\u001b[0m\u001b[0;34m'application_key'\u001b[0m\u001b[0;34m,\u001b[0m \u001b[0;34m'preds'\u001b[0m\u001b[0;34m]\u001b[0m\u001b[0;34m)\u001b[0m\u001b[0;34m)\u001b[0m\u001b[0;34m\u001b[0m\u001b[0;34m\u001b[0m\u001b[0m\n\u001b[0m\u001b[1;32m      2\u001b[0m \u001b[0mtest\u001b[0m\u001b[0;34m[\u001b[0m\u001b[0;34m\"preds\"\u001b[0m\u001b[0;34m]\u001b[0m \u001b[0;34m=\u001b[0m \u001b[0my_pred\u001b[0m\u001b[0;34m\u001b[0m\u001b[0;34m\u001b[0m\u001b[0m\n\u001b[1;32m      3\u001b[0m \u001b[0mfinal_sub\u001b[0m \u001b[0;34m=\u001b[0m \u001b[0mtest\u001b[0m\u001b[0;34m[\u001b[0m\u001b[0;34m[\u001b[0m\u001b[0;34m\"application_key\"\u001b[0m\u001b[0;34m,\u001b[0m \u001b[0;34m\"preds\"\u001b[0m\u001b[0;34m]\u001b[0m\u001b[0;34m]\u001b[0m\u001b[0;34m\u001b[0m\u001b[0;34m\u001b[0m\u001b[0m\n\u001b[1;32m      4\u001b[0m \u001b[0mfinal_sub\u001b[0m\u001b[0;34m=\u001b[0m\u001b[0mfinal_sub\u001b[0m\u001b[0;34m.\u001b[0m\u001b[0mset_index\u001b[0m\u001b[0;34m(\u001b[0m\u001b[0;34m'application_key'\u001b[0m\u001b[0;34m)\u001b[0m\u001b[0;34m\u001b[0m\u001b[0;34m\u001b[0m\u001b[0m\n\u001b[1;32m      5\u001b[0m \u001b[0mfinal_sub\u001b[0m\u001b[0;34m.\u001b[0m\u001b[0mto_csv\u001b[0m\u001b[0;34m(\u001b[0m\u001b[0;34m\"MadrasAnalytics_10_adb.csv\"\u001b[0m\u001b[0;34m,\u001b[0m \u001b[0mheader\u001b[0m \u001b[0;34m=\u001b[0m \u001b[0;32mFalse\u001b[0m\u001b[0;34m)\u001b[0m\u001b[0;34m\u001b[0m\u001b[0;34m\u001b[0m\u001b[0m\n",
            "\u001b[0;31mNameError\u001b[0m: name 'model' is not defined"
          ]
        }
      ],
      "source": [
        "y_pred = model.predict(test.drop(columns=['application_key', 'preds']))\n",
        "test[\"preds\"] = y_pred\n",
        "final_sub = test[[\"application_key\", \"preds\"]]\n",
        "final_sub=final_sub.set_index('application_key')\n",
        "final_sub.to_csv(\"MadrasAnalytics_10_adb.csv\", header = False)"
      ]
    },
    {
      "cell_type": "markdown",
      "metadata": {
        "id": "5C0uQcE_xhdc"
      },
      "source": [
        "## Random Forest"
      ]
    },
    {
      "cell_type": "code",
      "execution_count": null,
      "metadata": {
        "id": "_wvqW5gTxkEm",
        "colab": {
          "base_uri": "https://localhost:8080/",
          "height": 190
        },
        "outputId": "eef01952-915c-458c-8b37-26f01c40170d"
      },
      "outputs": [
        {
          "output_type": "error",
          "ename": "NameError",
          "evalue": "ignored",
          "traceback": [
            "\u001b[0;31m---------------------------------------------------------------------------\u001b[0m",
            "\u001b[0;31mNameError\u001b[0m                                 Traceback (most recent call last)",
            "\u001b[0;32m<ipython-input-6-073ffa6fde25>\u001b[0m in \u001b[0;36m<module>\u001b[0;34m\u001b[0m\n\u001b[1;32m      1\u001b[0m \u001b[0;32mfrom\u001b[0m \u001b[0msklearn\u001b[0m\u001b[0;34m.\u001b[0m\u001b[0mmodel_selection\u001b[0m \u001b[0;32mimport\u001b[0m \u001b[0mtrain_test_split\u001b[0m\u001b[0;34m\u001b[0m\u001b[0;34m\u001b[0m\u001b[0m\n\u001b[0;32m----> 2\u001b[0;31m \u001b[0mX_train\u001b[0m\u001b[0;34m,\u001b[0m \u001b[0mX_test\u001b[0m\u001b[0;34m,\u001b[0m \u001b[0my_train\u001b[0m\u001b[0;34m,\u001b[0m \u001b[0my_test\u001b[0m \u001b[0;34m=\u001b[0m \u001b[0mtrain_test_split\u001b[0m\u001b[0;34m(\u001b[0m\u001b[0mX\u001b[0m\u001b[0;34m,\u001b[0m \u001b[0my\u001b[0m\u001b[0;34m,\u001b[0m \u001b[0mtest_size\u001b[0m\u001b[0;34m=\u001b[0m\u001b[0;36m0.21\u001b[0m\u001b[0;34m,\u001b[0m \u001b[0mrandom_state\u001b[0m\u001b[0;34m=\u001b[0m\u001b[0;36m42\u001b[0m\u001b[0;34m)\u001b[0m\u001b[0;34m\u001b[0m\u001b[0;34m\u001b[0m\u001b[0m\n\u001b[0m",
            "\u001b[0;31mNameError\u001b[0m: name 'X' is not defined"
          ]
        }
      ],
      "source": [
        "from sklearn.model_selection import train_test_split\n",
        "X_train, X_test, y_train, y_test = train_test_split(X, y, test_size=0.21, random_state=42)"
      ]
    },
    {
      "cell_type": "code",
      "execution_count": null,
      "metadata": {
        "colab": {
          "base_uri": "https://localhost:8080/",
          "height": 380
        },
        "id": "1Mmz9ycwxnBo",
        "outputId": "3778ada2-66d7-4290-f137-3c7242500158"
      },
      "outputs": [
        {
          "ename": "ValueError",
          "evalue": "ignored",
          "output_type": "error",
          "traceback": [
            "\u001b[0;31m---------------------------------------------------------------------------\u001b[0m",
            "\u001b[0;31mValueError\u001b[0m                                Traceback (most recent call last)",
            "\u001b[0;32m<ipython-input-71-a9a70355dc89>\u001b[0m in \u001b[0;36m<module>\u001b[0;34m\u001b[0m\n\u001b[1;32m      6\u001b[0m \u001b[0;34m\u001b[0m\u001b[0m\n\u001b[1;32m      7\u001b[0m \u001b[0;31m#Train the model using the training sets y_pred=clf.predict(X_test)\u001b[0m\u001b[0;34m\u001b[0m\u001b[0;34m\u001b[0m\u001b[0;34m\u001b[0m\u001b[0m\n\u001b[0;32m----> 8\u001b[0;31m \u001b[0mclf\u001b[0m\u001b[0;34m.\u001b[0m\u001b[0mfit\u001b[0m\u001b[0;34m(\u001b[0m\u001b[0mX_train\u001b[0m\u001b[0;34m,\u001b[0m\u001b[0my_train\u001b[0m\u001b[0;34m)\u001b[0m\u001b[0;34m\u001b[0m\u001b[0;34m\u001b[0m\u001b[0m\n\u001b[0m\u001b[1;32m      9\u001b[0m \u001b[0;34m\u001b[0m\u001b[0m\n\u001b[1;32m     10\u001b[0m \u001b[0my_pred\u001b[0m\u001b[0;34m=\u001b[0m\u001b[0mclf\u001b[0m\u001b[0;34m.\u001b[0m\u001b[0mpredict\u001b[0m\u001b[0;34m(\u001b[0m\u001b[0mX_test\u001b[0m\u001b[0;34m)\u001b[0m\u001b[0;34m\u001b[0m\u001b[0;34m\u001b[0m\u001b[0m\n",
            "\u001b[0;32m/usr/local/lib/python3.8/dist-packages/sklearn/ensemble/_forest.py\u001b[0m in \u001b[0;36mfit\u001b[0;34m(self, X, y, sample_weight)\u001b[0m\n\u001b[1;32m    325\u001b[0m         \u001b[0;32mif\u001b[0m \u001b[0missparse\u001b[0m\u001b[0;34m(\u001b[0m\u001b[0my\u001b[0m\u001b[0;34m)\u001b[0m\u001b[0;34m:\u001b[0m\u001b[0;34m\u001b[0m\u001b[0;34m\u001b[0m\u001b[0m\n\u001b[1;32m    326\u001b[0m             \u001b[0;32mraise\u001b[0m \u001b[0mValueError\u001b[0m\u001b[0;34m(\u001b[0m\u001b[0;34m\"sparse multilabel-indicator for y is not supported.\"\u001b[0m\u001b[0;34m)\u001b[0m\u001b[0;34m\u001b[0m\u001b[0;34m\u001b[0m\u001b[0m\n\u001b[0;32m--> 327\u001b[0;31m         X, y = self._validate_data(\n\u001b[0m\u001b[1;32m    328\u001b[0m             \u001b[0mX\u001b[0m\u001b[0;34m,\u001b[0m \u001b[0my\u001b[0m\u001b[0;34m,\u001b[0m \u001b[0mmulti_output\u001b[0m\u001b[0;34m=\u001b[0m\u001b[0;32mTrue\u001b[0m\u001b[0;34m,\u001b[0m \u001b[0maccept_sparse\u001b[0m\u001b[0;34m=\u001b[0m\u001b[0;34m\"csc\"\u001b[0m\u001b[0;34m,\u001b[0m \u001b[0mdtype\u001b[0m\u001b[0;34m=\u001b[0m\u001b[0mDTYPE\u001b[0m\u001b[0;34m\u001b[0m\u001b[0;34m\u001b[0m\u001b[0m\n\u001b[1;32m    329\u001b[0m         )\n",
            "\u001b[0;32m/usr/local/lib/python3.8/dist-packages/sklearn/base.py\u001b[0m in \u001b[0;36m_validate_data\u001b[0;34m(self, X, y, reset, validate_separately, **check_params)\u001b[0m\n\u001b[1;32m    579\u001b[0m                 \u001b[0my\u001b[0m \u001b[0;34m=\u001b[0m \u001b[0mcheck_array\u001b[0m\u001b[0;34m(\u001b[0m\u001b[0my\u001b[0m\u001b[0;34m,\u001b[0m \u001b[0;34m**\u001b[0m\u001b[0mcheck_y_params\u001b[0m\u001b[0;34m)\u001b[0m\u001b[0;34m\u001b[0m\u001b[0;34m\u001b[0m\u001b[0m\n\u001b[1;32m    580\u001b[0m             \u001b[0;32melse\u001b[0m\u001b[0;34m:\u001b[0m\u001b[0;34m\u001b[0m\u001b[0;34m\u001b[0m\u001b[0m\n\u001b[0;32m--> 581\u001b[0;31m                 \u001b[0mX\u001b[0m\u001b[0;34m,\u001b[0m \u001b[0my\u001b[0m \u001b[0;34m=\u001b[0m \u001b[0mcheck_X_y\u001b[0m\u001b[0;34m(\u001b[0m\u001b[0mX\u001b[0m\u001b[0;34m,\u001b[0m \u001b[0my\u001b[0m\u001b[0;34m,\u001b[0m \u001b[0;34m**\u001b[0m\u001b[0mcheck_params\u001b[0m\u001b[0;34m)\u001b[0m\u001b[0;34m\u001b[0m\u001b[0;34m\u001b[0m\u001b[0m\n\u001b[0m\u001b[1;32m    582\u001b[0m             \u001b[0mout\u001b[0m \u001b[0;34m=\u001b[0m \u001b[0mX\u001b[0m\u001b[0;34m,\u001b[0m \u001b[0my\u001b[0m\u001b[0;34m\u001b[0m\u001b[0;34m\u001b[0m\u001b[0m\n\u001b[1;32m    583\u001b[0m \u001b[0;34m\u001b[0m\u001b[0m\n",
            "\u001b[0;32m/usr/local/lib/python3.8/dist-packages/sklearn/utils/validation.py\u001b[0m in \u001b[0;36mcheck_X_y\u001b[0;34m(X, y, accept_sparse, accept_large_sparse, dtype, order, copy, force_all_finite, ensure_2d, allow_nd, multi_output, ensure_min_samples, ensure_min_features, y_numeric, estimator)\u001b[0m\n\u001b[1;32m    962\u001b[0m         \u001b[0;32mraise\u001b[0m \u001b[0mValueError\u001b[0m\u001b[0;34m(\u001b[0m\u001b[0;34m\"y cannot be None\"\u001b[0m\u001b[0;34m)\u001b[0m\u001b[0;34m\u001b[0m\u001b[0;34m\u001b[0m\u001b[0m\n\u001b[1;32m    963\u001b[0m \u001b[0;34m\u001b[0m\u001b[0m\n\u001b[0;32m--> 964\u001b[0;31m     X = check_array(\n\u001b[0m\u001b[1;32m    965\u001b[0m         \u001b[0mX\u001b[0m\u001b[0;34m,\u001b[0m\u001b[0;34m\u001b[0m\u001b[0;34m\u001b[0m\u001b[0m\n\u001b[1;32m    966\u001b[0m         \u001b[0maccept_sparse\u001b[0m\u001b[0;34m=\u001b[0m\u001b[0maccept_sparse\u001b[0m\u001b[0;34m,\u001b[0m\u001b[0;34m\u001b[0m\u001b[0;34m\u001b[0m\u001b[0m\n",
            "\u001b[0;32m/usr/local/lib/python3.8/dist-packages/sklearn/utils/validation.py\u001b[0m in \u001b[0;36mcheck_array\u001b[0;34m(array, accept_sparse, accept_large_sparse, dtype, order, copy, force_all_finite, ensure_2d, allow_nd, ensure_min_samples, ensure_min_features, estimator)\u001b[0m\n\u001b[1;32m    744\u001b[0m                     \u001b[0marray\u001b[0m \u001b[0;34m=\u001b[0m \u001b[0marray\u001b[0m\u001b[0;34m.\u001b[0m\u001b[0mastype\u001b[0m\u001b[0;34m(\u001b[0m\u001b[0mdtype\u001b[0m\u001b[0;34m,\u001b[0m \u001b[0mcasting\u001b[0m\u001b[0;34m=\u001b[0m\u001b[0;34m\"unsafe\"\u001b[0m\u001b[0;34m,\u001b[0m \u001b[0mcopy\u001b[0m\u001b[0;34m=\u001b[0m\u001b[0;32mFalse\u001b[0m\u001b[0;34m)\u001b[0m\u001b[0;34m\u001b[0m\u001b[0;34m\u001b[0m\u001b[0m\n\u001b[1;32m    745\u001b[0m                 \u001b[0;32melse\u001b[0m\u001b[0;34m:\u001b[0m\u001b[0;34m\u001b[0m\u001b[0;34m\u001b[0m\u001b[0m\n\u001b[0;32m--> 746\u001b[0;31m                     \u001b[0marray\u001b[0m \u001b[0;34m=\u001b[0m \u001b[0mnp\u001b[0m\u001b[0;34m.\u001b[0m\u001b[0masarray\u001b[0m\u001b[0;34m(\u001b[0m\u001b[0marray\u001b[0m\u001b[0;34m,\u001b[0m \u001b[0morder\u001b[0m\u001b[0;34m=\u001b[0m\u001b[0morder\u001b[0m\u001b[0;34m,\u001b[0m \u001b[0mdtype\u001b[0m\u001b[0;34m=\u001b[0m\u001b[0mdtype\u001b[0m\u001b[0;34m)\u001b[0m\u001b[0;34m\u001b[0m\u001b[0;34m\u001b[0m\u001b[0m\n\u001b[0m\u001b[1;32m    747\u001b[0m             \u001b[0;32mexcept\u001b[0m \u001b[0mComplexWarning\u001b[0m \u001b[0;32mas\u001b[0m \u001b[0mcomplex_warning\u001b[0m\u001b[0;34m:\u001b[0m\u001b[0;34m\u001b[0m\u001b[0;34m\u001b[0m\u001b[0m\n\u001b[1;32m    748\u001b[0m                 raise ValueError(\n",
            "\u001b[0;32m/usr/local/lib/python3.8/dist-packages/pandas/core/generic.py\u001b[0m in \u001b[0;36m__array__\u001b[0;34m(self, dtype)\u001b[0m\n\u001b[1;32m   1991\u001b[0m \u001b[0;34m\u001b[0m\u001b[0m\n\u001b[1;32m   1992\u001b[0m     \u001b[0;32mdef\u001b[0m \u001b[0m__array__\u001b[0m\u001b[0;34m(\u001b[0m\u001b[0mself\u001b[0m\u001b[0;34m,\u001b[0m \u001b[0mdtype\u001b[0m\u001b[0;34m:\u001b[0m \u001b[0mNpDtype\u001b[0m \u001b[0;34m|\u001b[0m \u001b[0;32mNone\u001b[0m \u001b[0;34m=\u001b[0m \u001b[0;32mNone\u001b[0m\u001b[0;34m)\u001b[0m \u001b[0;34m->\u001b[0m \u001b[0mnp\u001b[0m\u001b[0;34m.\u001b[0m\u001b[0mndarray\u001b[0m\u001b[0;34m:\u001b[0m\u001b[0;34m\u001b[0m\u001b[0;34m\u001b[0m\u001b[0m\n\u001b[0;32m-> 1993\u001b[0;31m         \u001b[0;32mreturn\u001b[0m \u001b[0mnp\u001b[0m\u001b[0;34m.\u001b[0m\u001b[0masarray\u001b[0m\u001b[0;34m(\u001b[0m\u001b[0mself\u001b[0m\u001b[0;34m.\u001b[0m\u001b[0m_values\u001b[0m\u001b[0;34m,\u001b[0m \u001b[0mdtype\u001b[0m\u001b[0;34m=\u001b[0m\u001b[0mdtype\u001b[0m\u001b[0;34m)\u001b[0m\u001b[0;34m\u001b[0m\u001b[0;34m\u001b[0m\u001b[0m\n\u001b[0m\u001b[1;32m   1994\u001b[0m \u001b[0;34m\u001b[0m\u001b[0m\n\u001b[1;32m   1995\u001b[0m     def __array_wrap__(\n",
            "\u001b[0;31mValueError\u001b[0m: could not convert string to float: 'na'"
          ]
        }
      ],
      "source": [
        "#Import Random Forest Model\n",
        "from sklearn.ensemble import RandomForestClassifier\n",
        "\n",
        "#Create a Gaussian Classifier\n",
        "clf=RandomForestClassifier(n_estimators=700)\n",
        "\n",
        "#Train the model using the training sets y_pred=clf.predict(X_test)\n",
        "clf.fit(X_train,y_train)\n",
        "\n",
        "y_pred=clf.predict(X_test)"
      ]
    },
    {
      "cell_type": "code",
      "execution_count": null,
      "metadata": {
        "id": "bFBgcTYpxqsr"
      },
      "outputs": [],
      "source": [
        "#Import scikit-learn metrics module for accuracy calculation\n",
        "from sklearn import metrics\n",
        "# Model Accuracy, how often is the classifier correct?\n",
        "print(\"Accuracy:\",metrics.accuracy_score(y_test, y_pred)*100)"
      ]
    },
    {
      "cell_type": "code",
      "execution_count": null,
      "metadata": {
        "id": "6meT85xCxuL3"
      },
      "outputs": [],
      "source": [
        "y_pred = clf.predict(test.drop(columns=['application_key']))\n",
        "test[\"preds\"] = y_pred\n",
        "final_sub = test[[\"application_key\", \"preds\"]]\n",
        "final_sub=final_sub.set_index('application_key')\n",
        "final_sub.to_csv(\"MadrasAnalytics_7.csv\", header = False)"
      ]
    },
    {
      "cell_type": "markdown",
      "metadata": {
        "id": "3pxcmO4FHrhA"
      },
      "source": [
        "## XG Boost"
      ]
    },
    {
      "cell_type": "markdown",
      "metadata": {
        "id": "-REUc24a7VTR"
      },
      "source": [
        "51.67%"
      ]
    },
    {
      "cell_type": "code",
      "execution_count": null,
      "metadata": {
        "colab": {
          "base_uri": "https://localhost:8080/"
        },
        "id": "8Da018WMHvRf",
        "outputId": "cf08cc8d-040c-4adc-aa3d-24155e0bb8ca"
      },
      "outputs": [
        {
          "output_type": "stream",
          "name": "stdout",
          "text": [
            "Looking in indexes: https://pypi.org/simple, https://us-python.pkg.dev/colab-wheels/public/simple/\n",
            "Requirement already satisfied: xgboost in /usr/local/lib/python3.8/dist-packages (0.90)\n",
            "Requirement already satisfied: numpy in /usr/local/lib/python3.8/dist-packages (from xgboost) (1.21.6)\n",
            "Requirement already satisfied: scipy in /usr/local/lib/python3.8/dist-packages (from xgboost) (1.7.3)\n"
          ]
        }
      ],
      "source": [
        "!pip install xgboost"
      ]
    },
    {
      "cell_type": "code",
      "execution_count": null,
      "metadata": {
        "id": "1RNTkoQpHyyS"
      },
      "outputs": [],
      "source": [
        "import xgboost as xgb\n",
        "from xgboost import XGBClassifier"
      ]
    },
    {
      "cell_type": "markdown",
      "metadata": {
        "id": "pJzbi349XdVn"
      },
      "source": [
        "### Parameter tuning"
      ]
    },
    {
      "cell_type": "code",
      "execution_count": null,
      "metadata": {
        "colab": {
          "base_uri": "https://localhost:8080/",
          "height": 643
        },
        "id": "jSSN93P5Xf75",
        "outputId": "59e8c175-6502-4173-edff-10fe386f50ef"
      },
      "outputs": [
        {
          "output_type": "stream",
          "name": "stdout",
          "text": [
            "Training with Cross-Validation\n",
            "Begin Cross-validation Grid Search...\n"
          ]
        },
        {
          "output_type": "error",
          "ename": "XGBoostError",
          "evalue": "ignored",
          "traceback": [
            "\u001b[0;31m---------------------------------------------------------------------------\u001b[0m",
            "\u001b[0;31mXGBoostError\u001b[0m                              Traceback (most recent call last)",
            "\u001b[0;32m<ipython-input-48-a03203007514>\u001b[0m in \u001b[0;36m<module>\u001b[0;34m\u001b[0m\n\u001b[1;32m    118\u001b[0m         silent=False)\n\u001b[1;32m    119\u001b[0m \u001b[0;34m\u001b[0m\u001b[0m\n\u001b[0;32m--> 120\u001b[0;31m \u001b[0mmodel\u001b[0m\u001b[0;34m,\u001b[0m \u001b[0mcv_result\u001b[0m \u001b[0;34m=\u001b[0m \u001b[0mtunefit\u001b[0m\u001b[0;34m(\u001b[0m\u001b[0mmodel\u001b[0m\u001b[0;34m,\u001b[0m \u001b[0mX_train\u001b[0m\u001b[0;34m.\u001b[0m\u001b[0m_get_numeric_data\u001b[0m\u001b[0;34m(\u001b[0m\u001b[0;34m)\u001b[0m\u001b[0;34m,\u001b[0m \u001b[0mX_test\u001b[0m\u001b[0;34m.\u001b[0m\u001b[0m_get_numeric_data\u001b[0m\u001b[0;34m(\u001b[0m\u001b[0;34m)\u001b[0m\u001b[0;34m,\u001b[0m \u001b[0my_train\u001b[0m\u001b[0;34m,\u001b[0m \u001b[0my_test\u001b[0m\u001b[0;34m,\u001b[0m\u001b[0mcv_folds\u001b[0m\u001b[0;34m=\u001b[0m\u001b[0;36m10\u001b[0m\u001b[0;34m)\u001b[0m\u001b[0;34m\u001b[0m\u001b[0;34m\u001b[0m\u001b[0m\n\u001b[0m",
            "\u001b[0;32m<ipython-input-48-a03203007514>\u001b[0m in \u001b[0;36mtunefit\u001b[0;34m(model, X_train, X_test, y_train, y_test, useTrainCV, cv_folds, early_stopping_rounds)\u001b[0m\n\u001b[1;32m     27\u001b[0m \u001b[0;34m\u001b[0m\u001b[0m\n\u001b[1;32m     28\u001b[0m         \u001b[0mprint\u001b[0m\u001b[0;34m(\u001b[0m\u001b[0;34m\"Begin Cross-validation Grid Search...\"\u001b[0m\u001b[0;34m)\u001b[0m\u001b[0;34m\u001b[0m\u001b[0;34m\u001b[0m\u001b[0m\n\u001b[0;32m---> 29\u001b[0;31m         \u001b[0mcvresult\u001b[0m \u001b[0;34m=\u001b[0m \u001b[0mxgb\u001b[0m\u001b[0;34m.\u001b[0m\u001b[0mcv\u001b[0m\u001b[0;34m(\u001b[0m\u001b[0mxgb_param\u001b[0m\u001b[0;34m,\u001b[0m \u001b[0mxgtrain\u001b[0m\u001b[0;34m,\u001b[0m \u001b[0mnum_boost_round\u001b[0m\u001b[0;34m=\u001b[0m\u001b[0mmodel\u001b[0m\u001b[0;34m.\u001b[0m\u001b[0mget_params\u001b[0m\u001b[0;34m(\u001b[0m\u001b[0;34m)\u001b[0m\u001b[0;34m[\u001b[0m\u001b[0;34m'n_estimators'\u001b[0m\u001b[0;34m]\u001b[0m\u001b[0;34m,\u001b[0m \u001b[0mnfold\u001b[0m\u001b[0;34m=\u001b[0m\u001b[0;36m5\u001b[0m\u001b[0;34m,\u001b[0m \u001b[0mmetrics\u001b[0m\u001b[0;34m=\u001b[0m\u001b[0;34m'map'\u001b[0m\u001b[0;34m,\u001b[0m \u001b[0mearly_stopping_rounds\u001b[0m\u001b[0;34m=\u001b[0m\u001b[0mearly_stopping_rounds\u001b[0m\u001b[0;34m)\u001b[0m\u001b[0;34m\u001b[0m\u001b[0;34m\u001b[0m\u001b[0m\n\u001b[0m\u001b[1;32m     30\u001b[0m \u001b[0;34m\u001b[0m\u001b[0m\n\u001b[1;32m     31\u001b[0m         \u001b[0mprint\u001b[0m\u001b[0;34m(\u001b[0m\u001b[0;34m\"Cross-validation Done. Setting parameters...\"\u001b[0m\u001b[0;34m)\u001b[0m\u001b[0;34m\u001b[0m\u001b[0;34m\u001b[0m\u001b[0m\n",
            "\u001b[0;32m/usr/local/lib/python3.8/dist-packages/xgboost/training.py\u001b[0m in \u001b[0;36mcv\u001b[0;34m(params, dtrain, num_boost_round, nfold, stratified, folds, metrics, obj, feval, maximize, early_stopping_rounds, fpreproc, as_pandas, verbose_eval, show_stdv, seed, callbacks, shuffle)\u001b[0m\n\u001b[1;32m    443\u001b[0m                            evaluation_result_list=None))\n\u001b[1;32m    444\u001b[0m         \u001b[0;32mfor\u001b[0m \u001b[0mfold\u001b[0m \u001b[0;32min\u001b[0m \u001b[0mcvfolds\u001b[0m\u001b[0;34m:\u001b[0m\u001b[0;34m\u001b[0m\u001b[0;34m\u001b[0m\u001b[0m\n\u001b[0;32m--> 445\u001b[0;31m             \u001b[0mfold\u001b[0m\u001b[0;34m.\u001b[0m\u001b[0mupdate\u001b[0m\u001b[0;34m(\u001b[0m\u001b[0mi\u001b[0m\u001b[0;34m,\u001b[0m \u001b[0mobj\u001b[0m\u001b[0;34m)\u001b[0m\u001b[0;34m\u001b[0m\u001b[0;34m\u001b[0m\u001b[0m\n\u001b[0m\u001b[1;32m    446\u001b[0m         \u001b[0mres\u001b[0m \u001b[0;34m=\u001b[0m \u001b[0maggcv\u001b[0m\u001b[0;34m(\u001b[0m\u001b[0;34m[\u001b[0m\u001b[0mf\u001b[0m\u001b[0;34m.\u001b[0m\u001b[0meval\u001b[0m\u001b[0;34m(\u001b[0m\u001b[0mi\u001b[0m\u001b[0;34m,\u001b[0m \u001b[0mfeval\u001b[0m\u001b[0;34m)\u001b[0m \u001b[0;32mfor\u001b[0m \u001b[0mf\u001b[0m \u001b[0;32min\u001b[0m \u001b[0mcvfolds\u001b[0m\u001b[0;34m]\u001b[0m\u001b[0;34m)\u001b[0m\u001b[0;34m\u001b[0m\u001b[0;34m\u001b[0m\u001b[0m\n\u001b[1;32m    447\u001b[0m \u001b[0;34m\u001b[0m\u001b[0m\n",
            "\u001b[0;32m/usr/local/lib/python3.8/dist-packages/xgboost/training.py\u001b[0m in \u001b[0;36mupdate\u001b[0;34m(self, iteration, fobj)\u001b[0m\n\u001b[1;32m    228\u001b[0m     \u001b[0;32mdef\u001b[0m \u001b[0mupdate\u001b[0m\u001b[0;34m(\u001b[0m\u001b[0mself\u001b[0m\u001b[0;34m,\u001b[0m \u001b[0miteration\u001b[0m\u001b[0;34m,\u001b[0m \u001b[0mfobj\u001b[0m\u001b[0;34m)\u001b[0m\u001b[0;34m:\u001b[0m\u001b[0;34m\u001b[0m\u001b[0;34m\u001b[0m\u001b[0m\n\u001b[1;32m    229\u001b[0m         \u001b[0;34m\"\"\"\"Update the boosters for one iteration\"\"\"\u001b[0m\u001b[0;34m\u001b[0m\u001b[0;34m\u001b[0m\u001b[0m\n\u001b[0;32m--> 230\u001b[0;31m         \u001b[0mself\u001b[0m\u001b[0;34m.\u001b[0m\u001b[0mbst\u001b[0m\u001b[0;34m.\u001b[0m\u001b[0mupdate\u001b[0m\u001b[0;34m(\u001b[0m\u001b[0mself\u001b[0m\u001b[0;34m.\u001b[0m\u001b[0mdtrain\u001b[0m\u001b[0;34m,\u001b[0m \u001b[0miteration\u001b[0m\u001b[0;34m,\u001b[0m \u001b[0mfobj\u001b[0m\u001b[0;34m)\u001b[0m\u001b[0;34m\u001b[0m\u001b[0;34m\u001b[0m\u001b[0m\n\u001b[0m\u001b[1;32m    231\u001b[0m \u001b[0;34m\u001b[0m\u001b[0m\n\u001b[1;32m    232\u001b[0m     \u001b[0;32mdef\u001b[0m \u001b[0meval\u001b[0m\u001b[0;34m(\u001b[0m\u001b[0mself\u001b[0m\u001b[0;34m,\u001b[0m \u001b[0miteration\u001b[0m\u001b[0;34m,\u001b[0m \u001b[0mfeval\u001b[0m\u001b[0;34m)\u001b[0m\u001b[0;34m:\u001b[0m\u001b[0;34m\u001b[0m\u001b[0;34m\u001b[0m\u001b[0m\n",
            "\u001b[0;32m/usr/local/lib/python3.8/dist-packages/xgboost/core.py\u001b[0m in \u001b[0;36mupdate\u001b[0;34m(self, dtrain, iteration, fobj)\u001b[0m\n\u001b[1;32m   1106\u001b[0m \u001b[0;34m\u001b[0m\u001b[0m\n\u001b[1;32m   1107\u001b[0m         \u001b[0;32mif\u001b[0m \u001b[0mfobj\u001b[0m \u001b[0;32mis\u001b[0m \u001b[0;32mNone\u001b[0m\u001b[0;34m:\u001b[0m\u001b[0;34m\u001b[0m\u001b[0;34m\u001b[0m\u001b[0m\n\u001b[0;32m-> 1108\u001b[0;31m             _check_call(_LIB.XGBoosterUpdateOneIter(self.handle, ctypes.c_int(iteration),\n\u001b[0m\u001b[1;32m   1109\u001b[0m                                                     dtrain.handle))\n\u001b[1;32m   1110\u001b[0m         \u001b[0;32melse\u001b[0m\u001b[0;34m:\u001b[0m\u001b[0;34m\u001b[0m\u001b[0;34m\u001b[0m\u001b[0m\n",
            "\u001b[0;32m/usr/local/lib/python3.8/dist-packages/xgboost/core.py\u001b[0m in \u001b[0;36m_check_call\u001b[0;34m(ret)\u001b[0m\n\u001b[1;32m    174\u001b[0m     \"\"\"\n\u001b[1;32m    175\u001b[0m     \u001b[0;32mif\u001b[0m \u001b[0mret\u001b[0m \u001b[0;34m!=\u001b[0m \u001b[0;36m0\u001b[0m\u001b[0;34m:\u001b[0m\u001b[0;34m\u001b[0m\u001b[0;34m\u001b[0m\u001b[0m\n\u001b[0;32m--> 176\u001b[0;31m         \u001b[0;32mraise\u001b[0m \u001b[0mXGBoostError\u001b[0m\u001b[0;34m(\u001b[0m\u001b[0mpy_str\u001b[0m\u001b[0;34m(\u001b[0m\u001b[0m_LIB\u001b[0m\u001b[0;34m.\u001b[0m\u001b[0mXGBGetLastError\u001b[0m\u001b[0;34m(\u001b[0m\u001b[0;34m)\u001b[0m\u001b[0;34m)\u001b[0m\u001b[0;34m)\u001b[0m\u001b[0;34m\u001b[0m\u001b[0;34m\u001b[0m\u001b[0m\n\u001b[0m\u001b[1;32m    177\u001b[0m \u001b[0;34m\u001b[0m\u001b[0m\n\u001b[1;32m    178\u001b[0m \u001b[0;34m\u001b[0m\u001b[0m\n",
            "\u001b[0;31mXGBoostError\u001b[0m: [07:10:54] /workspace/src/objective/regression_obj.cu:101: label must be in [0,1] for logistic regression\nStack trace:\n  [bt] (0) /usr/local/lib/python3.8/dist-packages/xgboost/./lib/libxgboost.so(dmlc::LogMessageFatal::~LogMessageFatal()+0x24) [0x7f4200e63cb4]\n  [bt] (1) /usr/local/lib/python3.8/dist-packages/xgboost/./lib/libxgboost.so(xgboost::obj::RegLossObj<xgboost::obj::LogisticClassification>::GetGradient(xgboost::HostDeviceVector<float> const&, xgboost::MetaInfo const&, int, xgboost::HostDeviceVector<xgboost::detail::GradientPairInternal<float> >*)+0x805) [0x7f420106d9d5]\n  [bt] (2) /usr/local/lib/python3.8/dist-packages/xgboost/./lib/libxgboost.so(xgboost::LearnerImpl::UpdateOneIter(int, xgboost::DMatrix*)+0x345) [0x7f4200efd505]\n  [bt] (3) /usr/local/lib/python3.8/dist-packages/xgboost/./lib/libxgboost.so(XGBoosterUpdateOneIter+0x35) [0x7f4200e60aa5]\n  [bt] (4) /usr/lib/x86_64-linux-gnu/libffi.so.6(ffi_call_unix64+0x4c) [0x7f4234723dae]\n  [bt] (5) /usr/lib/x86_64-linux-gnu/libffi.so.6(ffi_call+0x22f) [0x7f423472371f]\n  [bt] (6) /usr/lib/python3.8/lib-dynload/_ctypes.cpython-38-x86_64-linux-gnu.so(_ctypes_callproc+0x8ce) [0x7f423493934e]\n  [bt] (7) /usr/lib/python3.8/lib-dynload/_ctypes.cpython-38-x86_64-linux-gnu.so(+0xe4e4) [0x7f42349344e4]\n  [bt] (8) /usr/bin/python3(_PyObject_MakeTpCall+0x34c) [0x5d8d8c]\n\n"
          ]
        }
      ],
      "source": [
        "n_jobs = 16\n",
        "\n",
        "def tunefit(model, X_train, X_test, y_train, y_test, useTrainCV=True, cv_folds=5, early_stopping_rounds=50):\n",
        "    '''XGBoost hyper-parameter tuning and report generation\n",
        "\n",
        "    Parameters\n",
        "    ----------\n",
        "        model: A xgboost.sklearn.XGBClassifier object\n",
        "        dtrain: Dataframe to train the model on\n",
        "        dtest: Dataframe to cross evaluate the model on\n",
        "        features: List of features to be used for training\n",
        "        useTrainCV: Whether to use cross-validation first\n",
        "        cv_folds: k of k-fold cross-validation\n",
        "        early_stopping_rounds: rounds to stop after no improvement\n",
        "\n",
        "    Returns\n",
        "    -------\n",
        "        model: trained and tuned XGBoost model\n",
        "        cv_result: cross-validation history, if useTrainCV is True\n",
        "    '''\n",
        "\n",
        "    if useTrainCV:\n",
        "        print(\"Training with Cross-Validation\")\n",
        "        xgb_param = model.get_xgb_params()\n",
        "        xgtrain = xgb.DMatrix(X_train, label=y_train)\n",
        "        xgtest = xgb.DMatrix(X_test)\n",
        "        \n",
        "        print(\"Begin Cross-validation Grid Search...\")\n",
        "        cvresult = xgb.cv(xgb_param, xgtrain, num_boost_round=model.get_params()['n_estimators'], nfold=5, metrics='map', early_stopping_rounds=early_stopping_rounds)\n",
        "        \n",
        "        print(\"Cross-validation Done. Setting parameters...\")\n",
        "        print(\"Best n_estimators = {}\".format(cvresult.shape[0]))\n",
        "        model.set_params(n_estimators=cvresult.shape[0])\n",
        "        \n",
        "        print(\"Saving tuned model...\")\n",
        "        joblib.dump(model, \"xgb-tuned.pk\")\n",
        "        \n",
        "    #Fit the modelorithm on the data\n",
        "    print(\"Training the model on given parameters...\")\n",
        "    model.fit(X_train, y_train,eval_metric='auc')\n",
        "    \n",
        "    print(\"Saving trained model...\")\n",
        "    joblib.dump(model, \"xgb-tuned-trained.pk\")\n",
        "    \n",
        "    # Predict training set\n",
        "    print(\"\\nPredicting the train set...\")\n",
        "    dtrain_predictions = model.predict(X_train)\n",
        "    dtrain_predprob = model.predict_proba(X_train)[:,1]\n",
        "        \n",
        "    print(\"Accuracy : %.4g\" % metrics.accuracy_score(y_train, dtrain_predictions))\n",
        "    print(\"AUC Score (Train): %f\" % metrics.roc_auc_score(y_train, dtrain_predprob))\n",
        "    \n",
        "    #Predict on testing data:\n",
        "    print(\"Predicting the test set...\")\n",
        "    predprob = model.predict_proba(X_test)[:,1]\n",
        "    print('AUC Score (Test): %f' % metrics.roc_auc_score(y_test, predprob))\n",
        "    \n",
        "    # Generating full report on test set\n",
        "    print(\"\\nModel Report on Test Set\")\n",
        "    y_pred = model.predict(X_test)\n",
        "    conf_mat=confusion_matrix(y_test,y_pred, [0,1])\n",
        "    plot_confusion_matrix(conf_mat,classes=[0,1],\n",
        "                      title='XGBoost | Confusion Matrix')\n",
        "    print(classification_report(y_test, y_pred))\n",
        "\n",
        "    # Feature Importance            \n",
        "    plot_importance(model)\n",
        "    plt.show()\n",
        "    \n",
        "    if useTrainCV:\n",
        "        return model, cvresult\n",
        "    return model\n",
        "\n",
        "def plot_confusion_matrix(cm, classes,\n",
        "                          normalize=False,\n",
        "                          title='Confusion matrix',\n",
        "                          cmap=plt.cm.Blues):\n",
        "    \"\"\"\n",
        "    This function prints and plots the confusion matrix.\n",
        "    Normalization can be applied by setting `normalize=True`.\n",
        "    \"\"\"\n",
        "    if normalize:\n",
        "        cm = cm.astype('float') / cm.sum(axis=1)[:, np.newaxis]\n",
        "        print(\"Normalized confusion matrix\")\n",
        "    else:\n",
        "        print('Confusion matrix, without normalization')\n",
        "    plt.imshow(cm, interpolation='nearest', cmap=cmap)\n",
        "    plt.title(title)\n",
        "    plt.colorbar()\n",
        "    tick_marks = np.arange(len(classes))\n",
        "    plt.xticks(tick_marks, classes, rotation=45)\n",
        "    plt.yticks(tick_marks, classes)\n",
        "\n",
        "    fmt = '.2f' if normalize else 'd'\n",
        "    thresh = cm.max() / 2.\n",
        "    for i, j in itertools.product(range(cm.shape[0]), range(cm.shape[1])):\n",
        "        plt.text(j, i, format(cm[i, j], fmt),\n",
        "                 horizontalalignment=\"center\",\n",
        "                 color=\"white\" if cm[i, j] > thresh else \"black\")\n",
        "\n",
        "    plt.tight_layout()\n",
        "    plt.ylabel('True label')\n",
        "    plt.xlabel('Predicted label')\n",
        "    plt.show()\n",
        "\n",
        "model = XGBClassifier(\n",
        "        learning_rate = 0.1,\n",
        "        n_estimators=1000,\n",
        "        max_depth=5,\n",
        "        min_child_weight=1,\n",
        "        gamma=0,\n",
        "        subsample=0.8,\n",
        "        colsample_bytree=0.8,\n",
        "        objective= 'binary:logistic',\n",
        "        nthread=n_jobs,\n",
        "        scale_pos_weight=1,\n",
        "        seed=42,\n",
        "        silent=False)\n",
        "\n",
        "model, cv_result = tunefit(model, X_train._get_numeric_data(), X_test._get_numeric_data(), y_train, y_test,cv_folds=10)"
      ]
    },
    {
      "cell_type": "code",
      "execution_count": null,
      "metadata": {
        "id": "eMOId4i-X-Jq"
      },
      "outputs": [],
      "source": [
        "# Tune max depth & min child weight\n"
      ]
    },
    {
      "cell_type": "code",
      "execution_count": null,
      "metadata": {
        "id": "pVivFCYyH0CM"
      },
      "outputs": [],
      "source": [
        "param = {\n",
        "    'max_depth': 3,  # the maximum depth of each tree\n",
        "    'eta': 0.3,  # the training step for each iteration\n",
        "    'silent': 1,  # logging mode - quiet\n",
        "    'objective': 'multi:softprob',  # error evaluation for multiclass training\n",
        "    'num_class': 3}  # the number of classes that exist in this datset\n",
        "num_round = 20  # the number of training iterations"
      ]
    },
    {
      "cell_type": "code",
      "execution_count": null,
      "metadata": {
        "id": "yye6_zKhH4OZ"
      },
      "outputs": [],
      "source": [
        "xgb_model_mpg = xgb.XGBClassifier(max_depth= 3, n_estimators=100, eta=0.3)"
      ]
    },
    {
      "cell_type": "code",
      "execution_count": null,
      "metadata": {
        "id": "8zxSPvBDH6A-",
        "colab": {
          "base_uri": "https://localhost:8080/",
          "height": 363
        },
        "outputId": "081df399-0bca-4262-d73c-3dd7e8bf177c"
      },
      "outputs": [
        {
          "output_type": "error",
          "ename": "ValueError",
          "evalue": "ignored",
          "traceback": [
            "\u001b[0;31m---------------------------------------------------------------------------\u001b[0m",
            "\u001b[0;31mValueError\u001b[0m                                Traceback (most recent call last)",
            "\u001b[0;32m<ipython-input-43-3e0dedd64a7b>\u001b[0m in \u001b[0;36m<module>\u001b[0;34m\u001b[0m\n\u001b[0;32m----> 1\u001b[0;31m \u001b[0mxgb_model_mpg\u001b[0m\u001b[0;34m.\u001b[0m\u001b[0mfit\u001b[0m\u001b[0;34m(\u001b[0m\u001b[0mX\u001b[0m\u001b[0;34m,\u001b[0m \u001b[0my\u001b[0m\u001b[0;34m)\u001b[0m\u001b[0;34m\u001b[0m\u001b[0;34m\u001b[0m\u001b[0m\n\u001b[0m",
            "\u001b[0;32m/usr/local/lib/python3.8/dist-packages/xgboost/sklearn.py\u001b[0m in \u001b[0;36mfit\u001b[0;34m(self, X, y, sample_weight, eval_set, eval_metric, early_stopping_rounds, verbose, xgb_model, sample_weight_eval_set, callbacks)\u001b[0m\n\u001b[1;32m    723\u001b[0m                                     missing=self.missing, nthread=self.n_jobs)\n\u001b[1;32m    724\u001b[0m         \u001b[0;32melse\u001b[0m\u001b[0;34m:\u001b[0m\u001b[0;34m\u001b[0m\u001b[0;34m\u001b[0m\u001b[0m\n\u001b[0;32m--> 725\u001b[0;31m             train_dmatrix = DMatrix(X, label=training_labels,\n\u001b[0m\u001b[1;32m    726\u001b[0m                                     missing=self.missing, nthread=self.n_jobs)\n\u001b[1;32m    727\u001b[0m \u001b[0;34m\u001b[0m\u001b[0m\n",
            "\u001b[0;32m/usr/local/lib/python3.8/dist-packages/xgboost/core.py\u001b[0m in \u001b[0;36m__init__\u001b[0;34m(self, data, label, missing, weight, silent, feature_names, feature_types, nthread)\u001b[0m\n\u001b[1;32m    376\u001b[0m             \u001b[0;32mreturn\u001b[0m\u001b[0;34m\u001b[0m\u001b[0;34m\u001b[0m\u001b[0m\n\u001b[1;32m    377\u001b[0m \u001b[0;34m\u001b[0m\u001b[0m\n\u001b[0;32m--> 378\u001b[0;31m         data, feature_names, feature_types = _maybe_pandas_data(data,\n\u001b[0m\u001b[1;32m    379\u001b[0m                                                                 \u001b[0mfeature_names\u001b[0m\u001b[0;34m,\u001b[0m\u001b[0;34m\u001b[0m\u001b[0;34m\u001b[0m\u001b[0m\n\u001b[1;32m    380\u001b[0m                                                                 feature_types)\n",
            "\u001b[0;32m/usr/local/lib/python3.8/dist-packages/xgboost/core.py\u001b[0m in \u001b[0;36m_maybe_pandas_data\u001b[0;34m(data, feature_names, feature_types)\u001b[0m\n\u001b[1;32m    237\u001b[0m         msg = \"\"\"DataFrame.dtypes for data must be int, float or bool.\n\u001b[1;32m    238\u001b[0m                 Did not expect the data types in fields \"\"\"\n\u001b[0;32m--> 239\u001b[0;31m         \u001b[0;32mraise\u001b[0m \u001b[0mValueError\u001b[0m\u001b[0;34m(\u001b[0m\u001b[0mmsg\u001b[0m \u001b[0;34m+\u001b[0m \u001b[0;34m', '\u001b[0m\u001b[0;34m.\u001b[0m\u001b[0mjoin\u001b[0m\u001b[0;34m(\u001b[0m\u001b[0mbad_fields\u001b[0m\u001b[0;34m)\u001b[0m\u001b[0;34m)\u001b[0m\u001b[0;34m\u001b[0m\u001b[0;34m\u001b[0m\u001b[0m\n\u001b[0m\u001b[1;32m    240\u001b[0m \u001b[0;34m\u001b[0m\u001b[0m\n\u001b[1;32m    241\u001b[0m     \u001b[0;32mif\u001b[0m \u001b[0mfeature_names\u001b[0m \u001b[0;32mis\u001b[0m \u001b[0;32mNone\u001b[0m\u001b[0;34m:\u001b[0m\u001b[0;34m\u001b[0m\u001b[0;34m\u001b[0m\u001b[0m\n",
            "\u001b[0;31mValueError\u001b[0m: DataFrame.dtypes for data must be int, float or bool.\n                Did not expect the data types in fields mvar1, mvar6, mvar7, mvar8, mvar9, mvar10, mvar11, mvar12, mvar13, mvar15, mvar16, mvar17, mvar18, mvar20, mvar25, mvar26, mvar27, mvar28, mvar29, mvar30, mvar31, mvar32, mvar34, mvar35, mvar36, mvar37, mvar38, mvar39, mvar40, mvar41, mvar42, mvar43, mvar45, mvar46, mvar47, mvar50, mvar51"
          ]
        }
      ],
      "source": [
        "xgb_model_mpg.fit(X, y)"
      ]
    },
    {
      "cell_type": "code",
      "execution_count": null,
      "metadata": {
        "id": "Vl-jVud6ITac"
      },
      "outputs": [],
      "source": [
        "res = xgb_model_mpg.predict(test.drop('application_key', axis=1))\n",
        "\n",
        "# res = xgb_model_mpg.predict(test.drop(columns=['application_key', 'preds']))"
      ]
    },
    {
      "cell_type": "code",
      "execution_count": null,
      "metadata": {
        "id": "iwRBgQiMIfUo"
      },
      "outputs": [],
      "source": [
        "probs = xgb_model_mpg.predict_proba(test.drop('application_key', axis=1))\n",
        "# probs = xgb_model_mpg.predict_proba(test.drop(columns=['application_key', 'preds']))"
      ]
    },
    {
      "cell_type": "code",
      "execution_count": null,
      "metadata": {
        "id": "aCA16k0YIqt8"
      },
      "outputs": [],
      "source": [
        "# test[\"preds\"] = probs[:, 1]\n",
        "\n",
        "test[\"preds\"] = res\n",
        "final_sub = test[[\"application_key\", \"preds\"]]\n",
        "final_sub=final_sub.set_index('application_key')\n",
        "final_sub.to_csv(\"MadrasAnalytics_10.csv\", header = False)"
      ]
    },
    {
      "cell_type": "markdown",
      "metadata": {
        "id": "8TtovV7CbZp-"
      },
      "source": [
        "## Logistic regression"
      ]
    },
    {
      "cell_type": "markdown",
      "metadata": {
        "id": "7aiT-mIj7RzV"
      },
      "source": [
        "NOT GOOD SCORE!!"
      ]
    },
    {
      "cell_type": "code",
      "execution_count": null,
      "metadata": {
        "colab": {
          "base_uri": "https://localhost:8080/"
        },
        "id": "eyw6oSYKLXpl",
        "outputId": "5475368d-f914-4b22-aeba-9f52cfedc13f"
      },
      "outputs": [
        {
          "output_type": "execute_result",
          "data": {
            "text/plain": [
              "((66400, 51), (16600, 51), (66400,), (16600,))"
            ]
          },
          "metadata": {},
          "execution_count": 28
        }
      ],
      "source": [
        "X_train, X_test,y_train, y_test = train_test_split(X, y, train_size=0.8, test_size=0.2, random_state=22)\n",
        "X_train.shape, X_test.shape, y_train.shape, y_test.shape"
      ]
    },
    {
      "cell_type": "code",
      "execution_count": null,
      "metadata": {
        "id": "ldKSrUK6bcPx",
        "colab": {
          "base_uri": "https://localhost:8080/",
          "height": 172
        },
        "outputId": "177dbb51-c9b5-43f6-c682-bc47d7eab18f"
      },
      "outputs": [
        {
          "output_type": "error",
          "ename": "NameError",
          "evalue": "ignored",
          "traceback": [
            "\u001b[0;31m---------------------------------------------------------------------------\u001b[0m",
            "\u001b[0;31mNameError\u001b[0m                                 Traceback (most recent call last)",
            "\u001b[0;32m<ipython-input-30-10295f4d6c92>\u001b[0m in \u001b[0;36m<module>\u001b[0;34m\u001b[0m\n\u001b[0;32m----> 1\u001b[0;31m \u001b[0mlogreg\u001b[0m\u001b[0;34m=\u001b[0m\u001b[0mLogisticRegression\u001b[0m\u001b[0;34m(\u001b[0m\u001b[0mmax_iter\u001b[0m\u001b[0;34m=\u001b[0m\u001b[0;36m2000\u001b[0m\u001b[0;34m)\u001b[0m\u001b[0;34m\u001b[0m\u001b[0;34m\u001b[0m\u001b[0m\n\u001b[0m",
            "\u001b[0;31mNameError\u001b[0m: name 'LogisticRegression' is not defined"
          ]
        }
      ],
      "source": [
        "logreg=LogisticRegression(max_iter=2000)"
      ]
    },
    {
      "cell_type": "code",
      "execution_count": null,
      "metadata": {
        "id": "M2SaKTP5bytf"
      },
      "outputs": [],
      "source": [
        "model = logreg.fit(X_train, y_train)\n",
        "y_pred=logreg.predict(X_test)\n",
        "y_prob=logreg.predict_proba(X_test)\n",
        "\n",
        "accuracy = sum(y_pred==y_test)/y_pred.shape[0] * 100\n",
        "print('Accuracy: ', round(accuracy, 2), '%')"
      ]
    },
    {
      "cell_type": "code",
      "execution_count": null,
      "metadata": {
        "id": "6XrZmSAD5sFE"
      },
      "outputs": [],
      "source": [
        "test.drop(columns=['application_key', 'preds']).info()"
      ]
    },
    {
      "cell_type": "code",
      "execution_count": null,
      "metadata": {
        "id": "GXkKdN7v06sT"
      },
      "outputs": [],
      "source": [
        "test['preds'] = \"\""
      ]
    },
    {
      "cell_type": "code",
      "execution_count": null,
      "metadata": {
        "id": "1nwAFfBt41DA"
      },
      "outputs": [],
      "source": [
        "y_pred = logreg.predict(test.drop(columns=['application_key', 'preds']))\n",
        "y_prob=logreg.predict_proba(test.drop(columns=['application_key', 'preds']))\n",
        "\n",
        "test[\"preds\"] = y_pred\n",
        "final_sub = test[[\"application_key\", \"preds\"]]\n",
        "final_sub=final_sub.set_index('application_key')\n",
        "final_sub.to_csv(\"MadrasAnalytics_2.csv\", header = False)"
      ]
    },
    {
      "cell_type": "markdown",
      "metadata": {
        "id": "nH4rqQPo-wFx"
      },
      "source": [
        "Feature importance is defined as a method that allocates a value to an input feature and these values which we are allocated based on how much they are helpful in predicting the target variable."
      ]
    },
    {
      "cell_type": "code",
      "execution_count": null,
      "metadata": {
        "id": "GxggL-tn-iZk"
      },
      "outputs": [],
      "source": [
        "from matplotlib import pyplot"
      ]
    },
    {
      "cell_type": "code",
      "execution_count": null,
      "metadata": {
        "id": "_pOL4UBW-Z0U"
      },
      "outputs": [],
      "source": [
        "importance = model.coef_[0]\n",
        "\n",
        "for i,j in enumerate(importance):\n",
        "\tprint('Feature: %0d, Score: %.5f' % (i,j))\n",
        "\n",
        "pyplot.bar([X for X in range(len(importance))], importance)\n",
        "pyplot.show()"
      ]
    },
    {
      "cell_type": "code",
      "execution_count": null,
      "metadata": {
        "id": "oJcQARgam7aG"
      },
      "outputs": [],
      "source": [
        "# building the model and fitting the data\n",
        "import statsmodels.api as sm\n",
        "\n",
        "log_reg = sm.Logit(y_train, X_train).fit()\n",
        "print(log_reg.summary())"
      ]
    }
  ],
  "metadata": {
    "colab": {
      "collapsed_sections": [
        "XSWObi00VS5J",
        "Rju6nnzZ9d_M"
      ],
      "provenance": [],
      "toc_visible": true
    },
    "kernelspec": {
      "display_name": "Python 3",
      "name": "python3"
    },
    "language_info": {
      "name": "python"
    }
  },
  "nbformat": 4,
  "nbformat_minor": 0
}